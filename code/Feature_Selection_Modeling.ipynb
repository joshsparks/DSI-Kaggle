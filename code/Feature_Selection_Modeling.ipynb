{
 "cells": [
  {
   "cell_type": "markdown",
   "metadata": {},
   "source": [
    "## MODELING\n",
    "\n",
    "### Roadmap:\n",
    "(1) Random Forest for feature importance\n",
    "\n",
    "(2) Clustering (optional)\n",
    "\n",
    "(3) SVM"
   ]
  },
  {
   "cell_type": "code",
   "execution_count": 1,
   "metadata": {
    "collapsed": true
   },
   "outputs": [],
   "source": [
    "import numpy as np\n",
    "import pandas as pd"
   ]
  },
  {
   "cell_type": "code",
   "execution_count": 2,
   "metadata": {
    "collapsed": true
   },
   "outputs": [],
   "source": [
    "import matplotlib.pyplot as plt\n",
    "%matplotlib inline"
   ]
  },
  {
   "cell_type": "code",
   "execution_count": 3,
   "metadata": {
    "collapsed": true
   },
   "outputs": [],
   "source": [
    "from __future__ import division"
   ]
  },
  {
   "cell_type": "code",
   "execution_count": 4,
   "metadata": {
    "collapsed": true
   },
   "outputs": [],
   "source": [
    "import seaborn as sns"
   ]
  },
  {
   "cell_type": "code",
   "execution_count": 5,
   "metadata": {
    "collapsed": true
   },
   "outputs": [],
   "source": [
    "from sklearn.model_selection import cross_val_score, cross_val_predict\n",
    "from sklearn.ensemble import RandomForestClassifier, ExtraTreesClassifier\n",
    "from sklearn.model_selection import train_test_split\n",
    "from sklearn.metrics import confusion_matrix, classification_report"
   ]
  },
  {
   "cell_type": "code",
   "execution_count": 6,
   "metadata": {
    "collapsed": true
   },
   "outputs": [],
   "source": [
    "from sklearn.metrics import roc_auc_score"
   ]
  },
  {
   "cell_type": "code",
   "execution_count": 7,
   "metadata": {
    "collapsed": true
   },
   "outputs": [],
   "source": [
    "pd.set_option('display.max_columns', 50)\n",
    "pd.set_option('display.max_rows', 100)"
   ]
  },
  {
   "cell_type": "code",
   "execution_count": 8,
   "metadata": {
    "collapsed": true
   },
   "outputs": [],
   "source": [
    "train = pd.read_csv(\"../assets/train_complete_mg.csv\")"
   ]
  },
  {
   "cell_type": "code",
   "execution_count": 9,
   "metadata": {
    "collapsed": true
   },
   "outputs": [],
   "source": [
    "test = pd.read_csv(\"../assets/test_complete_mg.csv\")"
   ]
  },
  {
   "cell_type": "code",
   "execution_count": 10,
   "metadata": {
    "collapsed": true
   },
   "outputs": [],
   "source": [
    "X = train.drop(\"WnvPresent\", axis = 1) ##setting up df of possible explanatory variables"
   ]
  },
  {
   "cell_type": "code",
   "execution_count": 11,
   "metadata": {
    "collapsed": true
   },
   "outputs": [],
   "source": [
    "from sklearn.preprocessing import LabelEncoder"
   ]
  },
  {
   "cell_type": "code",
   "execution_count": 12,
   "metadata": {
    "collapsed": true
   },
   "outputs": [],
   "source": [
    "le = LabelEncoder()"
   ]
  },
  {
   "cell_type": "code",
   "execution_count": 13,
   "metadata": {
    "collapsed": true
   },
   "outputs": [],
   "source": [
    "X[\"TrapCoded\"] = le.fit_transform(X.Trap)"
   ]
  },
  {
   "cell_type": "code",
   "execution_count": 14,
   "metadata": {
    "collapsed": false
   },
   "outputs": [],
   "source": [
    "X.drop([\"Trap\", \"YMD\", \"Sunrise\", \"Sunset\", \"Species\", \"NumMosquitos\" ], axis = 1, inplace = True)"
   ]
  },
  {
   "cell_type": "code",
   "execution_count": 15,
   "metadata": {
    "collapsed": true
   },
   "outputs": [],
   "source": [
    "y = train.WnvPresent ##and array of dependent variable"
   ]
  },
  {
   "cell_type": "code",
   "execution_count": 16,
   "metadata": {
    "collapsed": true
   },
   "outputs": [],
   "source": [
    "X_train, X_test, y_train, y_test = train_test_split(X, y, test_size = 0.33, random_state = 19)\n",
    "##splitting up original train file into train-test sections, to validate model"
   ]
  },
  {
   "cell_type": "code",
   "execution_count": 17,
   "metadata": {
    "collapsed": true
   },
   "outputs": [],
   "source": [
    "from sklearn.model_selection import StratifiedKFold"
   ]
  },
  {
   "cell_type": "code",
   "execution_count": 18,
   "metadata": {
    "collapsed": false
   },
   "outputs": [],
   "source": [
    "cv = StratifiedKFold(n_splits=3, shuffle=True, random_state=24) ##stratifying the cross validation"
   ]
  },
  {
   "cell_type": "code",
   "execution_count": 19,
   "metadata": {
    "collapsed": false
   },
   "outputs": [
    {
     "name": "stdout",
     "output_type": "stream",
     "text": [
      "0.931541106596\n"
     ]
    }
   ],
   "source": [
    "rf = RandomForestClassifier(n_jobs=-1)\n",
    "rf.fit(X_train, y_train)\n",
    "y_pred = rf.predict(X_test)\n",
    "print rf.score(X_test, y_test)"
   ]
  },
  {
   "cell_type": "code",
   "execution_count": 20,
   "metadata": {
    "collapsed": false
   },
   "outputs": [
    {
     "data": {
      "text/plain": [
       "array([[2959,   64],\n",
       "       [ 155,   21]])"
      ]
     },
     "execution_count": 20,
     "metadata": {},
     "output_type": "execute_result"
    }
   ],
   "source": [
    "confusion_matrix(y_test, y_pred)"
   ]
  },
  {
   "cell_type": "code",
   "execution_count": 21,
   "metadata": {
    "collapsed": true
   },
   "outputs": [],
   "source": [
    "##Confusion Matrix: \n",
    "##True Negatives = 2969\n",
    "##False Negatives = 152 (classified 0, actually 1)\n",
    "##True Positives = 24\n",
    "##False Positives = 54 (predicted 1, actually 0)"
   ]
  },
  {
   "cell_type": "code",
   "execution_count": 22,
   "metadata": {
    "collapsed": false
   },
   "outputs": [
    {
     "name": "stdout",
     "output_type": "stream",
     "text": [
      "             precision    recall  f1-score   support\n",
      "\n",
      "          0       0.95      0.98      0.96      3023\n",
      "          1       0.25      0.12      0.16       176\n",
      "\n",
      "avg / total       0.91      0.93      0.92      3199\n",
      "\n"
     ]
    }
   ],
   "source": [
    "print(classification_report(y_test, y_pred))"
   ]
  },
  {
   "cell_type": "code",
   "execution_count": 23,
   "metadata": {
    "collapsed": true
   },
   "outputs": [],
   "source": [
    "##Classification Report:\n",
    "#Precision: when predicting, 0, how often correct? = TN / TN + FN  \n",
    "    #when predicting 1, how often correct? = TP / TP + FP \n",
    "    \n",
    "#Recall(1) = Sensitivity = TP / TP + FN = \n",
    "    #Recall(0) = How often does model predict no, when it is actually no?\n",
    "            #TN / TN + FP\n",
    "#f1-score = weighted average of precision and recall\n",
    "    #f1 = 2*(precision*recall) / (precision+recall)\n",
    "\n",
    "#support = number of observations for each class in actual data (not predictions)"
   ]
  },
  {
   "cell_type": "code",
   "execution_count": 24,
   "metadata": {
    "collapsed": false
   },
   "outputs": [
    {
     "data": {
      "text/plain": [
       "(-1, 39)"
      ]
     },
     "execution_count": 24,
     "metadata": {},
     "output_type": "execute_result"
    },
    {
     "data": {
      "image/png": "[encoded data removed]",
      "text/plain": [
       "<matplotlib.figure.Figure at 0x10c67cad0>"
      ]
     },
     "metadata": {},
     "output_type": "display_data"
    }
   ],
   "source": [
    "all(rf.feature_importances_ == np.mean([tree.feature_importances_ for tree in rf.estimators_], axis=0))\n",
    "\n",
    "importances = rf.feature_importances_\n",
    "# calculate the standard deviation of feature importances by looping over the trees in the random forest\n",
    "# \n",
    "\n",
    "std = np.std([tree.feature_importances_ for tree in rf.estimators_], axis=0)\n",
    "\n",
    "indices = np.argsort(importances)[::-1]\n",
    "feature_names = X.columns\n",
    "\n",
    "# Plot the feature importances of the forest\n",
    "plt.figure()\n",
    "plt.title(\"Feature importances\")\n",
    "plt.bar(range(X.shape[1]), importances[indices],\n",
    "       color=\"r\", yerr=std[indices], align=\"center\")\n",
    "plt.xticks(range(X.shape[1]), feature_names[indices], rotation=90)\n",
    "plt.xlim([-1, X.shape[1]])"
   ]
  },
  {
   "cell_type": "code",
   "execution_count": 25,
   "metadata": {
    "collapsed": false
   },
   "outputs": [
    {
     "name": "stdout",
     "output_type": "stream",
     "text": [
      "Random Forest Score:\t0.94 ± 0.0\n"
     ]
    }
   ],
   "source": [
    "s = cross_val_score(rf, X_train, y_train, cv=cv, n_jobs=-1)\n",
    "print \"{} Score:\\t{:0.3} ± {:0.3}\".format(\"Random Forest\", s.mean().round(3), s.std().round(3))\n"
   ]
  },
  {
   "cell_type": "code",
   "execution_count": 26,
   "metadata": {
    "collapsed": false
   },
   "outputs": [
    {
     "name": "stdout",
     "output_type": "stream",
     "text": [
      "0.672082218146\n"
     ]
    }
   ],
   "source": [
    "probabilities = rf.predict_proba(X_test) # Need the second value\n",
    "\n",
    "probability_list = [] # Becomes the list of probabilities\n",
    "for i in probabilities:\n",
    "    probability_list.append(i[1])\n",
    "    probabilities = probability_list\n",
    "\n",
    "roc_auc = roc_auc_score(y_test, probabilities)\n",
    "print roc_auc"
   ]
  },
  {
   "cell_type": "code",
   "execution_count": 27,
   "metadata": {
    "collapsed": false
   },
   "outputs": [],
   "source": [
    "X2 = X[[\"TrapCoded\", \"RESTUANS\", \"PIPIENS\", \"DaylightMinutes\", \"DewPoint\", \"Tmax\", \"Week\", \"Dist_to_Closest_Spray\", \"Days_Since_Spray\"]]"
   ]
  },
  {
   "cell_type": "code",
   "execution_count": 28,
   "metadata": {
    "collapsed": false
   },
   "outputs": [
    {
     "data": {
      "text/html": [
       "<div>\n",
       "<table border=\"1\" class=\"dataframe\">\n",
       "  <thead>\n",
       "    <tr style=\"text-align: right;\">\n",
       "      <th></th>\n",
       "      <th>TrapCoded</th>\n",
       "      <th>RESTUANS</th>\n",
       "      <th>PIPIENS</th>\n",
       "      <th>DaylightMinutes</th>\n",
       "      <th>DewPoint</th>\n",
       "      <th>Tmax</th>\n",
       "      <th>Week</th>\n",
       "      <th>Dist_to_Closest_Spray</th>\n",
       "      <th>Days_Since_Spray</th>\n",
       "    </tr>\n",
       "  </thead>\n",
       "  <tbody>\n",
       "    <tr>\n",
       "      <th>0</th>\n",
       "      <td>1</td>\n",
       "      <td>1</td>\n",
       "      <td>1</td>\n",
       "      <td>896</td>\n",
       "      <td>59</td>\n",
       "      <td>88</td>\n",
       "      <td>22</td>\n",
       "      <td>1.5</td>\n",
       "      <td>720</td>\n",
       "    </tr>\n",
       "    <tr>\n",
       "      <th>1</th>\n",
       "      <td>1</td>\n",
       "      <td>1</td>\n",
       "      <td>0</td>\n",
       "      <td>896</td>\n",
       "      <td>59</td>\n",
       "      <td>88</td>\n",
       "      <td>22</td>\n",
       "      <td>1.5</td>\n",
       "      <td>720</td>\n",
       "    </tr>\n",
       "    <tr>\n",
       "      <th>2</th>\n",
       "      <td>6</td>\n",
       "      <td>1</td>\n",
       "      <td>0</td>\n",
       "      <td>896</td>\n",
       "      <td>58</td>\n",
       "      <td>88</td>\n",
       "      <td>22</td>\n",
       "      <td>1.5</td>\n",
       "      <td>720</td>\n",
       "    </tr>\n",
       "    <tr>\n",
       "      <th>3</th>\n",
       "      <td>13</td>\n",
       "      <td>1</td>\n",
       "      <td>1</td>\n",
       "      <td>896</td>\n",
       "      <td>58</td>\n",
       "      <td>88</td>\n",
       "      <td>22</td>\n",
       "      <td>1.5</td>\n",
       "      <td>720</td>\n",
       "    </tr>\n",
       "    <tr>\n",
       "      <th>4</th>\n",
       "      <td>13</td>\n",
       "      <td>1</td>\n",
       "      <td>0</td>\n",
       "      <td>896</td>\n",
       "      <td>58</td>\n",
       "      <td>88</td>\n",
       "      <td>22</td>\n",
       "      <td>1.5</td>\n",
       "      <td>720</td>\n",
       "    </tr>\n",
       "  </tbody>\n",
       "</table>\n",
       "</div>"
      ],
      "text/plain": [
       "   TrapCoded  RESTUANS  PIPIENS  DaylightMinutes  DewPoint  Tmax  Week  \\\n",
       "0          1         1        1              896        59    88    22   \n",
       "1          1         1        0              896        59    88    22   \n",
       "2          6         1        0              896        58    88    22   \n",
       "3         13         1        1              896        58    88    22   \n",
       "4         13         1        0              896        58    88    22   \n",
       "\n",
       "   Dist_to_Closest_Spray  Days_Since_Spray  \n",
       "0                    1.5               720  \n",
       "1                    1.5               720  \n",
       "2                    1.5               720  \n",
       "3                    1.5               720  \n",
       "4                    1.5               720  "
      ]
     },
     "execution_count": 28,
     "metadata": {},
     "output_type": "execute_result"
    }
   ],
   "source": [
    "X2.head()"
   ]
  },
  {
   "cell_type": "code",
   "execution_count": 29,
   "metadata": {
    "collapsed": true
   },
   "outputs": [],
   "source": [
    "y = train.WnvPresent"
   ]
  },
  {
   "cell_type": "code",
   "execution_count": 30,
   "metadata": {
    "collapsed": true
   },
   "outputs": [],
   "source": [
    "X_train, X_test, y_train, y_test = train_test_split(X2, y, test_size = 0.33, random_state = 54, stratify = y)"
   ]
  },
  {
   "cell_type": "code",
   "execution_count": 31,
   "metadata": {
    "collapsed": false
   },
   "outputs": [
    {
     "name": "stdout",
     "output_type": "stream",
     "text": [
      "0.932791497343\n"
     ]
    }
   ],
   "source": [
    "rf = RandomForestClassifier(n_jobs=-1)\n",
    "rf.fit(X_train, y_train)\n",
    "y_pred = rf.predict(X_test)\n",
    "print rf.score(X_test, y_test)"
   ]
  },
  {
   "cell_type": "code",
   "execution_count": 32,
   "metadata": {
    "collapsed": false
   },
   "outputs": [
    {
     "data": {
      "text/plain": [
       "array([[2966,   67],\n",
       "       [ 148,   18]])"
      ]
     },
     "execution_count": 32,
     "metadata": {},
     "output_type": "execute_result"
    }
   ],
   "source": [
    "confusion_matrix(y_test, y_pred)"
   ]
  },
  {
   "cell_type": "code",
   "execution_count": 33,
   "metadata": {
    "collapsed": false
   },
   "outputs": [
    {
     "name": "stdout",
     "output_type": "stream",
     "text": [
      "             precision    recall  f1-score   support\n",
      "\n",
      "          0       0.95      0.98      0.97      3033\n",
      "          1       0.21      0.11      0.14       166\n",
      "\n",
      "avg / total       0.91      0.93      0.92      3199\n",
      "\n"
     ]
    }
   ],
   "source": [
    "print(classification_report(y_test, y_pred))"
   ]
  },
  {
   "cell_type": "code",
   "execution_count": 34,
   "metadata": {
    "collapsed": false
   },
   "outputs": [
    {
     "data": {
      "text/plain": [
       "(-1, 9)"
      ]
     },
     "execution_count": 34,
     "metadata": {},
     "output_type": "execute_result"
    },
    {
     "data": {
      "image/png": "[encoded data removed]",
      "text/plain": [
       "<matplotlib.figure.Figure at 0x10d034c50>"
      ]
     },
     "metadata": {},
     "output_type": "display_data"
    }
   ],
   "source": [
    "all(rf.feature_importances_ == np.mean([tree.feature_importances_ for tree in rf.estimators_], axis=0))\n",
    "\n",
    "importances = rf.feature_importances_\n",
    "# calculate the standard deviation of feature importances by looping over the trees in the random forest\n",
    "# \n",
    "\n",
    "std = np.std([tree.feature_importances_ for tree in rf.estimators_], axis=0)\n",
    "\n",
    "indices = np.argsort(importances)[::-1]\n",
    "feature_names = X2.columns\n",
    "\n",
    "# Plot the feature importances of the forest\n",
    "plt.figure()\n",
    "plt.title(\"Feature importances\")\n",
    "plt.bar(range(X2.shape[1]), importances[indices],\n",
    "       color=\"r\", yerr=std[indices], align=\"center\")\n",
    "plt.xticks(range(X2.shape[1]), feature_names[indices], rotation=90)\n",
    "plt.xlim([-1, X2.shape[1]])"
   ]
  },
  {
   "cell_type": "code",
   "execution_count": 35,
   "metadata": {
    "collapsed": false
   },
   "outputs": [
    {
     "name": "stdout",
     "output_type": "stream",
     "text": [
      "Random Forest Score:\t0.93 ± 0.003\n"
     ]
    }
   ],
   "source": [
    "s = cross_val_score(rf, X_train, y_train, cv=cv, n_jobs=-1)\n",
    "print \"{} Score:\\t{:0.3} ± {:0.3}\".format(\"Random Forest\", s.mean().round(3), s.std().round(3))\n"
   ]
  },
  {
   "cell_type": "code",
   "execution_count": 36,
   "metadata": {
    "collapsed": false
   },
   "outputs": [
    {
     "name": "stdout",
     "output_type": "stream",
     "text": [
      "0.725576887173\n"
     ]
    }
   ],
   "source": [
    "probabilities = rf.predict_proba(X_test) # Need the second value\n",
    "\n",
    "probability_list = [] # Becomes the list of probabilities\n",
    "for i in probabilities:\n",
    "    probability_list.append(i[1])\n",
    "    probabilities = probability_list\n",
    "\n",
    "roc_auc = roc_auc_score(y_test, probabilities)\n",
    "print roc_auc"
   ]
  },
  {
   "cell_type": "code",
   "execution_count": 37,
   "metadata": {
    "collapsed": false
   },
   "outputs": [
    {
     "name": "stderr",
     "output_type": "stream",
     "text": [
      "[Parallel(n_jobs=-1)]: Done  20 out of  20 | elapsed:    0.0s finished\n",
      "[Parallel(n_jobs=4)]: Done  20 out of  20 | elapsed:    0.0s finished\n"
     ]
    },
    {
     "name": "stdout",
     "output_type": "stream",
     "text": [
      "0.948108783995\n"
     ]
    },
    {
     "name": "stderr",
     "output_type": "stream",
     "text": [
      "[Parallel(n_jobs=4)]: Done  20 out of  20 | elapsed:    0.0s finished\n"
     ]
    }
   ],
   "source": [
    "rf = RandomForestClassifier(n_estimators=20, max_depth = 5, n_jobs=-1, verbose = 1)\n",
    "rf.fit(X_train, y_train)\n",
    "y_pred = rf.predict(X_test)\n",
    "print rf.score(X_test, y_test)"
   ]
  },
  {
   "cell_type": "code",
   "execution_count": 38,
   "metadata": {
    "collapsed": false
   },
   "outputs": [
    {
     "data": {
      "text/plain": [
       "array([[3033,    0],\n",
       "       [ 166,    0]])"
      ]
     },
     "execution_count": 38,
     "metadata": {},
     "output_type": "execute_result"
    }
   ],
   "source": [
    "confusion_matrix(y_test, y_pred)"
   ]
  },
  {
   "cell_type": "code",
   "execution_count": 39,
   "metadata": {
    "collapsed": false
   },
   "outputs": [
    {
     "name": "stdout",
     "output_type": "stream",
     "text": [
      "             precision    recall  f1-score   support\n",
      "\n",
      "          0       0.95      1.00      0.97      3033\n",
      "          1       0.00      0.00      0.00       166\n",
      "\n",
      "avg / total       0.90      0.95      0.92      3199\n",
      "\n"
     ]
    },
    {
     "name": "stderr",
     "output_type": "stream",
     "text": [
      "/Applications/anaconda/lib/python2.7/site-packages/sklearn/metrics/classification.py:1113: UndefinedMetricWarning: Precision and F-score are ill-defined and being set to 0.0 in labels with no predicted samples.\n",
      "  'precision', 'predicted', average, warn_for)\n"
     ]
    }
   ],
   "source": [
    "print (classification_report(y_test, y_pred))"
   ]
  },
  {
   "cell_type": "code",
   "execution_count": 40,
   "metadata": {
    "collapsed": false
   },
   "outputs": [
    {
     "data": {
      "text/plain": [
       "(-1, 9)"
      ]
     },
     "execution_count": 40,
     "metadata": {},
     "output_type": "execute_result"
    },
    {
     "data": {
      "image/png": "[encoded data removed]",
      "text/plain": [
       "<matplotlib.figure.Figure at 0x100653a10>"
      ]
     },
     "metadata": {},
     "output_type": "display_data"
    }
   ],
   "source": [
    "all(rf.feature_importances_ == np.mean([tree.feature_importances_ for tree in rf.estimators_], axis=0))\n",
    "\n",
    "importances = rf.feature_importances_\n",
    "# calculate the standard deviation of feature importances by looping over the trees in the random forest\n",
    "# \n",
    "\n",
    "std = np.std([tree.feature_importances_ for tree in rf.estimators_], axis=0)\n",
    "\n",
    "indices = np.argsort(importances)[::-1]\n",
    "feature_names = X2.columns\n",
    "\n",
    "# Plot the feature importances of the forest\n",
    "plt.figure()\n",
    "plt.title(\"Feature importances\")\n",
    "plt.bar(range(X2.shape[1]), importances[indices],\n",
    "       color=\"r\", yerr=std[indices], align=\"center\")\n",
    "plt.xticks(range(X2.shape[1]), feature_names[indices], rotation=90)\n",
    "plt.xlim([-1, X2.shape[1]])"
   ]
  },
  {
   "cell_type": "code",
   "execution_count": 41,
   "metadata": {
    "collapsed": false
   },
   "outputs": [
    {
     "name": "stdout",
     "output_type": "stream",
     "text": [
      "0.84536464354\n"
     ]
    },
    {
     "name": "stderr",
     "output_type": "stream",
     "text": [
      "[Parallel(n_jobs=4)]: Done  20 out of  20 | elapsed:    0.0s finished\n"
     ]
    }
   ],
   "source": [
    "probabilities = rf.predict_proba(X_test) # Need the second value\n",
    "\n",
    "probability_list = [] # Becomes the list of probabilities\n",
    "for i in probabilities:\n",
    "    probability_list.append(i[1])\n",
    "    probabilities = probability_list\n",
    "\n",
    "roc_auc = roc_auc_score(y_test, probabilities)\n",
    "print roc_auc"
   ]
  },
  {
   "cell_type": "code",
   "execution_count": 42,
   "metadata": {
    "collapsed": true
   },
   "outputs": [],
   "source": [
    "from sklearn.model_selection import GridSearchCV"
   ]
  },
  {
   "cell_type": "code",
   "execution_count": 43,
   "metadata": {
    "collapsed": true
   },
   "outputs": [],
   "source": [
    "rf = RandomForestClassifier(class_weight = \"balanced\")"
   ]
  },
  {
   "cell_type": "code",
   "execution_count": 44,
   "metadata": {
    "collapsed": true
   },
   "outputs": [],
   "source": [
    "params = {\n",
    "    \"n_estimators\": (5, 10, 20, 25, 30, 40),\n",
    "    \"criterion\": (\"gini\", \"entropy\"),\n",
    "    \"max_depth\": (20, 40, 60, 80)   \n",
    "}"
   ]
  },
  {
   "cell_type": "code",
   "execution_count": 45,
   "metadata": {
    "collapsed": false
   },
   "outputs": [
    {
     "name": "stdout",
     "output_type": "stream",
     "text": [
      "Fitting 3 folds for each of 48 candidates, totalling 144 fits\n"
     ]
    },
    {
     "name": "stderr",
     "output_type": "stream",
     "text": [
      "[Parallel(n_jobs=-1)]: Done  76 tasks      | elapsed:    6.7s\n",
      "[Parallel(n_jobs=-1)]: Done 144 out of 144 | elapsed:   12.5s finished\n"
     ]
    },
    {
     "name": "stdout",
     "output_type": "stream",
     "text": [
      "GridSearchCV(cv=StratifiedKFold(n_splits=3, random_state=24, shuffle=True),\n",
      "       error_score='raise',\n",
      "       estimator=RandomForestClassifier(bootstrap=True, class_weight='balanced',\n",
      "            criterion='gini', max_depth=None, max_features='auto',\n",
      "            max_leaf_nodes=None, min_impurity_split=1e-07,\n",
      "            min_samples_leaf=1, min_samples_split=2,\n",
      "            min_weight_fraction_leaf=0.0, n_estimators=10, n_jobs=1,\n",
      "            oob_score=False, random_state=None, verbose=0,\n",
      "            warm_start=False),\n",
      "       fit_params={}, iid=True, n_jobs=-1,\n",
      "       param_grid={'n_estimators': (5, 10, 20, 25, 30, 40), 'criterion': ('gini', 'entropy'), 'max_depth': (20, 40, 60, 80)},\n",
      "       pre_dispatch='2*n_jobs', refit=True, return_train_score=True,\n",
      "       scoring=None, verbose=1)\n",
      "Best score :\n",
      "0.926854431033\n",
      "RandomForestClassifier(bootstrap=True, class_weight='balanced',\n",
      "            criterion='entropy', max_depth=80, max_features='auto',\n",
      "            max_leaf_nodes=None, min_impurity_split=1e-07,\n",
      "            min_samples_leaf=1, min_samples_split=2,\n",
      "            min_weight_fraction_leaf=0.0, n_estimators=10, n_jobs=1,\n",
      "            oob_score=False, random_state=None, verbose=0,\n",
      "            warm_start=False)\n",
      "{'n_estimators': 10, 'criterion': 'entropy', 'max_depth': 80}\n"
     ]
    }
   ],
   "source": [
    "gridlock = GridSearchCV(rf, params, verbose = 1, cv = cv, n_jobs = -1)\n",
    "gridlock.fit(X2, y)\n",
    "print gridlock\n",
    "print \"Best score :\"\n",
    "print gridlock.best_score_\n",
    "print gridlock.best_estimator_\n",
    "print gridlock.best_params_"
   ]
  },
  {
   "cell_type": "code",
   "execution_count": 47,
   "metadata": {
    "collapsed": false
   },
   "outputs": [],
   "source": [
    "rf_upgrade = RandomForestClassifier(criterion = \"entropy\", class_weight = \"balanced\", max_depth = 80, n_jobs = -1, verbose = 1)"
   ]
  },
  {
   "cell_type": "code",
   "execution_count": 48,
   "metadata": {
    "collapsed": false
   },
   "outputs": [
    {
     "name": "stderr",
     "output_type": "stream",
     "text": [
      "[Parallel(n_jobs=-1)]: Done  10 out of  10 | elapsed:    0.0s finished\n",
      "[Parallel(n_jobs=4)]: Done  10 out of  10 | elapsed:    0.0s finished\n"
     ]
    },
    {
     "name": "stdout",
     "output_type": "stream",
     "text": [
      "0.928102532041\n"
     ]
    },
    {
     "name": "stderr",
     "output_type": "stream",
     "text": [
      "[Parallel(n_jobs=4)]: Done  10 out of  10 | elapsed:    0.0s finished\n"
     ]
    }
   ],
   "source": [
    "rf_upgrade.fit(X_train, y_train)\n",
    "y_pred = rf_upgrade.predict(X_test)\n",
    "print rf_upgrade.score(X_test, y_test)"
   ]
  },
  {
   "cell_type": "code",
   "execution_count": 49,
   "metadata": {
    "collapsed": false
   },
   "outputs": [
    {
     "data": {
      "text/plain": [
       "array([[2941,   92],\n",
       "       [ 138,   28]])"
      ]
     },
     "execution_count": 49,
     "metadata": {},
     "output_type": "execute_result"
    }
   ],
   "source": [
    "confusion_matrix(y_test, y_pred)"
   ]
  },
  {
   "cell_type": "code",
   "execution_count": 50,
   "metadata": {
    "collapsed": false
   },
   "outputs": [
    {
     "name": "stdout",
     "output_type": "stream",
     "text": [
      "             precision    recall  f1-score   support\n",
      "\n",
      "          0       0.96      0.97      0.96      3033\n",
      "          1       0.23      0.17      0.20       166\n",
      "\n",
      "avg / total       0.92      0.93      0.92      3199\n",
      "\n"
     ]
    }
   ],
   "source": [
    "print(classification_report(y_test, y_pred))"
   ]
  },
  {
   "cell_type": "code",
   "execution_count": 51,
   "metadata": {
    "collapsed": false
   },
   "outputs": [
    {
     "data": {
      "text/plain": [
       "(-1, 9)"
      ]
     },
     "execution_count": 51,
     "metadata": {},
     "output_type": "execute_result"
    },
    {
     "data": {
      "image/png": "[encoded data removed]",
      "text/plain": [
       "<matplotlib.figure.Figure at 0x10c566e10>"
      ]
     },
     "metadata": {},
     "output_type": "display_data"
    }
   ],
   "source": [
    "all(rf_upgrade.feature_importances_ == np.mean([tree.feature_importances_ for tree in rf_upgrade.estimators_], axis=0))\n",
    "\n",
    "importances = rf_upgrade.feature_importances_\n",
    "# calculate the standard deviation of feature importances by looping over the trees in the random forest\n",
    "# \n",
    "\n",
    "std = np.std([tree.feature_importances_ for tree in rf_upgrade.estimators_], axis=0)\n",
    "\n",
    "indices = np.argsort(importances)[::-1]\n",
    "feature_names = X2.columns\n",
    "\n",
    "# Plot the feature importances of the forest\n",
    "plt.figure()\n",
    "plt.title(\"Feature importances\")\n",
    "plt.bar(range(X2.shape[1]), importances[indices],\n",
    "       color=\"r\", yerr=std[indices], align=\"center\")\n",
    "plt.xticks(range(X2.shape[1]), feature_names[indices], rotation=90)\n",
    "plt.xlim([-1, X2.shape[1]])"
   ]
  },
  {
   "cell_type": "code",
   "execution_count": 52,
   "metadata": {
    "collapsed": false
   },
   "outputs": [
    {
     "name": "stdout",
     "output_type": "stream",
     "text": [
      "0.70368715217\n"
     ]
    },
    {
     "name": "stderr",
     "output_type": "stream",
     "text": [
      "[Parallel(n_jobs=4)]: Done  10 out of  10 | elapsed:    0.0s finished\n"
     ]
    }
   ],
   "source": [
    "probabilities = rf_upgrade.predict_proba(X_test) # Need the second value\n",
    "\n",
    "probability_list = [] # Becomes the list of probabilities\n",
    "for i in probabilities:\n",
    "    probability_list.append(i[1])\n",
    "    probabilities = probability_list\n",
    "\n",
    "roc_auc = roc_auc_score(y_test, probabilities)\n",
    "print roc_auc"
   ]
  },
  {
   "cell_type": "code",
   "execution_count": 53,
   "metadata": {
    "collapsed": true
   },
   "outputs": [],
   "source": [
    "from sklearn.ensemble import GradientBoostingClassifier\n",
    "from sklearn.pipeline import Pipeline"
   ]
  },
  {
   "cell_type": "code",
   "execution_count": 54,
   "metadata": {
    "collapsed": false
   },
   "outputs": [],
   "source": [
    "pipeline = Pipeline([\n",
    "    (\"rfpipe\", RandomForestClassifier(class_weight = \"balanced\", n_jobs = -1, verbose = 1)),\n",
    "    (\"gbpipe\", GradientBoostingClassifier(verbose = 1))\n",
    "])"
   ]
  },
  {
   "cell_type": "code",
   "execution_count": 55,
   "metadata": {
    "collapsed": false
   },
   "outputs": [
    {
     "name": "stderr",
     "output_type": "stream",
     "text": [
      "[Parallel(n_jobs=-1)]: Done  10 out of  10 | elapsed:    0.0s finished\n",
      "/Applications/anaconda/lib/python2.7/site-packages/sklearn/utils/deprecation.py:70: DeprecationWarning: Function transform is deprecated; Support to use estimators as feature selectors will be removed in version 0.19. Use SelectFromModel instead.\n",
      "  warnings.warn(msg, category=DeprecationWarning)\n"
     ]
    },
    {
     "name": "stdout",
     "output_type": "stream",
     "text": [
      "      Iter       Train Loss   Remaining Time \n",
      "         1           0.3951            0.45s\n",
      "         2           0.3852            0.46s\n",
      "         3           0.3778            0.40s\n",
      "         4           0.3720            0.36s\n",
      "         5           0.3663            0.33s\n",
      "         6           0.3618            0.31s\n",
      "         7           0.3579            0.29s\n",
      "         8           0.3549            0.28s\n",
      "         9           0.3519            0.27s\n",
      "        10           0.3494            0.26s\n",
      "        20           0.3338            0.20s\n",
      "        30           0.3251            0.16s\n",
      "        40           0.3202            0.13s\n",
      "        50           0.3153            0.11s\n",
      "        60           0.3111            0.09s\n",
      "        70           0.3077            0.06s\n",
      "        80           0.3048            0.04s\n",
      "        90           0.3017            0.02s\n",
      "       100           0.2981            0.00s\n"
     ]
    },
    {
     "data": {
      "text/plain": [
       "Pipeline(steps=[('rfpipe', RandomForestClassifier(bootstrap=True, class_weight='balanced',\n",
       "            criterion='gini', max_depth=None, max_features='auto',\n",
       "            max_leaf_nodes=None, min_impurity_split=1e-07,\n",
       "            min_samples_leaf=1, min_samples_split=2,\n",
       "            min_weight_fraction_leaf=0....=100, presort='auto', random_state=None,\n",
       "              subsample=1.0, verbose=1, warm_start=False))])"
      ]
     },
     "execution_count": 55,
     "metadata": {},
     "output_type": "execute_result"
    }
   ],
   "source": [
    "pipeline.fit(X_train, y_train)"
   ]
  },
  {
   "cell_type": "code",
   "execution_count": 56,
   "metadata": {
    "collapsed": false
   },
   "outputs": [
    {
     "name": "stderr",
     "output_type": "stream",
     "text": [
      "/Applications/anaconda/lib/python2.7/site-packages/sklearn/utils/deprecation.py:70: DeprecationWarning: Function transform is deprecated; Support to use estimators as feature selectors will be removed in version 0.19. Use SelectFromModel instead.\n",
      "  warnings.warn(msg, category=DeprecationWarning)\n"
     ]
    }
   ],
   "source": [
    "y_pred = pipeline.predict(X_test)"
   ]
  },
  {
   "cell_type": "code",
   "execution_count": 57,
   "metadata": {
    "collapsed": false
   },
   "outputs": [
    {
     "data": {
      "text/plain": [
       "array([[3030,    3],\n",
       "       [ 165,    1]])"
      ]
     },
     "execution_count": 57,
     "metadata": {},
     "output_type": "execute_result"
    }
   ],
   "source": [
    "confusion_matrix(y_test, y_pred)"
   ]
  },
  {
   "cell_type": "code",
   "execution_count": 58,
   "metadata": {
    "collapsed": false
   },
   "outputs": [
    {
     "name": "stdout",
     "output_type": "stream",
     "text": [
      "             precision    recall  f1-score   support\n",
      "\n",
      "          0       0.95      1.00      0.97      3033\n",
      "          1       0.25      0.01      0.01       166\n",
      "\n",
      "avg / total       0.91      0.95      0.92      3199\n",
      "\n"
     ]
    }
   ],
   "source": [
    "print(classification_report(y_test, y_pred))"
   ]
  },
  {
   "cell_type": "code",
   "execution_count": 59,
   "metadata": {
    "collapsed": false
   },
   "outputs": [
    {
     "name": "stderr",
     "output_type": "stream",
     "text": [
      "/Applications/anaconda/lib/python2.7/site-packages/sklearn/utils/deprecation.py:70: DeprecationWarning: Function transform is deprecated; Support to use estimators as feature selectors will be removed in version 0.19. Use SelectFromModel instead.\n",
      "  warnings.warn(msg, category=DeprecationWarning)\n"
     ]
    },
    {
     "name": "stdout",
     "output_type": "stream",
     "text": [
      "0.833511096811\n"
     ]
    }
   ],
   "source": [
    "probabilities = pipeline.predict_proba(X_test) # Need the second value\n",
    "\n",
    "probability_list = [] # Becomes the list of probabilities\n",
    "for i in probabilities:\n",
    "    probability_list.append(i[1])\n",
    "    probabilities = probability_list\n",
    "\n",
    "roc_auc = roc_auc_score(y_test, probabilities)\n",
    "print roc_auc"
   ]
  },
  {
   "cell_type": "code",
   "execution_count": 60,
   "metadata": {
    "collapsed": false
   },
   "outputs": [],
   "source": [
    "gb = GradientBoostingClassifier()"
   ]
  },
  {
   "cell_type": "code",
   "execution_count": 61,
   "metadata": {
    "collapsed": false
   },
   "outputs": [
    {
     "data": {
      "text/plain": [
       "GradientBoostingClassifier(criterion='friedman_mse', init=None,\n",
       "              learning_rate=0.1, loss='deviance', max_depth=3,\n",
       "              max_features=None, max_leaf_nodes=None,\n",
       "              min_impurity_split=1e-07, min_samples_leaf=1,\n",
       "              min_samples_split=2, min_weight_fraction_leaf=0.0,\n",
       "              n_estimators=100, presort='auto', random_state=None,\n",
       "              subsample=1.0, verbose=0, warm_start=False)"
      ]
     },
     "execution_count": 61,
     "metadata": {},
     "output_type": "execute_result"
    }
   ],
   "source": [
    "gb.fit(X_train, y_train)"
   ]
  },
  {
   "cell_type": "code",
   "execution_count": 62,
   "metadata": {
    "collapsed": false
   },
   "outputs": [
    {
     "name": "stdout",
     "output_type": "stream",
     "text": [
      "0.949359174742\n"
     ]
    }
   ],
   "source": [
    "y_pred = gb.predict(X_test)\n",
    "print gb.score(X_test, y_test)"
   ]
  },
  {
   "cell_type": "code",
   "execution_count": 63,
   "metadata": {
    "collapsed": false
   },
   "outputs": [
    {
     "name": "stdout",
     "output_type": "stream",
     "text": [
      "Gradient Boosting Trees Classifier Score:\t0.946 ± 0.001\n"
     ]
    }
   ],
   "source": [
    "s = cross_val_score(gb, X_train, y_train, cv=cv, n_jobs=-1)\n",
    "print \"{} Score:\\t{:0.3} ± {:0.3}\".format(\"Gradient Boosting Trees Classifier\", s.mean().round(3), s.std().round(3))"
   ]
  },
  {
   "cell_type": "code",
   "execution_count": 64,
   "metadata": {
    "collapsed": false
   },
   "outputs": [
    {
     "data": {
      "text/plain": [
       "array([[3029,    4],\n",
       "       [ 158,    8]])"
      ]
     },
     "execution_count": 64,
     "metadata": {},
     "output_type": "execute_result"
    }
   ],
   "source": [
    "confusion_matrix (y_test, y_pred)"
   ]
  },
  {
   "cell_type": "code",
   "execution_count": 65,
   "metadata": {
    "collapsed": false
   },
   "outputs": [
    {
     "name": "stdout",
     "output_type": "stream",
     "text": [
      "             precision    recall  f1-score   support\n",
      "\n",
      "          0       0.95      1.00      0.97      3033\n",
      "          1       0.67      0.05      0.09       166\n",
      "\n",
      "avg / total       0.94      0.95      0.93      3199\n",
      "\n"
     ]
    }
   ],
   "source": [
    "print(classification_report(y_test, y_pred))"
   ]
  },
  {
   "cell_type": "code",
   "execution_count": 66,
   "metadata": {
    "collapsed": false
   },
   "outputs": [
    {
     "data": {
      "text/plain": [
       "array([ 0.24830064,  0.01696654,  0.03144559,  0.136736  ,  0.09725641,\n",
       "        0.12378378,  0.02604058,  0.23134953,  0.08812093])"
      ]
     },
     "execution_count": 66,
     "metadata": {},
     "output_type": "execute_result"
    }
   ],
   "source": [
    "gb.feature_importances_"
   ]
  },
  {
   "cell_type": "code",
   "execution_count": 67,
   "metadata": {
    "collapsed": false
   },
   "outputs": [
    {
     "data": {
      "image/png": "[encoded data removed]",
      "text/plain": [
       "<matplotlib.figure.Figure at 0x10c9e5250>"
      ]
     },
     "metadata": {},
     "output_type": "display_data"
    }
   ],
   "source": [
    "##VIZ taken straight from sklearn docs\n",
    "\n",
    "feature_importance = gb.feature_importances_\n",
    "# make importances relative to max importance\n",
    "feature_importance = 100.0 * (feature_importance / feature_importance.max())\n",
    "sorted_idx = np.argsort(feature_importance)\n",
    "pos = np.arange(sorted_idx.shape[0]) + .5\n",
    "plt.subplot(1, 2, 2)\n",
    "plt.barh(pos, feature_importance[sorted_idx], align='center')\n",
    "plt.yticks(pos, X2.columns[sorted_idx])\n",
    "plt.xlabel('Relative Importance')\n",
    "plt.title('Variable Importance')\n",
    "plt.show()"
   ]
  },
  {
   "cell_type": "code",
   "execution_count": 68,
   "metadata": {
    "collapsed": false
   },
   "outputs": [
    {
     "name": "stdout",
     "output_type": "stream",
     "text": [
      "0.845486793862\n"
     ]
    }
   ],
   "source": [
    "probabilities = gb.predict_proba(X_test) # Need the second value\n",
    "\n",
    "probability_list = [] # Becomes the list of probabilities\n",
    "for i in probabilities:\n",
    "    probability_list.append(i[1])\n",
    "    probabilities = probability_list\n",
    "\n",
    "roc_auc = roc_auc_score(y_test, probabilities)\n",
    "print roc_auc"
   ]
  },
  {
   "cell_type": "code",
   "execution_count": 69,
   "metadata": {
    "collapsed": true
   },
   "outputs": [],
   "source": [
    "params = {\n",
    "    \"loss\": (\"deviance\", \"exponential\"),\n",
    "    \"n_estimators\": (100, 125, 150, 175),\n",
    "    \"max_depth\": (4, 5, 6, 7)\n",
    "}"
   ]
  },
  {
   "cell_type": "code",
   "execution_count": 70,
   "metadata": {
    "collapsed": true
   },
   "outputs": [],
   "source": [
    "gb = GradientBoostingClassifier()"
   ]
  },
  {
   "cell_type": "code",
   "execution_count": 71,
   "metadata": {
    "collapsed": false
   },
   "outputs": [
    {
     "name": "stdout",
     "output_type": "stream",
     "text": [
      "Fitting 3 folds for each of 32 candidates, totalling 96 fits\n"
     ]
    },
    {
     "name": "stderr",
     "output_type": "stream",
     "text": [
      "[Parallel(n_jobs=-1)]: Done  42 tasks      | elapsed:   17.8s\n",
      "[Parallel(n_jobs=-1)]: Done  96 out of  96 | elapsed:   43.6s finished\n"
     ]
    },
    {
     "name": "stdout",
     "output_type": "stream",
     "text": [
      "GridSearchCV(cv=StratifiedKFold(n_splits=3, random_state=24, shuffle=True),\n",
      "       error_score='raise',\n",
      "       estimator=GradientBoostingClassifier(criterion='friedman_mse', init=None,\n",
      "              learning_rate=0.1, loss='deviance', max_depth=3,\n",
      "              max_features=None, max_leaf_nodes=None,\n",
      "              min_impurity_split=1e-07, min_samples_leaf=1,\n",
      "              min_samples_split=2, min_weight_fraction_leaf=0.0,\n",
      "              n_estimators=100, presort='auto', random_state=None,\n",
      "              subsample=1.0, verbose=0, warm_start=False),\n",
      "       fit_params={}, iid=True, n_jobs=-1,\n",
      "       param_grid={'n_estimators': (100, 125, 150, 175), 'loss': ('deviance', 'exponential'), 'max_depth': (4, 5, 6, 7)},\n",
      "       pre_dispatch='2*n_jobs', refit=True, return_train_score=True,\n",
      "       scoring=None, verbose=1)\n",
      "Best score: \n",
      "0.948210048489\n",
      "GradientBoostingClassifier(criterion='friedman_mse', init=None,\n",
      "              learning_rate=0.1, loss='exponential', max_depth=4,\n",
      "              max_features=None, max_leaf_nodes=None,\n",
      "              min_impurity_split=1e-07, min_samples_leaf=1,\n",
      "              min_samples_split=2, min_weight_fraction_leaf=0.0,\n",
      "              n_estimators=100, presort='auto', random_state=None,\n",
      "              subsample=1.0, verbose=0, warm_start=False)\n",
      "{'n_estimators': 100, 'loss': 'exponential', 'max_depth': 4}\n"
     ]
    }
   ],
   "source": [
    "gridgrad = GridSearchCV(gb, params, verbose = 1, cv = cv, n_jobs = -1)\n",
    "gridgrad.fit(X2, y)\n",
    "print gridgrad\n",
    "print \"Best score: \"\n",
    "print gridgrad.best_score_\n",
    "print gridgrad.best_estimator_\n",
    "print gridgrad.best_params_"
   ]
  },
  {
   "cell_type": "code",
   "execution_count": 72,
   "metadata": {
    "collapsed": false
   },
   "outputs": [],
   "source": [
    "geebee = GradientBoostingClassifier( loss = \"exponential\", max_depth = 4)"
   ]
  },
  {
   "cell_type": "code",
   "execution_count": 73,
   "metadata": {
    "collapsed": false
   },
   "outputs": [
    {
     "data": {
      "text/plain": [
       "GradientBoostingClassifier(criterion='friedman_mse', init=None,\n",
       "              learning_rate=0.1, loss='exponential', max_depth=4,\n",
       "              max_features=None, max_leaf_nodes=None,\n",
       "              min_impurity_split=1e-07, min_samples_leaf=1,\n",
       "              min_samples_split=2, min_weight_fraction_leaf=0.0,\n",
       "              n_estimators=100, presort='auto', random_state=None,\n",
       "              subsample=1.0, verbose=0, warm_start=False)"
      ]
     },
     "execution_count": 73,
     "metadata": {},
     "output_type": "execute_result"
    }
   ],
   "source": [
    "geebee.fit(X_train, y_train)"
   ]
  },
  {
   "cell_type": "code",
   "execution_count": 74,
   "metadata": {
    "collapsed": false
   },
   "outputs": [
    {
     "name": "stdout",
     "output_type": "stream",
     "text": [
      "0.949046577055\n"
     ]
    }
   ],
   "source": [
    "y_pred = geebee.predict(X_test)\n",
    "print geebee.score(X_test, y_test)"
   ]
  },
  {
   "cell_type": "code",
   "execution_count": 75,
   "metadata": {
    "collapsed": false
   },
   "outputs": [],
   "source": [
    "s = cross_val_score(geebee, X_train, y_train, cv=cv, n_jobs=1)"
   ]
  },
  {
   "cell_type": "code",
   "execution_count": 76,
   "metadata": {
    "collapsed": false
   },
   "outputs": [
    {
     "name": "stdout",
     "output_type": "stream",
     "text": [
      "0.946720133993 +/- 0.000779282387158\n"
     ]
    }
   ],
   "source": [
    "print(str(s.mean()) + \" +/- \" +  str(s.std()))"
   ]
  },
  {
   "cell_type": "code",
   "execution_count": 77,
   "metadata": {
    "collapsed": false
   },
   "outputs": [
    {
     "data": {
      "text/plain": [
       "array([[3033,    0],\n",
       "       [ 163,    3]])"
      ]
     },
     "execution_count": 77,
     "metadata": {},
     "output_type": "execute_result"
    }
   ],
   "source": [
    "confusion_matrix(y_test, y_pred)"
   ]
  },
  {
   "cell_type": "code",
   "execution_count": 78,
   "metadata": {
    "collapsed": false
   },
   "outputs": [
    {
     "name": "stdout",
     "output_type": "stream",
     "text": [
      "             precision    recall  f1-score   support\n",
      "\n",
      "          0       0.95      1.00      0.97      3033\n",
      "          1       1.00      0.02      0.04       166\n",
      "\n",
      "avg / total       0.95      0.95      0.93      3199\n",
      "\n"
     ]
    }
   ],
   "source": [
    "print(classification_report(y_test, y_pred))"
   ]
  },
  {
   "cell_type": "code",
   "execution_count": 79,
   "metadata": {
    "collapsed": false
   },
   "outputs": [
    {
     "name": "stdout",
     "output_type": "stream",
     "text": [
      "0.83373851489\n"
     ]
    }
   ],
   "source": [
    "probabilities = geebee.predict_proba(X_test) # Need the second value\n",
    "\n",
    "probability_list = [] # Becomes the list of probabilities\n",
    "for i in probabilities:\n",
    "    probability_list.append(i[1])\n",
    "    probabilities = probability_list\n",
    "\n",
    "roc_auc = roc_auc_score(y_test, probabilities)\n",
    "print roc_auc"
   ]
  },
  {
   "cell_type": "code",
   "execution_count": 80,
   "metadata": {
    "collapsed": false
   },
   "outputs": [
    {
     "data": {
      "image/png": "[encoded data removed]",
      "text/plain": [
       "<matplotlib.figure.Figure at 0x10c9ce250>"
      ]
     },
     "metadata": {},
     "output_type": "display_data"
    }
   ],
   "source": [
    "##VIZ taken straight from sklearn docs\n",
    "\n",
    "feature_importance = geebee.feature_importances_\n",
    "# make importances relative to max importance\n",
    "feature_importance = 100.0 * (feature_importance / feature_importance.max())\n",
    "sorted_idx = np.argsort(feature_importance)\n",
    "pos = np.arange(sorted_idx.shape[0]) + .5\n",
    "plt.subplot(1, 2, 2)\n",
    "plt.barh(pos, feature_importance[sorted_idx], align='center')\n",
    "plt.yticks(pos, X2.columns[sorted_idx])\n",
    "plt.xlabel('Relative Importance')\n",
    "plt.title('Variable Importance')\n",
    "plt.show()"
   ]
  },
  {
   "cell_type": "code",
   "execution_count": null,
   "metadata": {
    "collapsed": true
   },
   "outputs": [],
   "source": [
    "##Do we go with rf_upgrade??"
   ]
  },
  {
   "cell_type": "code",
   "execution_count": 81,
   "metadata": {
    "collapsed": false
   },
   "outputs": [
    {
     "data": {
      "text/plain": [
       "(116293, 43)"
      ]
     },
     "execution_count": 81,
     "metadata": {},
     "output_type": "execute_result"
    }
   ],
   "source": [
    "test.shape"
   ]
  },
  {
   "cell_type": "code",
   "execution_count": 82,
   "metadata": {
    "collapsed": false
   },
   "outputs": [
    {
     "data": {
      "text/plain": [
       "(9693, 45)"
      ]
     },
     "execution_count": 82,
     "metadata": {},
     "output_type": "execute_result"
    }
   ],
   "source": [
    "train.shape"
   ]
  },
  {
   "cell_type": "code",
   "execution_count": 108,
   "metadata": {
    "collapsed": false,
    "scrolled": true
   },
   "outputs": [
    {
     "data": {
      "text/html": [
       "<div>\n",
       "<table border=\"1\" class=\"dataframe\">\n",
       "  <thead>\n",
       "    <tr style=\"text-align: right;\">\n",
       "      <th></th>\n",
       "      <th>Species</th>\n",
       "      <th>Block</th>\n",
       "      <th>Trap</th>\n",
       "      <th>Latitude</th>\n",
       "      <th>Longitude</th>\n",
       "      <th>AddressAccuracy</th>\n",
       "      <th>YMD</th>\n",
       "      <th>PIPIENS</th>\n",
       "      <th>RESTUANS</th>\n",
       "      <th>SALINARIUS</th>\n",
       "      <th>TERRITANS</th>\n",
       "      <th>Station</th>\n",
       "      <th>Tmax</th>\n",
       "      <th>Tmin</th>\n",
       "      <th>DewPoint</th>\n",
       "      <th>WetBulb</th>\n",
       "      <th>Sunrise</th>\n",
       "      <th>Sunset</th>\n",
       "      <th>PrecipTotal</th>\n",
       "      <th>StnPressure</th>\n",
       "      <th>SeaLevel</th>\n",
       "      <th>ResultSpeed</th>\n",
       "      <th>ResultDir</th>\n",
       "      <th>AvgSpeed</th>\n",
       "      <th>Tavg_int</th>\n",
       "      <th>Normal_Temp</th>\n",
       "      <th>Depart_calc</th>\n",
       "      <th>RA</th>\n",
       "      <th>BR</th>\n",
       "      <th>TS</th>\n",
       "      <th>HZ</th>\n",
       "      <th>SN</th>\n",
       "      <th>FG</th>\n",
       "      <th>FG+</th>\n",
       "      <th>FU</th>\n",
       "      <th>DZ</th>\n",
       "      <th>VC</th>\n",
       "      <th>MI</th>\n",
       "      <th>BC</th>\n",
       "      <th>Days_Since_Spray</th>\n",
       "      <th>Dist_to_Closest_Spray</th>\n",
       "      <th>Week</th>\n",
       "      <th>DaylightMinutes</th>\n",
       "      <th>TrapCoded</th>\n",
       "    </tr>\n",
       "  </thead>\n",
       "  <tbody>\n",
       "    <tr>\n",
       "      <th>0</th>\n",
       "      <td>CULEX PIPIENS/RESTUANS</td>\n",
       "      <td>41</td>\n",
       "      <td>T002</td>\n",
       "      <td>41.95469</td>\n",
       "      <td>-87.800991</td>\n",
       "      <td>9</td>\n",
       "      <td>2008-06-11 00:00:00</td>\n",
       "      <td>1</td>\n",
       "      <td>1</td>\n",
       "      <td>0</td>\n",
       "      <td>0</td>\n",
       "      <td>2</td>\n",
       "      <td>86</td>\n",
       "      <td>66</td>\n",
       "      <td>55</td>\n",
       "      <td>64.0</td>\n",
       "      <td>1900-01-01 04:16:00</td>\n",
       "      <td>1900-01-01 19:26:00</td>\n",
       "      <td>0.0</td>\n",
       "      <td>29.34</td>\n",
       "      <td>29.97</td>\n",
       "      <td>9.4</td>\n",
       "      <td>18</td>\n",
       "      <td>10.4</td>\n",
       "      <td>76</td>\n",
       "      <td>67.0</td>\n",
       "      <td>9.0</td>\n",
       "      <td>0</td>\n",
       "      <td>0</td>\n",
       "      <td>0</td>\n",
       "      <td>0</td>\n",
       "      <td>0</td>\n",
       "      <td>0</td>\n",
       "      <td>0</td>\n",
       "      <td>0</td>\n",
       "      <td>0</td>\n",
       "      <td>0</td>\n",
       "      <td>0</td>\n",
       "      <td>0</td>\n",
       "      <td>720</td>\n",
       "      <td>1.5</td>\n",
       "      <td>24</td>\n",
       "      <td>910</td>\n",
       "      <td>1</td>\n",
       "    </tr>\n",
       "    <tr>\n",
       "      <th>1</th>\n",
       "      <td>CULEX RESTUANS</td>\n",
       "      <td>41</td>\n",
       "      <td>T002</td>\n",
       "      <td>41.95469</td>\n",
       "      <td>-87.800991</td>\n",
       "      <td>9</td>\n",
       "      <td>2008-06-11 00:00:00</td>\n",
       "      <td>0</td>\n",
       "      <td>1</td>\n",
       "      <td>0</td>\n",
       "      <td>0</td>\n",
       "      <td>2</td>\n",
       "      <td>86</td>\n",
       "      <td>66</td>\n",
       "      <td>55</td>\n",
       "      <td>64.0</td>\n",
       "      <td>1900-01-01 04:16:00</td>\n",
       "      <td>1900-01-01 19:26:00</td>\n",
       "      <td>0.0</td>\n",
       "      <td>29.34</td>\n",
       "      <td>29.97</td>\n",
       "      <td>9.4</td>\n",
       "      <td>18</td>\n",
       "      <td>10.4</td>\n",
       "      <td>76</td>\n",
       "      <td>67.0</td>\n",
       "      <td>9.0</td>\n",
       "      <td>0</td>\n",
       "      <td>0</td>\n",
       "      <td>0</td>\n",
       "      <td>0</td>\n",
       "      <td>0</td>\n",
       "      <td>0</td>\n",
       "      <td>0</td>\n",
       "      <td>0</td>\n",
       "      <td>0</td>\n",
       "      <td>0</td>\n",
       "      <td>0</td>\n",
       "      <td>0</td>\n",
       "      <td>720</td>\n",
       "      <td>1.5</td>\n",
       "      <td>24</td>\n",
       "      <td>910</td>\n",
       "      <td>1</td>\n",
       "    </tr>\n",
       "    <tr>\n",
       "      <th>2</th>\n",
       "      <td>CULEX PIPIENS</td>\n",
       "      <td>41</td>\n",
       "      <td>T002</td>\n",
       "      <td>41.95469</td>\n",
       "      <td>-87.800991</td>\n",
       "      <td>9</td>\n",
       "      <td>2008-06-11 00:00:00</td>\n",
       "      <td>1</td>\n",
       "      <td>0</td>\n",
       "      <td>0</td>\n",
       "      <td>0</td>\n",
       "      <td>2</td>\n",
       "      <td>86</td>\n",
       "      <td>66</td>\n",
       "      <td>55</td>\n",
       "      <td>64.0</td>\n",
       "      <td>1900-01-01 04:16:00</td>\n",
       "      <td>1900-01-01 19:26:00</td>\n",
       "      <td>0.0</td>\n",
       "      <td>29.34</td>\n",
       "      <td>29.97</td>\n",
       "      <td>9.4</td>\n",
       "      <td>18</td>\n",
       "      <td>10.4</td>\n",
       "      <td>76</td>\n",
       "      <td>67.0</td>\n",
       "      <td>9.0</td>\n",
       "      <td>0</td>\n",
       "      <td>0</td>\n",
       "      <td>0</td>\n",
       "      <td>0</td>\n",
       "      <td>0</td>\n",
       "      <td>0</td>\n",
       "      <td>0</td>\n",
       "      <td>0</td>\n",
       "      <td>0</td>\n",
       "      <td>0</td>\n",
       "      <td>0</td>\n",
       "      <td>0</td>\n",
       "      <td>720</td>\n",
       "      <td>1.5</td>\n",
       "      <td>24</td>\n",
       "      <td>910</td>\n",
       "      <td>1</td>\n",
       "    </tr>\n",
       "    <tr>\n",
       "      <th>3</th>\n",
       "      <td>CULEX SALINARIUS</td>\n",
       "      <td>41</td>\n",
       "      <td>T002</td>\n",
       "      <td>41.95469</td>\n",
       "      <td>-87.800991</td>\n",
       "      <td>9</td>\n",
       "      <td>2008-06-11 00:00:00</td>\n",
       "      <td>0</td>\n",
       "      <td>0</td>\n",
       "      <td>1</td>\n",
       "      <td>0</td>\n",
       "      <td>2</td>\n",
       "      <td>86</td>\n",
       "      <td>66</td>\n",
       "      <td>55</td>\n",
       "      <td>64.0</td>\n",
       "      <td>1900-01-01 04:16:00</td>\n",
       "      <td>1900-01-01 19:26:00</td>\n",
       "      <td>0.0</td>\n",
       "      <td>29.34</td>\n",
       "      <td>29.97</td>\n",
       "      <td>9.4</td>\n",
       "      <td>18</td>\n",
       "      <td>10.4</td>\n",
       "      <td>76</td>\n",
       "      <td>67.0</td>\n",
       "      <td>9.0</td>\n",
       "      <td>0</td>\n",
       "      <td>0</td>\n",
       "      <td>0</td>\n",
       "      <td>0</td>\n",
       "      <td>0</td>\n",
       "      <td>0</td>\n",
       "      <td>0</td>\n",
       "      <td>0</td>\n",
       "      <td>0</td>\n",
       "      <td>0</td>\n",
       "      <td>0</td>\n",
       "      <td>0</td>\n",
       "      <td>720</td>\n",
       "      <td>1.5</td>\n",
       "      <td>24</td>\n",
       "      <td>910</td>\n",
       "      <td>1</td>\n",
       "    </tr>\n",
       "    <tr>\n",
       "      <th>4</th>\n",
       "      <td>CULEX TERRITANS</td>\n",
       "      <td>41</td>\n",
       "      <td>T002</td>\n",
       "      <td>41.95469</td>\n",
       "      <td>-87.800991</td>\n",
       "      <td>9</td>\n",
       "      <td>2008-06-11 00:00:00</td>\n",
       "      <td>0</td>\n",
       "      <td>0</td>\n",
       "      <td>0</td>\n",
       "      <td>1</td>\n",
       "      <td>2</td>\n",
       "      <td>86</td>\n",
       "      <td>66</td>\n",
       "      <td>55</td>\n",
       "      <td>64.0</td>\n",
       "      <td>1900-01-01 04:16:00</td>\n",
       "      <td>1900-01-01 19:26:00</td>\n",
       "      <td>0.0</td>\n",
       "      <td>29.34</td>\n",
       "      <td>29.97</td>\n",
       "      <td>9.4</td>\n",
       "      <td>18</td>\n",
       "      <td>10.4</td>\n",
       "      <td>76</td>\n",
       "      <td>67.0</td>\n",
       "      <td>9.0</td>\n",
       "      <td>0</td>\n",
       "      <td>0</td>\n",
       "      <td>0</td>\n",
       "      <td>0</td>\n",
       "      <td>0</td>\n",
       "      <td>0</td>\n",
       "      <td>0</td>\n",
       "      <td>0</td>\n",
       "      <td>0</td>\n",
       "      <td>0</td>\n",
       "      <td>0</td>\n",
       "      <td>0</td>\n",
       "      <td>720</td>\n",
       "      <td>1.5</td>\n",
       "      <td>24</td>\n",
       "      <td>910</td>\n",
       "      <td>1</td>\n",
       "    </tr>\n",
       "  </tbody>\n",
       "</table>\n",
       "</div>"
      ],
      "text/plain": [
       "                  Species  Block  Trap  Latitude  Longitude  AddressAccuracy  \\\n",
       "0  CULEX PIPIENS/RESTUANS     41  T002  41.95469 -87.800991                9   \n",
       "1          CULEX RESTUANS     41  T002  41.95469 -87.800991                9   \n",
       "2           CULEX PIPIENS     41  T002  41.95469 -87.800991                9   \n",
       "3        CULEX SALINARIUS     41  T002  41.95469 -87.800991                9   \n",
       "4         CULEX TERRITANS     41  T002  41.95469 -87.800991                9   \n",
       "\n",
       "                   YMD  PIPIENS  RESTUANS  SALINARIUS  TERRITANS  Station  \\\n",
       "0  2008-06-11 00:00:00        1         1           0          0        2   \n",
       "1  2008-06-11 00:00:00        0         1           0          0        2   \n",
       "2  2008-06-11 00:00:00        1         0           0          0        2   \n",
       "3  2008-06-11 00:00:00        0         0           1          0        2   \n",
       "4  2008-06-11 00:00:00        0         0           0          1        2   \n",
       "\n",
       "   Tmax  Tmin  DewPoint  WetBulb              Sunrise               Sunset  \\\n",
       "0    86    66        55     64.0  1900-01-01 04:16:00  1900-01-01 19:26:00   \n",
       "1    86    66        55     64.0  1900-01-01 04:16:00  1900-01-01 19:26:00   \n",
       "2    86    66        55     64.0  1900-01-01 04:16:00  1900-01-01 19:26:00   \n",
       "3    86    66        55     64.0  1900-01-01 04:16:00  1900-01-01 19:26:00   \n",
       "4    86    66        55     64.0  1900-01-01 04:16:00  1900-01-01 19:26:00   \n",
       "\n",
       "   PrecipTotal  StnPressure  SeaLevel  ResultSpeed  ResultDir  AvgSpeed  \\\n",
       "0          0.0        29.34     29.97          9.4         18      10.4   \n",
       "1          0.0        29.34     29.97          9.4         18      10.4   \n",
       "2          0.0        29.34     29.97          9.4         18      10.4   \n",
       "3          0.0        29.34     29.97          9.4         18      10.4   \n",
       "4          0.0        29.34     29.97          9.4         18      10.4   \n",
       "\n",
       "   Tavg_int  Normal_Temp  Depart_calc  RA  BR  TS  HZ  SN  FG  FG+  FU  DZ  \\\n",
       "0        76         67.0          9.0   0   0   0   0   0   0    0   0   0   \n",
       "1        76         67.0          9.0   0   0   0   0   0   0    0   0   0   \n",
       "2        76         67.0          9.0   0   0   0   0   0   0    0   0   0   \n",
       "3        76         67.0          9.0   0   0   0   0   0   0    0   0   0   \n",
       "4        76         67.0          9.0   0   0   0   0   0   0    0   0   0   \n",
       "\n",
       "   VC  MI  BC  Days_Since_Spray  Dist_to_Closest_Spray  Week  DaylightMinutes  \\\n",
       "0   0   0   0               720                    1.5    24              910   \n",
       "1   0   0   0               720                    1.5    24              910   \n",
       "2   0   0   0               720                    1.5    24              910   \n",
       "3   0   0   0               720                    1.5    24              910   \n",
       "4   0   0   0               720                    1.5    24              910   \n",
       "\n",
       "   TrapCoded  \n",
       "0          1  \n",
       "1          1  \n",
       "2          1  \n",
       "3          1  \n",
       "4          1  "
      ]
     },
     "execution_count": 108,
     "metadata": {},
     "output_type": "execute_result"
    }
   ],
   "source": [
    "test.head()"
   ]
  },
  {
   "cell_type": "code",
   "execution_count": 106,
   "metadata": {
    "collapsed": false
   },
   "outputs": [
    {
     "data": {
      "text/html": [
       "<div>\n",
       "<table border=\"1\" class=\"dataframe\">\n",
       "  <thead>\n",
       "    <tr style=\"text-align: right;\">\n",
       "      <th></th>\n",
       "      <th>TrapCoded</th>\n",
       "      <th>RESTUANS</th>\n",
       "      <th>PIPIENS</th>\n",
       "      <th>DaylightMinutes</th>\n",
       "      <th>DewPoint</th>\n",
       "      <th>Tmax</th>\n",
       "      <th>Week</th>\n",
       "      <th>Dist_to_Closest_Spray</th>\n",
       "      <th>Days_Since_Spray</th>\n",
       "    </tr>\n",
       "  </thead>\n",
       "  <tbody>\n",
       "    <tr>\n",
       "      <th>0</th>\n",
       "      <td>1</td>\n",
       "      <td>1</td>\n",
       "      <td>1</td>\n",
       "      <td>896</td>\n",
       "      <td>59</td>\n",
       "      <td>88</td>\n",
       "      <td>22</td>\n",
       "      <td>1.5</td>\n",
       "      <td>720</td>\n",
       "    </tr>\n",
       "    <tr>\n",
       "      <th>1</th>\n",
       "      <td>1</td>\n",
       "      <td>1</td>\n",
       "      <td>0</td>\n",
       "      <td>896</td>\n",
       "      <td>59</td>\n",
       "      <td>88</td>\n",
       "      <td>22</td>\n",
       "      <td>1.5</td>\n",
       "      <td>720</td>\n",
       "    </tr>\n",
       "    <tr>\n",
       "      <th>2</th>\n",
       "      <td>6</td>\n",
       "      <td>1</td>\n",
       "      <td>0</td>\n",
       "      <td>896</td>\n",
       "      <td>58</td>\n",
       "      <td>88</td>\n",
       "      <td>22</td>\n",
       "      <td>1.5</td>\n",
       "      <td>720</td>\n",
       "    </tr>\n",
       "    <tr>\n",
       "      <th>3</th>\n",
       "      <td>13</td>\n",
       "      <td>1</td>\n",
       "      <td>1</td>\n",
       "      <td>896</td>\n",
       "      <td>58</td>\n",
       "      <td>88</td>\n",
       "      <td>22</td>\n",
       "      <td>1.5</td>\n",
       "      <td>720</td>\n",
       "    </tr>\n",
       "    <tr>\n",
       "      <th>4</th>\n",
       "      <td>13</td>\n",
       "      <td>1</td>\n",
       "      <td>0</td>\n",
       "      <td>896</td>\n",
       "      <td>58</td>\n",
       "      <td>88</td>\n",
       "      <td>22</td>\n",
       "      <td>1.5</td>\n",
       "      <td>720</td>\n",
       "    </tr>\n",
       "  </tbody>\n",
       "</table>\n",
       "</div>"
      ],
      "text/plain": [
       "   TrapCoded  RESTUANS  PIPIENS  DaylightMinutes  DewPoint  Tmax  Week  \\\n",
       "0          1         1        1              896        59    88    22   \n",
       "1          1         1        0              896        59    88    22   \n",
       "2          6         1        0              896        58    88    22   \n",
       "3         13         1        1              896        58    88    22   \n",
       "4         13         1        0              896        58    88    22   \n",
       "\n",
       "   Dist_to_Closest_Spray  Days_Since_Spray  \n",
       "0                    1.5               720  \n",
       "1                    1.5               720  \n",
       "2                    1.5               720  \n",
       "3                    1.5               720  \n",
       "4                    1.5               720  "
      ]
     },
     "execution_count": 106,
     "metadata": {},
     "output_type": "execute_result"
    }
   ],
   "source": [
    "X2.head()"
   ]
  },
  {
   "cell_type": "code",
   "execution_count": 107,
   "metadata": {
    "collapsed": true
   },
   "outputs": [],
   "source": [
    "test[\"TrapCoded\"] = le.fit_transform(test.Trap)"
   ]
  },
  {
   "cell_type": "code",
   "execution_count": 109,
   "metadata": {
    "collapsed": true
   },
   "outputs": [],
   "source": [
    "targetX = test[[\"TrapCoded\", \"RESTUANS\", \"PIPIENS\", \"DaylightMinutes\", \n",
    "                \"DewPoint\", \"Tmax\", \"Week\", \"Dist_to_Closest_Spray\", \"Days_Since_Spray\"]]"
   ]
  },
  {
   "cell_type": "code",
   "execution_count": 110,
   "metadata": {
    "collapsed": true
   },
   "outputs": [],
   "source": [
    "targety = pd.read_csv(\"../assets/test.csv\")"
   ]
  },
  {
   "cell_type": "code",
   "execution_count": 111,
   "metadata": {
    "collapsed": false
   },
   "outputs": [],
   "source": [
    "targety = targety[[\"Id\"]]"
   ]
  },
  {
   "cell_type": "code",
   "execution_count": 112,
   "metadata": {
    "collapsed": false
   },
   "outputs": [
    {
     "data": {
      "text/plain": [
       "Id    int64\n",
       "dtype: object"
      ]
     },
     "execution_count": 112,
     "metadata": {},
     "output_type": "execute_result"
    }
   ],
   "source": [
    "targety.dtypes"
   ]
  },
  {
   "cell_type": "code",
   "execution_count": 113,
   "metadata": {
    "collapsed": false
   },
   "outputs": [
    {
     "data": {
      "text/plain": [
       "(116293, 1)"
      ]
     },
     "execution_count": 113,
     "metadata": {},
     "output_type": "execute_result"
    }
   ],
   "source": [
    "targety.shape"
   ]
  },
  {
   "cell_type": "code",
   "execution_count": 105,
   "metadata": {
    "collapsed": true
   },
   "outputs": [],
   "source": [
    "REF = RandomForestClassifier(criterion = \"entropy\", class_weight = \"balanced\", max_depth = 80, n_jobs = -1, verbose = 1)"
   ]
  },
  {
   "cell_type": "code",
   "execution_count": 115,
   "metadata": {
    "collapsed": false
   },
   "outputs": [
    {
     "name": "stderr",
     "output_type": "stream",
     "text": [
      "[Parallel(n_jobs=-1)]: Done  10 out of  10 | elapsed:    0.0s finished\n",
      "[Parallel(n_jobs=4)]: Done  10 out of  10 | elapsed:    0.0s finished\n"
     ]
    }
   ],
   "source": [
    "REF.fit(X2, y)\n",
    "y_pred = REF.predict_proba(targetX)\n"
   ]
  },
  {
   "cell_type": "code",
   "execution_count": 117,
   "metadata": {
    "collapsed": false
   },
   "outputs": [
    {
     "data": {
      "text/plain": [
       "(116293, 2)"
      ]
     },
     "execution_count": 117,
     "metadata": {},
     "output_type": "execute_result"
    }
   ],
   "source": [
    "y_pred.shape"
   ]
  },
  {
   "cell_type": "code",
   "execution_count": 118,
   "metadata": {
    "collapsed": false
   },
   "outputs": [
    {
     "data": {
      "text/plain": [
       "array([[ 1.,  0.],\n",
       "       [ 1.,  0.],\n",
       "       [ 1.,  0.],\n",
       "       ..., \n",
       "       [ 1.,  0.],\n",
       "       [ 1.,  0.],\n",
       "       [ 1.,  0.]])"
      ]
     },
     "execution_count": 118,
     "metadata": {},
     "output_type": "execute_result"
    }
   ],
   "source": [
    "y_pred"
   ]
  },
  {
   "cell_type": "code",
   "execution_count": 119,
   "metadata": {
    "collapsed": true
   },
   "outputs": [],
   "source": [
    "probability_list = [] # Becomes the list of probabilities\n",
    "for i in y_pred:\n",
    "    probability_list.append(i[1])\n",
    "    y_pred = probability_list"
   ]
  },
  {
   "cell_type": "code",
   "execution_count": 123,
   "metadata": {
    "collapsed": false
   },
   "outputs": [
    {
     "data": {
      "text/plain": [
       "3272.0580337250517"
      ]
     },
     "execution_count": 123,
     "metadata": {},
     "output_type": "execute_result"
    }
   ],
   "source": [
    "sum(probability_list) ##checking that it's not predicting all zeros"
   ]
  },
  {
   "cell_type": "code",
   "execution_count": 124,
   "metadata": {
    "collapsed": true
   },
   "outputs": [],
   "source": [
    "from __future__ import division"
   ]
  },
  {
   "cell_type": "code",
   "execution_count": 125,
   "metadata": {
    "collapsed": false
   },
   "outputs": [
    {
     "data": {
      "text/plain": [
       "0.028135829327646546"
      ]
     },
     "execution_count": 125,
     "metadata": {},
     "output_type": "execute_result"
    }
   ],
   "source": [
    "3272/116293"
   ]
  },
  {
   "cell_type": "code",
   "execution_count": 126,
   "metadata": {
    "collapsed": true
   },
   "outputs": [],
   "source": [
    "targety[\"WnvPresent\"] = probability_list"
   ]
  },
  {
   "cell_type": "code",
   "execution_count": 128,
   "metadata": {
    "collapsed": false
   },
   "outputs": [
    {
     "data": {
      "text/html": [
       "<div>\n",
       "<table border=\"1\" class=\"dataframe\">\n",
       "  <thead>\n",
       "    <tr style=\"text-align: right;\">\n",
       "      <th></th>\n",
       "      <th>Id</th>\n",
       "      <th>WnvPresent</th>\n",
       "    </tr>\n",
       "  </thead>\n",
       "  <tbody>\n",
       "    <tr>\n",
       "      <th>2624</th>\n",
       "      <td>2625</td>\n",
       "      <td>0.100000</td>\n",
       "    </tr>\n",
       "    <tr>\n",
       "      <th>2625</th>\n",
       "      <td>2626</td>\n",
       "      <td>0.100000</td>\n",
       "    </tr>\n",
       "    <tr>\n",
       "      <th>2626</th>\n",
       "      <td>2627</td>\n",
       "      <td>0.100000</td>\n",
       "    </tr>\n",
       "    <tr>\n",
       "      <th>2627</th>\n",
       "      <td>2628</td>\n",
       "      <td>0.100000</td>\n",
       "    </tr>\n",
       "    <tr>\n",
       "      <th>2628</th>\n",
       "      <td>2629</td>\n",
       "      <td>0.100000</td>\n",
       "    </tr>\n",
       "    <tr>\n",
       "      <th>2629</th>\n",
       "      <td>2630</td>\n",
       "      <td>0.100000</td>\n",
       "    </tr>\n",
       "    <tr>\n",
       "      <th>2630</th>\n",
       "      <td>2631</td>\n",
       "      <td>0.100000</td>\n",
       "    </tr>\n",
       "    <tr>\n",
       "      <th>2631</th>\n",
       "      <td>2632</td>\n",
       "      <td>0.100000</td>\n",
       "    </tr>\n",
       "    <tr>\n",
       "      <th>2632</th>\n",
       "      <td>2633</td>\n",
       "      <td>0.100000</td>\n",
       "    </tr>\n",
       "    <tr>\n",
       "      <th>2633</th>\n",
       "      <td>2634</td>\n",
       "      <td>0.100000</td>\n",
       "    </tr>\n",
       "    <tr>\n",
       "      <th>2634</th>\n",
       "      <td>2635</td>\n",
       "      <td>0.100000</td>\n",
       "    </tr>\n",
       "    <tr>\n",
       "      <th>2635</th>\n",
       "      <td>2636</td>\n",
       "      <td>0.100000</td>\n",
       "    </tr>\n",
       "    <tr>\n",
       "      <th>2636</th>\n",
       "      <td>2637</td>\n",
       "      <td>0.100000</td>\n",
       "    </tr>\n",
       "    <tr>\n",
       "      <th>2637</th>\n",
       "      <td>2638</td>\n",
       "      <td>0.100000</td>\n",
       "    </tr>\n",
       "    <tr>\n",
       "      <th>2638</th>\n",
       "      <td>2639</td>\n",
       "      <td>0.100000</td>\n",
       "    </tr>\n",
       "    <tr>\n",
       "      <th>2639</th>\n",
       "      <td>2640</td>\n",
       "      <td>0.100000</td>\n",
       "    </tr>\n",
       "    <tr>\n",
       "      <th>3377</th>\n",
       "      <td>3378</td>\n",
       "      <td>0.100000</td>\n",
       "    </tr>\n",
       "    <tr>\n",
       "      <th>3378</th>\n",
       "      <td>3379</td>\n",
       "      <td>0.100000</td>\n",
       "    </tr>\n",
       "    <tr>\n",
       "      <th>3379</th>\n",
       "      <td>3380</td>\n",
       "      <td>0.100000</td>\n",
       "    </tr>\n",
       "    <tr>\n",
       "      <th>3380</th>\n",
       "      <td>3381</td>\n",
       "      <td>0.100000</td>\n",
       "    </tr>\n",
       "    <tr>\n",
       "      <th>3381</th>\n",
       "      <td>3382</td>\n",
       "      <td>0.100000</td>\n",
       "    </tr>\n",
       "    <tr>\n",
       "      <th>3382</th>\n",
       "      <td>3383</td>\n",
       "      <td>0.100000</td>\n",
       "    </tr>\n",
       "    <tr>\n",
       "      <th>3383</th>\n",
       "      <td>3384</td>\n",
       "      <td>0.100000</td>\n",
       "    </tr>\n",
       "    <tr>\n",
       "      <th>3384</th>\n",
       "      <td>3385</td>\n",
       "      <td>0.100000</td>\n",
       "    </tr>\n",
       "    <tr>\n",
       "      <th>6055</th>\n",
       "      <td>6056</td>\n",
       "      <td>0.096057</td>\n",
       "    </tr>\n",
       "    <tr>\n",
       "      <th>6056</th>\n",
       "      <td>6057</td>\n",
       "      <td>0.096057</td>\n",
       "    </tr>\n",
       "    <tr>\n",
       "      <th>6057</th>\n",
       "      <td>6058</td>\n",
       "      <td>0.096057</td>\n",
       "    </tr>\n",
       "    <tr>\n",
       "      <th>6058</th>\n",
       "      <td>6059</td>\n",
       "      <td>0.096057</td>\n",
       "    </tr>\n",
       "    <tr>\n",
       "      <th>6059</th>\n",
       "      <td>6060</td>\n",
       "      <td>0.096057</td>\n",
       "    </tr>\n",
       "    <tr>\n",
       "      <th>6060</th>\n",
       "      <td>6061</td>\n",
       "      <td>0.096057</td>\n",
       "    </tr>\n",
       "    <tr>\n",
       "      <th>6063</th>\n",
       "      <td>6064</td>\n",
       "      <td>0.096057</td>\n",
       "    </tr>\n",
       "    <tr>\n",
       "      <th>6064</th>\n",
       "      <td>6065</td>\n",
       "      <td>0.096057</td>\n",
       "    </tr>\n",
       "    <tr>\n",
       "      <th>6065</th>\n",
       "      <td>6066</td>\n",
       "      <td>0.096057</td>\n",
       "    </tr>\n",
       "    <tr>\n",
       "      <th>6066</th>\n",
       "      <td>6067</td>\n",
       "      <td>0.096057</td>\n",
       "    </tr>\n",
       "    <tr>\n",
       "      <th>6067</th>\n",
       "      <td>6068</td>\n",
       "      <td>0.096057</td>\n",
       "    </tr>\n",
       "    <tr>\n",
       "      <th>6068</th>\n",
       "      <td>6069</td>\n",
       "      <td>0.096057</td>\n",
       "    </tr>\n",
       "    <tr>\n",
       "      <th>6071</th>\n",
       "      <td>6072</td>\n",
       "      <td>0.096057</td>\n",
       "    </tr>\n",
       "    <tr>\n",
       "      <th>6072</th>\n",
       "      <td>6073</td>\n",
       "      <td>0.096057</td>\n",
       "    </tr>\n",
       "    <tr>\n",
       "      <th>6073</th>\n",
       "      <td>6074</td>\n",
       "      <td>0.096057</td>\n",
       "    </tr>\n",
       "    <tr>\n",
       "      <th>6074</th>\n",
       "      <td>6075</td>\n",
       "      <td>0.096057</td>\n",
       "    </tr>\n",
       "    <tr>\n",
       "      <th>6075</th>\n",
       "      <td>6076</td>\n",
       "      <td>0.096057</td>\n",
       "    </tr>\n",
       "    <tr>\n",
       "      <th>6076</th>\n",
       "      <td>6077</td>\n",
       "      <td>0.096057</td>\n",
       "    </tr>\n",
       "    <tr>\n",
       "      <th>6079</th>\n",
       "      <td>6080</td>\n",
       "      <td>0.096057</td>\n",
       "    </tr>\n",
       "    <tr>\n",
       "      <th>6080</th>\n",
       "      <td>6081</td>\n",
       "      <td>0.096057</td>\n",
       "    </tr>\n",
       "    <tr>\n",
       "      <th>6081</th>\n",
       "      <td>6082</td>\n",
       "      <td>0.096057</td>\n",
       "    </tr>\n",
       "    <tr>\n",
       "      <th>6082</th>\n",
       "      <td>6083</td>\n",
       "      <td>0.096057</td>\n",
       "    </tr>\n",
       "    <tr>\n",
       "      <th>6083</th>\n",
       "      <td>6084</td>\n",
       "      <td>0.096057</td>\n",
       "    </tr>\n",
       "    <tr>\n",
       "      <th>6084</th>\n",
       "      <td>6085</td>\n",
       "      <td>0.096057</td>\n",
       "    </tr>\n",
       "    <tr>\n",
       "      <th>6087</th>\n",
       "      <td>6088</td>\n",
       "      <td>0.096057</td>\n",
       "    </tr>\n",
       "    <tr>\n",
       "      <th>6088</th>\n",
       "      <td>6089</td>\n",
       "      <td>0.096057</td>\n",
       "    </tr>\n",
       "    <tr>\n",
       "      <th>...</th>\n",
       "      <td>...</td>\n",
       "      <td>...</td>\n",
       "    </tr>\n",
       "    <tr>\n",
       "      <th>115987</th>\n",
       "      <td>115988</td>\n",
       "      <td>0.097336</td>\n",
       "    </tr>\n",
       "    <tr>\n",
       "      <th>115988</th>\n",
       "      <td>115989</td>\n",
       "      <td>0.097336</td>\n",
       "    </tr>\n",
       "    <tr>\n",
       "      <th>116022</th>\n",
       "      <td>116023</td>\n",
       "      <td>0.100000</td>\n",
       "    </tr>\n",
       "    <tr>\n",
       "      <th>116024</th>\n",
       "      <td>116025</td>\n",
       "      <td>0.100000</td>\n",
       "    </tr>\n",
       "    <tr>\n",
       "      <th>116025</th>\n",
       "      <td>116026</td>\n",
       "      <td>0.100000</td>\n",
       "    </tr>\n",
       "    <tr>\n",
       "      <th>116026</th>\n",
       "      <td>116027</td>\n",
       "      <td>0.100000</td>\n",
       "    </tr>\n",
       "    <tr>\n",
       "      <th>116027</th>\n",
       "      <td>116028</td>\n",
       "      <td>0.100000</td>\n",
       "    </tr>\n",
       "    <tr>\n",
       "      <th>116028</th>\n",
       "      <td>116029</td>\n",
       "      <td>0.100000</td>\n",
       "    </tr>\n",
       "    <tr>\n",
       "      <th>116030</th>\n",
       "      <td>116031</td>\n",
       "      <td>0.100000</td>\n",
       "    </tr>\n",
       "    <tr>\n",
       "      <th>116032</th>\n",
       "      <td>116033</td>\n",
       "      <td>0.100000</td>\n",
       "    </tr>\n",
       "    <tr>\n",
       "      <th>116033</th>\n",
       "      <td>116034</td>\n",
       "      <td>0.100000</td>\n",
       "    </tr>\n",
       "    <tr>\n",
       "      <th>116034</th>\n",
       "      <td>116035</td>\n",
       "      <td>0.100000</td>\n",
       "    </tr>\n",
       "    <tr>\n",
       "      <th>116035</th>\n",
       "      <td>116036</td>\n",
       "      <td>0.100000</td>\n",
       "    </tr>\n",
       "    <tr>\n",
       "      <th>116036</th>\n",
       "      <td>116037</td>\n",
       "      <td>0.100000</td>\n",
       "    </tr>\n",
       "    <tr>\n",
       "      <th>116086</th>\n",
       "      <td>116087</td>\n",
       "      <td>0.097336</td>\n",
       "    </tr>\n",
       "    <tr>\n",
       "      <th>116088</th>\n",
       "      <td>116089</td>\n",
       "      <td>0.097336</td>\n",
       "    </tr>\n",
       "    <tr>\n",
       "      <th>116089</th>\n",
       "      <td>116090</td>\n",
       "      <td>0.097336</td>\n",
       "    </tr>\n",
       "    <tr>\n",
       "      <th>116090</th>\n",
       "      <td>116091</td>\n",
       "      <td>0.097336</td>\n",
       "    </tr>\n",
       "    <tr>\n",
       "      <th>116091</th>\n",
       "      <td>116092</td>\n",
       "      <td>0.097336</td>\n",
       "    </tr>\n",
       "    <tr>\n",
       "      <th>116092</th>\n",
       "      <td>116093</td>\n",
       "      <td>0.097336</td>\n",
       "    </tr>\n",
       "    <tr>\n",
       "      <th>116094</th>\n",
       "      <td>116095</td>\n",
       "      <td>0.100000</td>\n",
       "    </tr>\n",
       "    <tr>\n",
       "      <th>116096</th>\n",
       "      <td>116097</td>\n",
       "      <td>0.100000</td>\n",
       "    </tr>\n",
       "    <tr>\n",
       "      <th>116097</th>\n",
       "      <td>116098</td>\n",
       "      <td>0.100000</td>\n",
       "    </tr>\n",
       "    <tr>\n",
       "      <th>116098</th>\n",
       "      <td>116099</td>\n",
       "      <td>0.100000</td>\n",
       "    </tr>\n",
       "    <tr>\n",
       "      <th>116099</th>\n",
       "      <td>116100</td>\n",
       "      <td>0.100000</td>\n",
       "    </tr>\n",
       "    <tr>\n",
       "      <th>116100</th>\n",
       "      <td>116101</td>\n",
       "      <td>0.100000</td>\n",
       "    </tr>\n",
       "    <tr>\n",
       "      <th>116102</th>\n",
       "      <td>116103</td>\n",
       "      <td>0.097336</td>\n",
       "    </tr>\n",
       "    <tr>\n",
       "      <th>116104</th>\n",
       "      <td>116105</td>\n",
       "      <td>0.097336</td>\n",
       "    </tr>\n",
       "    <tr>\n",
       "      <th>116105</th>\n",
       "      <td>116106</td>\n",
       "      <td>0.097336</td>\n",
       "    </tr>\n",
       "    <tr>\n",
       "      <th>116106</th>\n",
       "      <td>116107</td>\n",
       "      <td>0.097336</td>\n",
       "    </tr>\n",
       "    <tr>\n",
       "      <th>116107</th>\n",
       "      <td>116108</td>\n",
       "      <td>0.097336</td>\n",
       "    </tr>\n",
       "    <tr>\n",
       "      <th>116108</th>\n",
       "      <td>116109</td>\n",
       "      <td>0.097336</td>\n",
       "    </tr>\n",
       "    <tr>\n",
       "      <th>116110</th>\n",
       "      <td>116111</td>\n",
       "      <td>0.100000</td>\n",
       "    </tr>\n",
       "    <tr>\n",
       "      <th>116112</th>\n",
       "      <td>116113</td>\n",
       "      <td>0.100000</td>\n",
       "    </tr>\n",
       "    <tr>\n",
       "      <th>116113</th>\n",
       "      <td>116114</td>\n",
       "      <td>0.100000</td>\n",
       "    </tr>\n",
       "    <tr>\n",
       "      <th>116114</th>\n",
       "      <td>116115</td>\n",
       "      <td>0.100000</td>\n",
       "    </tr>\n",
       "    <tr>\n",
       "      <th>116115</th>\n",
       "      <td>116116</td>\n",
       "      <td>0.100000</td>\n",
       "    </tr>\n",
       "    <tr>\n",
       "      <th>116116</th>\n",
       "      <td>116117</td>\n",
       "      <td>0.100000</td>\n",
       "    </tr>\n",
       "    <tr>\n",
       "      <th>116222</th>\n",
       "      <td>116223</td>\n",
       "      <td>0.100000</td>\n",
       "    </tr>\n",
       "    <tr>\n",
       "      <th>116224</th>\n",
       "      <td>116225</td>\n",
       "      <td>0.100000</td>\n",
       "    </tr>\n",
       "    <tr>\n",
       "      <th>116225</th>\n",
       "      <td>116226</td>\n",
       "      <td>0.100000</td>\n",
       "    </tr>\n",
       "    <tr>\n",
       "      <th>116226</th>\n",
       "      <td>116227</td>\n",
       "      <td>0.100000</td>\n",
       "    </tr>\n",
       "    <tr>\n",
       "      <th>116227</th>\n",
       "      <td>116228</td>\n",
       "      <td>0.100000</td>\n",
       "    </tr>\n",
       "    <tr>\n",
       "      <th>116228</th>\n",
       "      <td>116229</td>\n",
       "      <td>0.100000</td>\n",
       "    </tr>\n",
       "    <tr>\n",
       "      <th>116246</th>\n",
       "      <td>116247</td>\n",
       "      <td>0.100000</td>\n",
       "    </tr>\n",
       "    <tr>\n",
       "      <th>116248</th>\n",
       "      <td>116249</td>\n",
       "      <td>0.100000</td>\n",
       "    </tr>\n",
       "    <tr>\n",
       "      <th>116249</th>\n",
       "      <td>116250</td>\n",
       "      <td>0.100000</td>\n",
       "    </tr>\n",
       "    <tr>\n",
       "      <th>116250</th>\n",
       "      <td>116251</td>\n",
       "      <td>0.100000</td>\n",
       "    </tr>\n",
       "    <tr>\n",
       "      <th>116251</th>\n",
       "      <td>116252</td>\n",
       "      <td>0.100000</td>\n",
       "    </tr>\n",
       "    <tr>\n",
       "      <th>116252</th>\n",
       "      <td>116253</td>\n",
       "      <td>0.100000</td>\n",
       "    </tr>\n",
       "  </tbody>\n",
       "</table>\n",
       "<p>22858 rows × 2 columns</p>\n",
       "</div>"
      ],
      "text/plain": [
       "            Id  WnvPresent\n",
       "2624      2625    0.100000\n",
       "2625      2626    0.100000\n",
       "2626      2627    0.100000\n",
       "2627      2628    0.100000\n",
       "2628      2629    0.100000\n",
       "2629      2630    0.100000\n",
       "2630      2631    0.100000\n",
       "2631      2632    0.100000\n",
       "2632      2633    0.100000\n",
       "2633      2634    0.100000\n",
       "2634      2635    0.100000\n",
       "2635      2636    0.100000\n",
       "2636      2637    0.100000\n",
       "2637      2638    0.100000\n",
       "2638      2639    0.100000\n",
       "2639      2640    0.100000\n",
       "3377      3378    0.100000\n",
       "3378      3379    0.100000\n",
       "3379      3380    0.100000\n",
       "3380      3381    0.100000\n",
       "3381      3382    0.100000\n",
       "3382      3383    0.100000\n",
       "3383      3384    0.100000\n",
       "3384      3385    0.100000\n",
       "6055      6056    0.096057\n",
       "6056      6057    0.096057\n",
       "6057      6058    0.096057\n",
       "6058      6059    0.096057\n",
       "6059      6060    0.096057\n",
       "6060      6061    0.096057\n",
       "6063      6064    0.096057\n",
       "6064      6065    0.096057\n",
       "6065      6066    0.096057\n",
       "6066      6067    0.096057\n",
       "6067      6068    0.096057\n",
       "6068      6069    0.096057\n",
       "6071      6072    0.096057\n",
       "6072      6073    0.096057\n",
       "6073      6074    0.096057\n",
       "6074      6075    0.096057\n",
       "6075      6076    0.096057\n",
       "6076      6077    0.096057\n",
       "6079      6080    0.096057\n",
       "6080      6081    0.096057\n",
       "6081      6082    0.096057\n",
       "6082      6083    0.096057\n",
       "6083      6084    0.096057\n",
       "6084      6085    0.096057\n",
       "6087      6088    0.096057\n",
       "6088      6089    0.096057\n",
       "...        ...         ...\n",
       "115987  115988    0.097336\n",
       "115988  115989    0.097336\n",
       "116022  116023    0.100000\n",
       "116024  116025    0.100000\n",
       "116025  116026    0.100000\n",
       "116026  116027    0.100000\n",
       "116027  116028    0.100000\n",
       "116028  116029    0.100000\n",
       "116030  116031    0.100000\n",
       "116032  116033    0.100000\n",
       "116033  116034    0.100000\n",
       "116034  116035    0.100000\n",
       "116035  116036    0.100000\n",
       "116036  116037    0.100000\n",
       "116086  116087    0.097336\n",
       "116088  116089    0.097336\n",
       "116089  116090    0.097336\n",
       "116090  116091    0.097336\n",
       "116091  116092    0.097336\n",
       "116092  116093    0.097336\n",
       "116094  116095    0.100000\n",
       "116096  116097    0.100000\n",
       "116097  116098    0.100000\n",
       "116098  116099    0.100000\n",
       "116099  116100    0.100000\n",
       "116100  116101    0.100000\n",
       "116102  116103    0.097336\n",
       "116104  116105    0.097336\n",
       "116105  116106    0.097336\n",
       "116106  116107    0.097336\n",
       "116107  116108    0.097336\n",
       "116108  116109    0.097336\n",
       "116110  116111    0.100000\n",
       "116112  116113    0.100000\n",
       "116113  116114    0.100000\n",
       "116114  116115    0.100000\n",
       "116115  116116    0.100000\n",
       "116116  116117    0.100000\n",
       "116222  116223    0.100000\n",
       "116224  116225    0.100000\n",
       "116225  116226    0.100000\n",
       "116226  116227    0.100000\n",
       "116227  116228    0.100000\n",
       "116228  116229    0.100000\n",
       "116246  116247    0.100000\n",
       "116248  116249    0.100000\n",
       "116249  116250    0.100000\n",
       "116250  116251    0.100000\n",
       "116251  116252    0.100000\n",
       "116252  116253    0.100000\n",
       "\n",
       "[22858 rows x 2 columns]"
      ]
     },
     "execution_count": 128,
     "metadata": {},
     "output_type": "execute_result"
    }
   ],
   "source": [
    "targety[targety.WnvPresent != 0.0]"
   ]
  },
  {
   "cell_type": "code",
   "execution_count": 129,
   "metadata": {
    "collapsed": true
   },
   "outputs": [],
   "source": [
    "submission1 = targety.to_csv(\"../assets/submission1_mg.csv\", index = False, encoding = \"utf-8\")"
   ]
  },
  {
   "cell_type": "code",
   "execution_count": 130,
   "metadata": {
    "collapsed": true
   },
   "outputs": [],
   "source": [
    "REF2 = RandomForestClassifier()"
   ]
  },
  {
   "cell_type": "code",
   "execution_count": 131,
   "metadata": {
    "collapsed": false
   },
   "outputs": [
    {
     "data": {
      "text/plain": [
       "RandomForestClassifier(bootstrap=True, class_weight=None, criterion='gini',\n",
       "            max_depth=None, max_features='auto', max_leaf_nodes=None,\n",
       "            min_impurity_split=1e-07, min_samples_leaf=1,\n",
       "            min_samples_split=2, min_weight_fraction_leaf=0.0,\n",
       "            n_estimators=10, n_jobs=1, oob_score=False, random_state=None,\n",
       "            verbose=0, warm_start=False)"
      ]
     },
     "execution_count": 131,
     "metadata": {},
     "output_type": "execute_result"
    }
   ],
   "source": [
    "REF2.fit(X2, y)"
   ]
  },
  {
   "cell_type": "code",
   "execution_count": 132,
   "metadata": {
    "collapsed": true
   },
   "outputs": [],
   "source": [
    "y_pred2 = REF2.predict_proba(targetX)"
   ]
  },
  {
   "cell_type": "code",
   "execution_count": 133,
   "metadata": {
    "collapsed": true
   },
   "outputs": [],
   "source": [
    "probability_list = [] # Becomes the list of probabilities\n",
    "for i in y_pred2:\n",
    "    probability_list.append(i[1])\n",
    "    y_pred2 = probability_list"
   ]
  },
  {
   "cell_type": "code",
   "execution_count": 134,
   "metadata": {
    "collapsed": false
   },
   "outputs": [
    {
     "data": {
      "text/plain": [
       "3709.7034744822226"
      ]
     },
     "execution_count": 134,
     "metadata": {},
     "output_type": "execute_result"
    }
   ],
   "source": [
    "sum(probability_list)"
   ]
  },
  {
   "cell_type": "code",
   "execution_count": 135,
   "metadata": {
    "collapsed": true
   },
   "outputs": [],
   "source": [
    "targety[\"WnvPresent\"] = probability_list"
   ]
  },
  {
   "cell_type": "code",
   "execution_count": 136,
   "metadata": {
    "collapsed": true
   },
   "outputs": [],
   "source": [
    "submission2 = targety.to_csv(\"../assets/submission2_mg.csv\", index = False, encoding = \"utf-8\")"
   ]
  },
  {
   "cell_type": "code",
   "execution_count": 137,
   "metadata": {
    "collapsed": true
   },
   "outputs": [],
   "source": [
    "geebee = GradientBoostingClassifier( loss = \"exponential\", max_depth = 4)"
   ]
  },
  {
   "cell_type": "code",
   "execution_count": 138,
   "metadata": {
    "collapsed": true
   },
   "outputs": [],
   "source": [
    "geebee.fit(X2, y)\n",
    "y_pred3 = geebee.predict_proba(targetX)\n",
    "probability_list = [] # Becomes the list of probabilities\n",
    "for i in y_pred3:\n",
    "    probability_list.append(i[1])\n",
    "    y_pred3 = probability_list"
   ]
  },
  {
   "cell_type": "code",
   "execution_count": 139,
   "metadata": {
    "collapsed": false
   },
   "outputs": [
    {
     "data": {
      "text/plain": [
       "1635.792253108965"
      ]
     },
     "execution_count": 139,
     "metadata": {},
     "output_type": "execute_result"
    }
   ],
   "source": [
    "sum(probability_list)"
   ]
  },
  {
   "cell_type": "code",
   "execution_count": 140,
   "metadata": {
    "collapsed": true
   },
   "outputs": [],
   "source": [
    "targety[\"WnvPresent\"] = probability_list"
   ]
  },
  {
   "cell_type": "code",
   "execution_count": 141,
   "metadata": {
    "collapsed": true
   },
   "outputs": [],
   "source": [
    "submission3 = targety.to_csv(\"../assets/submission3_mg.csv\", index = False, encoding = \"utf-8\")"
   ]
  },
  {
   "cell_type": "code",
   "execution_count": 165,
   "metadata": {
    "collapsed": true
   },
   "outputs": [],
   "source": [
    "pipeline = Pipeline([\n",
    "    (\"rfpipe\", RandomForestClassifier(class_weight = \"balanced\", n_jobs = -1, verbose = 1)),\n",
    "    (\"gbpipe\", GradientBoostingClassifier(verbose = 1))\n",
    "])"
   ]
  },
  {
   "cell_type": "code",
   "execution_count": 166,
   "metadata": {
    "collapsed": false
   },
   "outputs": [
    {
     "name": "stderr",
     "output_type": "stream",
     "text": [
      "[Parallel(n_jobs=-1)]: Done  10 out of  10 | elapsed:    0.0s finished\n",
      "/Applications/anaconda/lib/python2.7/site-packages/sklearn/utils/deprecation.py:70: DeprecationWarning: Function transform is deprecated; Support to use estimators as feature selectors will be removed in version 0.19. Use SelectFromModel instead.\n",
      "  warnings.warn(msg, category=DeprecationWarning)\n"
     ]
    },
    {
     "name": "stdout",
     "output_type": "stream",
     "text": [
      "      Iter       Train Loss   Remaining Time \n",
      "         1           0.3951            0.38s\n",
      "         2           0.3854            0.33s\n",
      "         3           0.3782            0.30s\n",
      "         4           0.3723            0.29s\n",
      "         5           0.3670            0.27s\n",
      "         6           0.3630            0.26s\n",
      "         7           0.3592            0.26s\n",
      "         8           0.3562            0.25s\n",
      "         9           0.3533            0.24s\n",
      "        10           0.3507            0.24s\n",
      "        20           0.3356            0.19s\n",
      "        30           0.3277            0.16s\n",
      "        40           0.3222            0.14s\n",
      "        50           0.3186            0.12s\n",
      "        60           0.3157            0.09s\n",
      "        70           0.3131            0.07s\n",
      "        80           0.3105            0.05s\n",
      "        90           0.3077            0.02s\n",
      "       100           0.3045            0.00s\n"
     ]
    },
    {
     "data": {
      "text/plain": [
       "Pipeline(steps=[('rfpipe', RandomForestClassifier(bootstrap=True, class_weight='balanced',\n",
       "            criterion='gini', max_depth=None, max_features='auto',\n",
       "            max_leaf_nodes=None, min_impurity_split=1e-07,\n",
       "            min_samples_leaf=1, min_samples_split=2,\n",
       "            min_weight_fraction_leaf=0....=100, presort='auto', random_state=None,\n",
       "              subsample=1.0, verbose=1, warm_start=False))])"
      ]
     },
     "execution_count": 166,
     "metadata": {},
     "output_type": "execute_result"
    }
   ],
   "source": [
    "pipeline.fit(X2, y)"
   ]
  },
  {
   "cell_type": "code",
   "execution_count": 167,
   "metadata": {
    "collapsed": false
   },
   "outputs": [
    {
     "name": "stderr",
     "output_type": "stream",
     "text": [
      "/Applications/anaconda/lib/python2.7/site-packages/sklearn/utils/deprecation.py:70: DeprecationWarning: Function transform is deprecated; Support to use estimators as feature selectors will be removed in version 0.19. Use SelectFromModel instead.\n",
      "  warnings.warn(msg, category=DeprecationWarning)\n"
     ]
    }
   ],
   "source": [
    "y_pred4 = pipeline.predict_proba(targetX)"
   ]
  },
  {
   "cell_type": "code",
   "execution_count": 145,
   "metadata": {
    "collapsed": true
   },
   "outputs": [],
   "source": [
    "probability_list = [] # Becomes the list of probabilities\n",
    "for i in y_pred4:\n",
    "    probability_list.append(i[1])\n",
    "    y_pred4 = probability_list"
   ]
  },
  {
   "cell_type": "code",
   "execution_count": 146,
   "metadata": {
    "collapsed": false
   },
   "outputs": [
    {
     "data": {
      "text/plain": [
       "5903.1605220727379"
      ]
     },
     "execution_count": 146,
     "metadata": {},
     "output_type": "execute_result"
    }
   ],
   "source": [
    "sum(probability_list)"
   ]
  },
  {
   "cell_type": "code",
   "execution_count": 147,
   "metadata": {
    "collapsed": true
   },
   "outputs": [],
   "source": [
    "targety[\"WnvPresent\"] = probability_list"
   ]
  },
  {
   "cell_type": "code",
   "execution_count": 148,
   "metadata": {
    "collapsed": true
   },
   "outputs": [],
   "source": [
    "submission4 = targety.to_csv(\"../assets/submission4_mg.csv\", index = False, encoding = \"utf-8\")"
   ]
  },
  {
   "cell_type": "code",
   "execution_count": 168,
   "metadata": {
    "collapsed": true
   },
   "outputs": [],
   "source": [
    "gb = GradientBoostingClassifier()"
   ]
  },
  {
   "cell_type": "code",
   "execution_count": 169,
   "metadata": {
    "collapsed": true
   },
   "outputs": [],
   "source": [
    "gb.fit(X2, y)\n",
    "y_pred5 = gb.predict_proba(targetX)\n",
    "probability_list = [] # Becomes the list of probabilities\n",
    "for i in y_pred5:\n",
    "    probability_list.append(i[1])\n",
    "    y_pred5 = probability_list"
   ]
  },
  {
   "cell_type": "code",
   "execution_count": 170,
   "metadata": {
    "collapsed": false
   },
   "outputs": [
    {
     "data": {
      "text/plain": [
       "2828.5610227801831"
      ]
     },
     "execution_count": 170,
     "metadata": {},
     "output_type": "execute_result"
    }
   ],
   "source": [
    "sum(probability_list)"
   ]
  },
  {
   "cell_type": "code",
   "execution_count": 171,
   "metadata": {
    "collapsed": true
   },
   "outputs": [],
   "source": [
    "targety[\"WnvPresent\"] = probability_list"
   ]
  },
  {
   "cell_type": "code",
   "execution_count": 172,
   "metadata": {
    "collapsed": true
   },
   "outputs": [],
   "source": [
    "submission5 = targety.to_csv(\"../assets/submission5_mg.csv\", index = False, encoding = \"utf-8\")"
   ]
  },
  {
   "cell_type": "code",
   "execution_count": 160,
   "metadata": {
    "collapsed": true
   },
   "outputs": [],
   "source": [
    "geebee = GradientBoostingClassifier( loss = \"exponential\", max_depth = 5, n_estimators = 150)"
   ]
  },
  {
   "cell_type": "code",
   "execution_count": 161,
   "metadata": {
    "collapsed": true
   },
   "outputs": [],
   "source": [
    "geebee.fit(X2, y)\n",
    "y_pred6 = geebee.predict_proba(targetX)\n",
    "probability_list = [] # Becomes the list of probabilities\n",
    "for i in y_pred6:\n",
    "    probability_list.append(i[1])\n",
    "    y_pred6 = probability_list"
   ]
  },
  {
   "cell_type": "code",
   "execution_count": 162,
   "metadata": {
    "collapsed": false
   },
   "outputs": [
    {
     "data": {
      "text/plain": [
       "899.27909499262671"
      ]
     },
     "execution_count": 162,
     "metadata": {},
     "output_type": "execute_result"
    }
   ],
   "source": [
    "sum(probability_list)"
   ]
  },
  {
   "cell_type": "code",
   "execution_count": 163,
   "metadata": {
    "collapsed": true
   },
   "outputs": [],
   "source": [
    "targety[\"WnvPresent\"] = probability_list"
   ]
  },
  {
   "cell_type": "code",
   "execution_count": 164,
   "metadata": {
    "collapsed": true
   },
   "outputs": [],
   "source": [
    "submission6 = targety.to_csv(\"../assets/submission6_mg.csv\", index = False, encoding = \"utf-8\")"
   ]
  },
  {
   "cell_type": "code",
   "execution_count": 177,
   "metadata": {
    "collapsed": true
   },
   "outputs": [],
   "source": [
    "geebee = GradientBoostingClassifier( loss = \"exponential\", max_depth = 7, n_estimators = 200)"
   ]
  },
  {
   "cell_type": "code",
   "execution_count": 178,
   "metadata": {
    "collapsed": true
   },
   "outputs": [],
   "source": [
    "geebee.fit(X2, y)\n",
    "y_pred7 = geebee.predict_proba(targetX)\n",
    "probability_list = [] # Becomes the list of probabilities\n",
    "for i in y_pred7:\n",
    "    probability_list.append(i[1])\n",
    "    y_pred7 = probability_list"
   ]
  },
  {
   "cell_type": "code",
   "execution_count": 179,
   "metadata": {
    "collapsed": false
   },
   "outputs": [
    {
     "data": {
      "text/plain": [
       "333.91829255885921"
      ]
     },
     "execution_count": 179,
     "metadata": {},
     "output_type": "execute_result"
    }
   ],
   "source": [
    "sum(probability_list)"
   ]
  },
  {
   "cell_type": "code",
   "execution_count": 180,
   "metadata": {
    "collapsed": true
   },
   "outputs": [],
   "source": [
    "targety[\"WnvPresent\"] = probability_list"
   ]
  },
  {
   "cell_type": "code",
   "execution_count": 181,
   "metadata": {
    "collapsed": true
   },
   "outputs": [],
   "source": [
    "submission7 = targety.to_csv(\"../assets/submission7_mg.csv\", index = False, encoding = \"utf-8\")"
   ]
  },
  {
   "cell_type": "code",
   "execution_count": 182,
   "metadata": {
    "collapsed": true
   },
   "outputs": [],
   "source": [
    "geebee = GradientBoostingClassifier( loss = \"deviance\", max_depth = 6, n_estimators = 160)"
   ]
  },
  {
   "cell_type": "code",
   "execution_count": 183,
   "metadata": {
    "collapsed": true
   },
   "outputs": [],
   "source": [
    "geebee.fit(X2, y)\n",
    "y_pred8 = geebee.predict_proba(targetX)\n",
    "probability_list = [] # Becomes the list of probabilities\n",
    "for i in y_pred8:\n",
    "    probability_list.append(i[1])\n",
    "    y_pred8 = probability_list"
   ]
  },
  {
   "cell_type": "code",
   "execution_count": 184,
   "metadata": {
    "collapsed": false
   },
   "outputs": [
    {
     "data": {
      "text/plain": [
       "1574.17768767859"
      ]
     },
     "execution_count": 184,
     "metadata": {},
     "output_type": "execute_result"
    }
   ],
   "source": [
    "sum(probability_list)"
   ]
  },
  {
   "cell_type": "code",
   "execution_count": 185,
   "metadata": {
    "collapsed": true
   },
   "outputs": [],
   "source": [
    "targety[\"WnvPresent\"] = probability_list"
   ]
  },
  {
   "cell_type": "code",
   "execution_count": 186,
   "metadata": {
    "collapsed": true
   },
   "outputs": [],
   "source": [
    "submission8 = targety.to_csv(\"../assets/submission8_mg.csv\", index = False, encoding = \"utf-8\")"
   ]
  },
  {
   "cell_type": "code",
   "execution_count": 187,
   "metadata": {
    "collapsed": true
   },
   "outputs": [],
   "source": [
    "geebee = GradientBoostingClassifier( loss = \"exponential\", max_depth = 6, n_estimators = 160)"
   ]
  },
  {
   "cell_type": "code",
   "execution_count": 188,
   "metadata": {
    "collapsed": true
   },
   "outputs": [],
   "source": [
    "geebee.fit(X2, y)\n",
    "y_pred9 = geebee.predict_proba(targetX)\n",
    "probability_list = [] # Becomes the list of probabilities\n",
    "for i in y_pred9:\n",
    "    probability_list.append(i[1])\n",
    "    y_pred9 = probability_list"
   ]
  },
  {
   "cell_type": "code",
   "execution_count": 189,
   "metadata": {
    "collapsed": false
   },
   "outputs": [
    {
     "data": {
      "text/plain": [
       "617.50291072243544"
      ]
     },
     "execution_count": 189,
     "metadata": {},
     "output_type": "execute_result"
    }
   ],
   "source": [
    "sum(probability_list)"
   ]
  },
  {
   "cell_type": "code",
   "execution_count": 190,
   "metadata": {
    "collapsed": true
   },
   "outputs": [],
   "source": [
    "targety[\"WnvPresent\"] = probability_list"
   ]
  },
  {
   "cell_type": "code",
   "execution_count": 191,
   "metadata": {
    "collapsed": true
   },
   "outputs": [],
   "source": [
    "submission9 = targety.to_csv(\"../assets/submission9_mg.csv\", index = False, encoding = \"utf-8\")"
   ]
  },
  {
   "cell_type": "code",
   "execution_count": 192,
   "metadata": {
    "collapsed": true
   },
   "outputs": [],
   "source": [
    "geebee = GradientBoostingClassifier( loss = \"exponential\", max_depth = 4, n_estimators = 90)"
   ]
  },
  {
   "cell_type": "code",
   "execution_count": 193,
   "metadata": {
    "collapsed": true
   },
   "outputs": [],
   "source": [
    "geebee.fit(X2, y)\n",
    "y_pred10 = geebee.predict_proba(targetX)\n",
    "probability_list = [] # Becomes the list of probabilities\n",
    "for i in y_pred10:\n",
    "    probability_list.append(i[1])\n",
    "    y_pred10 = probability_list"
   ]
  },
  {
   "cell_type": "code",
   "execution_count": 194,
   "metadata": {
    "collapsed": false
   },
   "outputs": [
    {
     "data": {
      "text/plain": [
       "1715.4317895767658"
      ]
     },
     "execution_count": 194,
     "metadata": {},
     "output_type": "execute_result"
    }
   ],
   "source": [
    "sum(probability_list)"
   ]
  },
  {
   "cell_type": "code",
   "execution_count": 195,
   "metadata": {
    "collapsed": true
   },
   "outputs": [],
   "source": [
    "targety[\"WnvPresent\"] = probability_list"
   ]
  },
  {
   "cell_type": "code",
   "execution_count": 196,
   "metadata": {
    "collapsed": true
   },
   "outputs": [],
   "source": [
    "submission10 = targety.to_csv(\"../assets/submission10_mg.csv\", index = False, encoding = \"utf-8\")"
   ]
  },
  {
   "cell_type": "code",
   "execution_count": null,
   "metadata": {
    "collapsed": true
   },
   "outputs": [],
   "source": []
  }
 ],
 "metadata": {
  "kernelspec": {
   "display_name": "Python 2",
   "language": "python",
   "name": "python2"
  },
  "language_info": {
   "codemirror_mode": {
    "name": "ipython",
    "version": 2
   },
   "file_extension": ".py",
   "mimetype": "text/x-python",
   "name": "python",
   "nbconvert_exporter": "python",
   "pygments_lexer": "ipython2",
   "version": "2.7.13"
  }
 },
 "nbformat": 4,
 "nbformat_minor": 2
}
