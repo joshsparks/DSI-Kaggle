{
 "cells": [
  {
   "cell_type": "code",
   "execution_count": 1,
   "metadata": {
    "collapsed": true
   },
   "outputs": [],
   "source": [
    "import numpy as np\n",
    "import pandas as pd"
   ]
  },
  {
   "cell_type": "code",
   "execution_count": 2,
   "metadata": {
    "collapsed": false
   },
   "outputs": [],
   "source": [
    "# Read in the files\n",
    "train_data = pd.read_csv('../assets/train_complete_mg.csv')\n",
    "test_data = pd.read_csv('../assets/test_complete_mg.csv')"
   ]
  },
  {
   "cell_type": "code",
   "execution_count": 3,
   "metadata": {
    "collapsed": true
   },
   "outputs": [],
   "source": [
    "# Continuing to borrow Ritika's EDA function.\n",
    "# Need to ensure types are workable\n",
    "\n",
    "def eda(dataframe):\n",
    "    print \"dataframe types \\n\", dataframe.dtypes, \"\\n\"\n",
    "    print \"dataframe shape \\n\", dataframe.shape, \"\\n\""
   ]
  },
  {
   "cell_type": "code",
   "execution_count": 7,
   "metadata": {
    "collapsed": false,
    "scrolled": true
   },
   "outputs": [
    {
     "name": "stdout",
     "output_type": "stream",
     "text": [
      "dataframe types \n",
      "Species                   object\n",
      "Block                      int64\n",
      "Trap                      object\n",
      "Latitude                 float64\n",
      "Longitude                float64\n",
      "AddressAccuracy            int64\n",
      "NumMosquitos               int64\n",
      "WnvPresent                 int64\n",
      "YMD                       object\n",
      "PIPIENS                    int64\n",
      "RESTUANS                   int64\n",
      "SALINARIUS                 int64\n",
      "TERRITANS                  int64\n",
      "Station                    int64\n",
      "Tmax                       int64\n",
      "Tmin                       int64\n",
      "DewPoint                   int64\n",
      "WetBulb                  float64\n",
      "Sunrise                   object\n",
      "Sunset                    object\n",
      "PrecipTotal              float64\n",
      "StnPressure              float64\n",
      "SeaLevel                 float64\n",
      "ResultSpeed              float64\n",
      "ResultDir                  int64\n",
      "AvgSpeed                 float64\n",
      "Tavg_int                   int64\n",
      "Normal_Temp              float64\n",
      "Depart_calc              float64\n",
      "RA                         int64\n",
      "BR                         int64\n",
      "TS                         int64\n",
      "HZ                         int64\n",
      "SN                         int64\n",
      "FG                         int64\n",
      "FG+                        int64\n",
      "FU                         int64\n",
      "DZ                         int64\n",
      "VC                         int64\n",
      "MI                         int64\n",
      "BC                         int64\n",
      "Days_Since_Spray           int64\n",
      "Dist_to_Closest_Spray    float64\n",
      "Week                       int64\n",
      "DaylightMinutes            int64\n",
      "dtype: object \n",
      "\n",
      "dataframe shape \n",
      "(9693, 45) \n",
      "\n"
     ]
    }
   ],
   "source": [
    "eda(train_data)"
   ]
  },
  {
   "cell_type": "code",
   "execution_count": 24,
   "metadata": {
    "collapsed": false
   },
   "outputs": [],
   "source": [
    "##### Mega Function to run all of the models of relevance ###\n",
    "# Mostly derived from 6.08 work and Project 3, with a couple modifications #\n",
    "\n",
    "### NEED TO MODIFY FUNCTION BEFORE RUNNING MODEL \n",
    "### IF WISHING TO USE model_metric (also needs commented back in)\n",
    "\n",
    "### Scale = \"Yes\"; skip otherwise\n",
    "### TTS = \"Yes\" or \"No\" on whether or not to run a train/test split\n",
    "### Boost = \"Yes\"; skip otherwise\n",
    "### X = Pre-defined dataframe and its columns of interest\n",
    "### y = Pre-defined dataframe target column\n",
    "### model_to_run = Model() wishing to run this test on\n",
    "### grid_search_dictionary = parameter dictionary to feed \n",
    "            ### into grid_search for the model of interest\n",
    "\n",
    "def evaluate_model(Scale, TTS, Boost, X, y, model_to_run, grid_search_dictionary):\n",
    "    \n",
    "    if Scale == \"Yes\":\n",
    "        from sklearn.preprocessing import Normalizer\n",
    "        normalizer = Normalizer()\n",
    "        X = normalizer.fit_transform(X)\n",
    "        \n",
    "    if TTS == \"Yes\":\n",
    "        # Perform the train/test split:\n",
    "        from sklearn.model_selection import train_test_split\n",
    "        X_train, X_test, y_train, y_test = train_test_split(X, y, test_size=0.30)   \n",
    "        \n",
    "    if TTS == \"No\":\n",
    "        # Skip TTS:\n",
    "        X_train = X\n",
    "        X_test = X\n",
    "        y_train = y\n",
    "        y_test = y\n",
    "    \n",
    "    ##### Run the model\n",
    "    model = model_to_run\n",
    "    model.fit(X_train, y_train)\n",
    "    \n",
    "    # Generate predictions\n",
    "    predictions = model.predict(X_test)\n",
    "    probabilities = model.predict_proba(X_test) # Need the second value\n",
    "    \n",
    "    probability_list = [] # Becomes the list of probabilities\n",
    "    for i in probabilities:\n",
    "        probability_list.append(i[1])\n",
    "    probabilities = probability_list\n",
    "        \n",
    "    \n",
    "    # Create cross-val score on train\n",
    "    from sklearn.model_selection import cross_val_score\n",
    "    \n",
    "    # Perform 10-fold cross validation\n",
    "    trn_cv_scores = cross_val_score(model, X_train, y_train, cv=10)\n",
    "    \n",
    "    # Create scores on test group\n",
    "    from sklearn.metrics import accuracy_score\n",
    "    from sklearn.metrics import confusion_matrix\n",
    "    from sklearn.metrics import classification_report\n",
    "    from sklearn.metrics import roc_auc_score\n",
    "    \n",
    "    # Comment in if running a model with this attribute\n",
    "    # model_metric = model.feature_importances_   \n",
    "    # print model_metric\n",
    "    \n",
    "        # Model specific output attribute\n",
    "        # Have to reassign each function run\n",
    "    \n",
    "    acc_score = accuracy_score(y_test, predictions)\n",
    "    con_matrix = confusion_matrix(y_test, predictions)\n",
    "    class_rep = classification_report(y_test, predictions)\n",
    "    roc_auc = roc_auc_score(y_test, probabilities)\n",
    "\n",
    "    \n",
    "    ##### Run Bagging\n",
    "    from sklearn.ensemble import BaggingClassifier\n",
    "    \n",
    "    bagging = BaggingClassifier(base_estimator=model)\n",
    "    bagging.fit(X_train, y_train)\n",
    "    bagging_predictions = bagging.predict(X_test)\n",
    "    bagging_probabilities = bagging.predict_proba(X_test)\n",
    "    \n",
    "    bag_probability_list = [] # Becomes the list of probabilities\n",
    "    for i in bagging_probabilities:\n",
    "        bag_probability_list.append(i[1])\n",
    "    bagging_probabilities = bag_probability_list\n",
    "    \n",
    "    bg_acc_score = accuracy_score(y_test, bagging_predictions)\n",
    "    bg_con_matrix = confusion_matrix(y_test, bagging_predictions)\n",
    "    bg_class_rep = classification_report(y_test, bagging_predictions)\n",
    "    bg_roc_auc = roc_auc_score(y_test, bagging_probabilities)\n",
    "    \n",
    "    \n",
    "    ##### Run a GridSearch\n",
    "    from sklearn.model_selection import GridSearchCV\n",
    "    \n",
    "    # Run 10-fold cross validation on the bagged model\n",
    "    grid_search = GridSearchCV(model, grid_search_dictionary, cv=10, n_jobs = -1)\n",
    "    grid_search.fit(X_train, y_train)\n",
    "    grid_search_predictions = grid_search.predict(X_test)\n",
    "    grid_search_probabilities = grid_search.predict_proba(X_test)\n",
    "    \n",
    "    gs_probability_list = [] # Becomes the list of probabilities\n",
    "    for i in grid_search_probabilities:\n",
    "        gs_probability_list.append(i[1])\n",
    "    grid_search_probabilities = gs_probability_list\n",
    "    \n",
    "    gs_acc_score = accuracy_score(y_test, grid_search_predictions)\n",
    "    gs_con_matrix = confusion_matrix(y_test, grid_search_predictions)\n",
    "    gs_class_rep = classification_report(y_test, grid_search_predictions)\n",
    "    gs_roc_auc = roc_auc_score(y_test, grid_search_probabilities)\n",
    "    \n",
    "    \n",
    "    # See the outputs\n",
    "    print \"Cross Val Scores \\n\", trn_cv_scores, \"\\n\"\n",
    "    # print \"Model Attribute \\n\", model_metric, \"\\n\"\n",
    "            # Add back in if used above\n",
    "    print \"Accuracy Score \\n\", acc_score, \"\\n\"\n",
    "    print \"Confusion Matrix \\n\", con_matrix, \"\\n\"\n",
    "    print \"Classification Report \\n\", class_rep, \"\\n\"\n",
    "    print \"ROC-AUC Score \\n\", roc_auc, \"\\n\"\n",
    "    \n",
    "    print \"Bagging Classifiers \\n\", bagging.base_estimator_, \"\\n\"\n",
    "    print \"Bagging Accuracy Score \\n\", bg_acc_score, \"\\n\"\n",
    "    print \"Bagging Confusion Matrix \\n\", bg_con_matrix, \"\\n\"\n",
    "    print \"Bagging Classification Report \\n\", bg_class_rep\n",
    "    print \"Bagging ROC-AUC Score \\n\", bg_roc_auc, \"\\n\"\n",
    "    \n",
    "    print \"Grid Search Best Params \\n\", grid_search.best_params_, \"\\n\"\n",
    "    print \"Grid Search Best Score \\n\", grid_search.best_estimator_, \"\\n\"\n",
    "    print \"GS Accuracy Score \\n\", gs_acc_score, \"\\n\"\n",
    "    print \"GS Confusion Matrix \\n\", gs_con_matrix, \"\\n\"\n",
    "    print \"GS Classification Report \\n\", gs_class_rep, \"\\n\"\n",
    "    print \"GS ROC-AUC Score \\n\", gs_roc_auc, \"\\n\"\n",
    "    \n",
    "    \n",
    "        ##### Run Boosting (change if not supported)\n",
    "        \n",
    "    if Boost == \"Yes\":\n",
    "        \n",
    "        # AdaBoost\n",
    "    \n",
    "        from sklearn.ensemble import AdaBoostClassifier\n",
    "\n",
    "        aboosting = AdaBoostClassifier(base_estimator=model)\n",
    "        aboosting.fit(X_train, y_train)\n",
    "        aboosting_predictions = aboosting.predict(X_test)\n",
    "        aboosting_probabilities = aboosting.predict_proba(X_test)\n",
    "\n",
    "        aboost_probability_list = [] # Becomes the list of probabilities\n",
    "        for i in aboosting_probabilities:\n",
    "            aboost_probability_list.append(i[1])\n",
    "        aboosting_probabilities = aboost_probability_list\n",
    "\n",
    "        abst_acc_score = accuracy_score(y_test, aboosting_predictions)\n",
    "        abst_con_matrix = confusion_matrix(y_test, aboosting_predictions)\n",
    "        abst_class_rep = classification_report(y_test, aboosting_predictions)\n",
    "        abst_roc_auc = roc_auc_score(y_test, aboosting_probabilities)\n",
    "        \n",
    "        print \"AdaBoosting Classifiers \\n\", aboosting.base_estimator_, \"\\n\"\n",
    "        print \"AdaBoosting Accuracy Score \\n\", abst_acc_score, \"\\n\"\n",
    "        print \"AdaBoosting Confusion Matrix \\n\", abst_con_matrix, \"\\n\"\n",
    "        print \"AdaBoosting Classification Report \\n\", abst_class_rep, \"\\n\"\n",
    "        print \"AdaBoosting ROC-AUC Score \\n\", abst_roc_auc, \"\\n\"\n"
   ]
  },
  {
   "cell_type": "code",
   "execution_count": 9,
   "metadata": {
    "collapsed": false
   },
   "outputs": [
    {
     "data": {
      "text/plain": [
       "Index([u'Species', u'Block', u'Trap', u'Latitude', u'Longitude',\n",
       "       u'AddressAccuracy', u'NumMosquitos', u'WnvPresent', u'YMD', u'PIPIENS',\n",
       "       u'RESTUANS', u'SALINARIUS', u'TERRITANS', u'Station', u'Tmax', u'Tmin',\n",
       "       u'DewPoint', u'WetBulb', u'Sunrise', u'Sunset', u'PrecipTotal',\n",
       "       u'StnPressure', u'SeaLevel', u'ResultSpeed', u'ResultDir', u'AvgSpeed',\n",
       "       u'Tavg_int', u'Normal_Temp', u'Depart_calc', u'RA', u'BR', u'TS', u'HZ',\n",
       "       u'SN', u'FG', u'FG+', u'FU', u'DZ', u'VC', u'MI', u'BC',\n",
       "       u'Days_Since_Spray', u'Dist_to_Closest_Spray', u'Week',\n",
       "       u'DaylightMinutes'],\n",
       "      dtype='object')"
      ]
     },
     "execution_count": 9,
     "metadata": {},
     "output_type": "execute_result"
    }
   ],
   "source": [
    "train_data.columns"
   ]
  },
  {
   "cell_type": "code",
   "execution_count": 10,
   "metadata": {
    "collapsed": false
   },
   "outputs": [
    {
     "data": {
      "text/plain": [
       "Index([u'Species', u'Block', u'Trap', u'Latitude', u'Longitude',\n",
       "       u'AddressAccuracy', u'YMD', u'PIPIENS', u'RESTUANS', u'SALINARIUS',\n",
       "       u'TERRITANS', u'Station', u'Tmax', u'Tmin', u'DewPoint', u'WetBulb',\n",
       "       u'Sunrise', u'Sunset', u'PrecipTotal', u'StnPressure', u'SeaLevel',\n",
       "       u'ResultSpeed', u'ResultDir', u'AvgSpeed', u'Tavg_int', u'Normal_Temp',\n",
       "       u'Depart_calc', u'RA', u'BR', u'TS', u'HZ', u'SN', u'FG', u'FG+', u'FU',\n",
       "       u'DZ', u'VC', u'MI', u'BC', u'Days_Since_Spray',\n",
       "       u'Dist_to_Closest_Spray', u'Week', u'DaylightMinutes'],\n",
       "      dtype='object')"
      ]
     },
     "execution_count": 10,
     "metadata": {},
     "output_type": "execute_result"
    }
   ],
   "source": [
    "test_data.columns"
   ]
  },
  {
   "cell_type": "markdown",
   "metadata": {},
   "source": [
    "### From Miranda's investigation:\n",
    "Highest potential columns:  \n",
    "PIPIENS  \n",
    "Tavg  \n",
    "DewPoint  \n",
    "WetBulb  \n",
    "PrecipTotal  \n",
    "Days_Since_Spray  \n",
    "Dist_to_Closest_Spray  \n",
    "FG   \n",
    "BR    \n",
    "HZ  \n",
    "VC  \n",
    "Week  \n",
    "DaylightMinutes  "
   ]
  },
  {
   "cell_type": "code",
   "execution_count": 87,
   "metadata": {
    "collapsed": true
   },
   "outputs": [],
   "source": [
    "# Look at particular columns and run the functions.  \n",
    "\n",
    "# Narrowing columns to a few of high interest.\n",
    "columns_of_interest = [\"PIPIENS\", \"Tavg_int\", \"PrecipTotal\", \"Days_Since_Spray\", \n",
    "                      \"Dist_to_Closest_Spray\", \"Week\", \"DaylightMinutes\"]"
   ]
  },
  {
   "cell_type": "code",
   "execution_count": 13,
   "metadata": {
    "collapsed": true
   },
   "outputs": [],
   "source": [
    "# This list has all possible based on Miranda's list\n",
    "columns_of_interest = [\"PIPIENS\", \"Tavg_int\", \"DewPoint\", \"WetBulb\", \"PrecipTotal\", \n",
    "                      \"Days_Since_Spray\", \"Dist_to_Closest_Spray\", \"FG\", \"BR\", \n",
    "                      \"HZ\", \"VC\", \"Week\", \"DaylightMinutes\"]"
   ]
  },
  {
   "cell_type": "code",
   "execution_count": 249,
   "metadata": {
    "collapsed": true
   },
   "outputs": [],
   "source": [
    "# This list uses almost everything with a value:\n",
    "columns_of_interest = [\"Block\", \"Latitude\", \"Longitude\", \"AddressAccuracy\", \n",
    "                      \"PIPIENS\", \"RESTUANS\", \"SALINARIUS\", \"TERRITANS\", \"Tmax\", \"Tmin\",\n",
    "                      \"Tavg_int\", \"DewPoint\", \"WetBulb\", \"PrecipTotal\", \"StnPressure\", \n",
    "                      \"SeaLevel\", \"ResultSpeed\", \"ResultDir\", \"AvgSpeed\", \"Normal_Temp\", \n",
    "                      \"RA\", \"BR\", \"TS\", \"HZ\", \"SN\", \"FG\", \"FU\", \"DZ\", \"VC\", \"MI\", \"BC\", \n",
    "                      \"Days_Since_Spray\", \"Dist_to_Closest_Spray\", \"Week\", \"DaylightMinutes\"]"
   ]
  },
  {
   "cell_type": "code",
   "execution_count": 14,
   "metadata": {
    "collapsed": false
   },
   "outputs": [],
   "source": [
    "X = train_data[columns_of_interest]\n",
    "y = train_data[\"WnvPresent\"]"
   ]
  },
  {
   "cell_type": "code",
   "execution_count": 4,
   "metadata": {
    "collapsed": true
   },
   "outputs": [],
   "source": [
    "# Import necessary models:\n",
    "\n",
    "from sklearn.linear_model import LogisticRegression\n",
    "from sklearn.neighbors import KNeighborsClassifier\n",
    "from sklearn.tree import DecisionTreeClassifier\n",
    "from sklearn.ensemble import RandomForestClassifier\n",
    "from sklearn.ensemble import ExtraTreesClassifier\n",
    "from sklearn.svm import SVC"
   ]
  },
  {
   "cell_type": "code",
   "execution_count": 35,
   "metadata": {
    "collapsed": true
   },
   "outputs": [],
   "source": [
    "# Recall\n",
    "\n",
    "### Scale = \"Yes\"; skip otherwise\n",
    "### TTS = \"Yes\" or \"No\" on whether or not to run a train/test split\n",
    "### Boost = \"Yes\"; skip otherwise\n",
    "### X = Pre-defined dataframe and its columns of interest\n",
    "### y = Pre-defined dataframe target column\n",
    "### model_to_run = Model() wishing to run this test on\n",
    "### grid_search_dictionary = parameter dictionary to feed \n",
    "            ### into grid_search for the model of interest"
   ]
  },
  {
   "cell_type": "markdown",
   "metadata": {},
   "source": [
    "# Logistic Regression"
   ]
  },
  {
   "cell_type": "code",
   "execution_count": 25,
   "metadata": {
    "collapsed": false,
    "scrolled": true
   },
   "outputs": [
    {
     "name": "stdout",
     "output_type": "stream",
     "text": [
      "Cross Val Scores \n",
      "[ 0.94705882  0.94698085  0.94698085  0.94698085  0.94837758  0.94837758\n",
      "  0.94837758  0.94837758  0.94837758  0.94837758] \n",
      "\n",
      "Accuracy Score \n",
      "0.948762035763 \n",
      "\n",
      "Confusion Matrix \n",
      "[[2759    0]\n",
      " [ 149    0]] \n",
      "\n",
      "Classification Report \n",
      "             precision    recall  f1-score   support\n",
      "\n",
      "          0       0.95      1.00      0.97      2759\n",
      "          1       0.00      0.00      0.00       149\n",
      "\n",
      "avg / total       0.90      0.95      0.92      2908\n",
      "\n",
      "\n",
      "ROC-AUC Score \n",
      "0.644468013165 \n",
      "\n",
      "Bagging Classifiers \n",
      "LogisticRegression(C=1.0, class_weight=None, dual=False, fit_intercept=True,\n",
      "          intercept_scaling=1, max_iter=100, multi_class='ovr', n_jobs=1,\n",
      "          penalty='l2', random_state=None, solver='liblinear', tol=0.0001,\n",
      "          verbose=0, warm_start=False) \n",
      "\n",
      "Bagging Accuracy Score \n",
      "0.948762035763 \n",
      "\n",
      "Bagging Confusion Matrix \n",
      "[[2759    0]\n",
      " [ 149    0]] \n",
      "\n",
      "Bagging Classification Report \n",
      "             precision    recall  f1-score   support\n",
      "\n",
      "          0       0.95      1.00      0.97      2759\n",
      "          1       0.00      0.00      0.00       149\n",
      "\n",
      "avg / total       0.90      0.95      0.92      2908\n",
      "\n",
      "Bagging ROC-AUC Score \n",
      "0.650033690837 \n",
      "\n",
      "Grid Search Best Params \n",
      "{'penalty': 'l1', 'C': 0.001} \n",
      "\n",
      "Grid Search Best Score \n",
      "LogisticRegression(C=0.001, class_weight=None, dual=False, fit_intercept=True,\n",
      "          intercept_scaling=1, max_iter=100, multi_class='ovr', n_jobs=1,\n",
      "          penalty='l1', random_state=None, solver='liblinear', tol=0.0001,\n",
      "          verbose=0, warm_start=False) \n",
      "\n",
      "GS Accuracy Score \n",
      "0.948762035763 \n",
      "\n",
      "GS Confusion Matrix \n",
      "[[2759    0]\n",
      " [ 149    0]] \n",
      "\n",
      "GS Classification Report \n",
      "             precision    recall  f1-score   support\n",
      "\n",
      "          0       0.95      1.00      0.97      2759\n",
      "          1       0.00      0.00      0.00       149\n",
      "\n",
      "avg / total       0.90      0.95      0.92      2908\n",
      "\n",
      "\n",
      "GS ROC-AUC Score \n",
      "0.5 \n",
      "\n",
      "AdaBoosting Classifiers \n",
      "LogisticRegression(C=1.0, class_weight=None, dual=False, fit_intercept=True,\n",
      "          intercept_scaling=1, max_iter=100, multi_class='ovr', n_jobs=1,\n",
      "          penalty='l2', random_state=None, solver='liblinear', tol=0.0001,\n",
      "          verbose=0, warm_start=False) \n",
      "\n",
      "AdaBoosting Accuracy Score \n",
      "0.948762035763 \n",
      "\n",
      "AdaBoosting Confusion Matrix \n",
      "[[2759    0]\n",
      " [ 149    0]] \n",
      "\n",
      "AdaBoosting Classification Report \n",
      "             precision    recall  f1-score   support\n",
      "\n",
      "          0       0.95      1.00      0.97      2759\n",
      "          1       0.00      0.00      0.00       149\n",
      "\n",
      "avg / total       0.90      0.95      0.92      2908\n",
      "\n",
      "\n",
      "AdaBoosting ROC-AUC Score \n",
      "0.573011814902 \n",
      "\n"
     ]
    }
   ],
   "source": [
    "# Logistic Regression\n",
    "\n",
    "# Set up the parameters for GridSearch\n",
    "log_dict = {\n",
    "    'penalty':('l1', 'l2'),\n",
    "    'C':[0.001, 0.01, 0.1, 1.0, 2.0, 5.0, 10.0]\n",
    "    }\n",
    "\n",
    "evaluate_model(\"Yes\", \"Yes\", \"Yes\", X, y, LogisticRegression(), log_dict)"
   ]
  },
  {
   "cell_type": "markdown",
   "metadata": {},
   "source": [
    "# KNN"
   ]
  },
  {
   "cell_type": "code",
   "execution_count": 26,
   "metadata": {
    "collapsed": false,
    "scrolled": true
   },
   "outputs": [
    {
     "name": "stdout",
     "output_type": "stream",
     "text": [
      "Cross Val Scores \n",
      "[ 0.94256259  0.93814433  0.94256259  0.94403535  0.94698085  0.94690265\n",
      "  0.94100295  0.9439528   0.93657817  0.94542773] \n",
      "\n",
      "Accuracy Score \n",
      "0.950137551582 \n",
      "\n",
      "Confusion Matrix \n",
      "[[2749   26]\n",
      " [ 119   14]] \n",
      "\n",
      "Classification Report \n",
      "             precision    recall  f1-score   support\n",
      "\n",
      "          0       0.96      0.99      0.97      2775\n",
      "          1       0.35      0.11      0.16       133\n",
      "\n",
      "avg / total       0.93      0.95      0.94      2908\n",
      "\n",
      "\n",
      "ROC-AUC Score \n",
      "0.66462778568 \n",
      "\n",
      "Bagging Classifiers \n",
      "KNeighborsClassifier(algorithm='auto', leaf_size=30, metric='minkowski',\n",
      "           metric_params=None, n_jobs=1, n_neighbors=5, p=2,\n",
      "           weights='uniform') \n",
      "\n",
      "Bagging Accuracy Score \n",
      "0.952200825309 \n",
      "\n",
      "Bagging Confusion Matrix \n",
      "[[2754   21]\n",
      " [ 118   15]] \n",
      "\n",
      "Bagging Classification Report \n",
      "             precision    recall  f1-score   support\n",
      "\n",
      "          0       0.96      0.99      0.98      2775\n",
      "          1       0.42      0.11      0.18       133\n",
      "\n",
      "avg / total       0.93      0.95      0.94      2908\n",
      "\n",
      "Bagging ROC-AUC Score \n",
      "0.750598116914 \n",
      "\n",
      "Grid Search Best Params \n",
      "{'n_neighbors': 10, 'weights': 'uniform'} \n",
      "\n",
      "Grid Search Best Score \n",
      "KNeighborsClassifier(algorithm='auto', leaf_size=30, metric='minkowski',\n",
      "           metric_params=None, n_jobs=1, n_neighbors=10, p=2,\n",
      "           weights='uniform') \n",
      "\n",
      "GS Accuracy Score \n",
      "0.9515130674 \n",
      "\n",
      "GS Confusion Matrix \n",
      "[[2759   16]\n",
      " [ 125    8]] \n",
      "\n",
      "GS Classification Report \n",
      "             precision    recall  f1-score   support\n",
      "\n",
      "          0       0.96      0.99      0.98      2775\n",
      "          1       0.33      0.06      0.10       133\n",
      "\n",
      "avg / total       0.93      0.95      0.94      2908\n",
      "\n",
      "\n",
      "GS ROC-AUC Score \n",
      "0.739827948249 \n",
      "\n"
     ]
    }
   ],
   "source": [
    "# KNN Classifier\n",
    "\n",
    "# Good to check in both high number of columns, and low.\n",
    "# This run is low\n",
    "\n",
    "knn_dict = {\n",
    "    'n_neighbors': [1, 2, 3, 5, 10, 20, 50],\n",
    "    'weights': ('uniform', 'distance')\n",
    "    }\n",
    "\n",
    "\n",
    "evaluate_model(\"Yes\", \"Yes\", \"No\", X, y, KNeighborsClassifier(), knn_dict)"
   ]
  },
  {
   "cell_type": "markdown",
   "metadata": {},
   "source": [
    "# Decision Tree"
   ]
  },
  {
   "cell_type": "code",
   "execution_count": 27,
   "metadata": {
    "collapsed": false,
    "scrolled": true
   },
   "outputs": [
    {
     "name": "stdout",
     "output_type": "stream",
     "text": [
      "Cross Val Scores \n",
      "[ 0.93225331  0.92930781  0.9455081   0.93814433  0.92783505  0.93519882\n",
      "  0.92930781  0.93657817  0.93205318  0.93648449] \n",
      "\n",
      "Accuracy Score \n",
      "0.936382393398 \n",
      "\n",
      "Confusion Matrix \n",
      "[[2704   48]\n",
      " [ 137   19]] \n",
      "\n",
      "Classification Report \n",
      "             precision    recall  f1-score   support\n",
      "\n",
      "          0       0.95      0.98      0.97      2752\n",
      "          1       0.28      0.12      0.17       156\n",
      "\n",
      "avg / total       0.92      0.94      0.92      2908\n",
      "\n",
      "\n",
      "ROC-AUC Score \n",
      "0.680132397883 \n",
      "\n",
      "Bagging Classifiers \n",
      "DecisionTreeClassifier(class_weight=None, criterion='gini', max_depth=None,\n",
      "            max_features=None, max_leaf_nodes=None,\n",
      "            min_impurity_split=1e-07, min_samples_leaf=1,\n",
      "            min_samples_split=2, min_weight_fraction_leaf=0.0,\n",
      "            presort=False, random_state=None, splitter='best') \n",
      "\n",
      "Bagging Accuracy Score \n",
      "0.939821182944 \n",
      "\n",
      "Bagging Confusion Matrix \n",
      "[[2713   39]\n",
      " [ 136   20]] \n",
      "\n",
      "Bagging Classification Report \n",
      "             precision    recall  f1-score   support\n",
      "\n",
      "          0       0.95      0.99      0.97      2752\n",
      "          1       0.34      0.13      0.19       156\n",
      "\n",
      "avg / total       0.92      0.94      0.93      2908\n",
      "\n",
      "Bagging ROC-AUC Score \n",
      "0.759044704085 \n",
      "\n",
      "Grid Search Best Params \n",
      "{'max_features': 0.6, 'min_samples_split': 3, 'criterion': 'gini', 'max_depth': 5, 'min_samples_leaf': 10} \n",
      "\n",
      "Grid Search Best Score \n",
      "DecisionTreeClassifier(class_weight=None, criterion='gini', max_depth=5,\n",
      "            max_features=0.6, max_leaf_nodes=None,\n",
      "            min_impurity_split=1e-07, min_samples_leaf=10,\n",
      "            min_samples_split=3, min_weight_fraction_leaf=0.0,\n",
      "            presort=False, random_state=None, splitter='best') \n",
      "\n",
      "GS Accuracy Score \n",
      "0.946354883081 \n",
      "\n",
      "GS Confusion Matrix \n",
      "[[2749    3]\n",
      " [ 153    3]] \n",
      "\n",
      "GS Classification Report \n",
      "             precision    recall  f1-score   support\n",
      "\n",
      "          0       0.95      1.00      0.97      2752\n",
      "          1       0.50      0.02      0.04       156\n",
      "\n",
      "avg / total       0.92      0.95      0.92      2908\n",
      "\n",
      "\n",
      "GS ROC-AUC Score \n",
      "0.804922760137 \n",
      "\n",
      "AdaBoosting Classifiers \n",
      "DecisionTreeClassifier(class_weight=None, criterion='gini', max_depth=None,\n",
      "            max_features=None, max_leaf_nodes=None,\n",
      "            min_impurity_split=1e-07, min_samples_leaf=1,\n",
      "            min_samples_split=2, min_weight_fraction_leaf=0.0,\n",
      "            presort=False, random_state=None, splitter='best') \n",
      "\n",
      "AdaBoosting Accuracy Score \n",
      "0.937070151307 \n",
      "\n",
      "AdaBoosting Confusion Matrix \n",
      "[[2706   46]\n",
      " [ 137   19]] \n",
      "\n",
      "AdaBoosting Classification Report \n",
      "             precision    recall  f1-score   support\n",
      "\n",
      "          0       0.95      0.98      0.97      2752\n",
      "          1       0.29      0.12      0.17       156\n",
      "\n",
      "avg / total       0.92      0.94      0.92      2908\n",
      "\n",
      "\n",
      "AdaBoosting ROC-AUC Score \n",
      "0.734899094365 \n",
      "\n"
     ]
    }
   ],
   "source": [
    "# Decision tree:\n",
    "\n",
    "# With this setup, better to run with more columns, so\n",
    "# columns_of_interest takes high amount\n",
    "\n",
    "dtree_dict = {\n",
    "    'criterion':('gini', 'entropy'),\n",
    "    'max_features':[2, 3, 5, 8, 10, 0.2, 0.4, 0.6, 0.8, \"sqrt\", \"log2\", None],\n",
    "    'max_depth':[2, 3, 5, 8, 10, None],\n",
    "    'min_samples_split':[2, 3, 5, 8, 10, 0.2, 0.4, 0.6, 0.8],\n",
    "    'min_samples_leaf': [2, 3, 5, 8, 10, 0.2, 0.3, 0.4, 0.5]\n",
    "    }\n",
    "\n",
    "evaluate_model(\"No\", \"Yes\", \"Yes\", X, y, DecisionTreeClassifier(), dtree_dict)"
   ]
  },
  {
   "cell_type": "markdown",
   "metadata": {},
   "source": [
    "# Random forest"
   ]
  },
  {
   "cell_type": "code",
   "execution_count": 31,
   "metadata": {
    "collapsed": false,
    "scrolled": true
   },
   "outputs": [],
   "source": [
    "# Random forest:\n",
    "\n",
    "\n",
    "rforest_dict = {\n",
    "    'criterion':('gini', 'entropy'),\n",
    "    'n_estimators':[2, 4, 7, 10, 20],\n",
    "    'max_features':[2, 3, 5, 8, 0.2, 0.4, 0.6, 0.8, \"sqrt\", \"log2\", None],\n",
    "    'max_depth':[4, 10, None],\n",
    "    'min_samples_split':[2, 3, 5, 8, 10, 0.2, 0.4, 0.6, 0.8],\n",
    "    'min_samples_leaf': [2, 3, 5, 8, 10, 0.2, 0.3, 0.4, 0.5]\n",
    "    }\n",
    "\n",
    "rforest_model = evaluate_model(\"No\", \"Yes\", \"Yes\", X, y, RandomForestClassifier(), rforest_dict)"
   ]
  },
  {
   "cell_type": "markdown",
   "metadata": {},
   "source": [
    "# Extra trees"
   ]
  },
  {
   "cell_type": "code",
   "execution_count": 34,
   "metadata": {
    "collapsed": false
   },
   "outputs": [
    {
     "name": "stdout",
     "output_type": "stream",
     "text": [
      "Cross Val Scores \n",
      "[ 0.93676471  0.93814433  0.93078056  0.94403535  0.9380531   0.92477876\n",
      "  0.93067847  0.9380531   0.94985251  0.93510324] \n",
      "\n",
      "Accuracy Score \n",
      "0.934662998624 \n",
      "\n",
      "Confusion Matrix \n",
      "[[2703   53]\n",
      " [ 137   15]] \n",
      "\n",
      "Classification Report \n",
      "             precision    recall  f1-score   support\n",
      "\n",
      "          0       0.95      0.98      0.97      2756\n",
      "          1       0.22      0.10      0.14       152\n",
      "\n",
      "avg / total       0.91      0.93      0.92      2908\n",
      "\n",
      "\n",
      "ROC-AUC Score \n",
      "0.693747135437 \n",
      "\n",
      "Bagging Classifiers \n",
      "ExtraTreesClassifier(bootstrap=False, class_weight=None, criterion='gini',\n",
      "           max_depth=None, max_features='auto', max_leaf_nodes=None,\n",
      "           min_impurity_split=1e-07, min_samples_leaf=1,\n",
      "           min_samples_split=2, min_weight_fraction_leaf=0.0,\n",
      "           n_estimators=10, n_jobs=1, oob_score=False, random_state=None,\n",
      "           verbose=0, warm_start=False) \n",
      "\n",
      "Bagging Accuracy Score \n",
      "0.936382393398 \n",
      "\n",
      "Bagging Confusion Matrix \n",
      "[[2700   56]\n",
      " [ 129   23]] \n",
      "\n",
      "Bagging Classification Report \n",
      "             precision    recall  f1-score   support\n",
      "\n",
      "          0       0.95      0.98      0.97      2756\n",
      "          1       0.29      0.15      0.20       152\n",
      "\n",
      "avg / total       0.92      0.94      0.93      2908\n",
      "\n",
      "Bagging ROC-AUC Score \n",
      "0.768493144145 \n",
      "\n",
      "Grid Search Best Params \n",
      "{'min_samples_leaf': 5, 'n_estimators': 20, 'min_samples_split': 3, 'criterion': 'gini', 'max_features': 8, 'max_depth': 10} \n",
      "\n",
      "Grid Search Best Score \n",
      "ExtraTreesClassifier(bootstrap=False, class_weight=None, criterion='gini',\n",
      "           max_depth=10, max_features=8, max_leaf_nodes=None,\n",
      "           min_impurity_split=1e-07, min_samples_leaf=5,\n",
      "           min_samples_split=3, min_weight_fraction_leaf=0.0,\n",
      "           n_estimators=20, n_jobs=1, oob_score=False, random_state=None,\n",
      "           verbose=0, warm_start=False) \n",
      "\n",
      "GS Accuracy Score \n",
      "0.9477303989 \n",
      "\n",
      "GS Confusion Matrix \n",
      "[[2747    9]\n",
      " [ 143    9]] \n",
      "\n",
      "GS Classification Report \n",
      "             precision    recall  f1-score   support\n",
      "\n",
      "          0       0.95      1.00      0.97      2756\n",
      "          1       0.50      0.06      0.11       152\n",
      "\n",
      "avg / total       0.93      0.95      0.93      2908\n",
      "\n",
      "\n",
      "GS ROC-AUC Score \n",
      "0.835742351616 \n",
      "\n",
      "AdaBoosting Classifiers \n",
      "ExtraTreesClassifier(bootstrap=False, class_weight=None, criterion='gini',\n",
      "           max_depth=None, max_features='auto', max_leaf_nodes=None,\n",
      "           min_impurity_split=1e-07, min_samples_leaf=1,\n",
      "           min_samples_split=2, min_weight_fraction_leaf=0.0,\n",
      "           n_estimators=10, n_jobs=1, oob_score=False, random_state=None,\n",
      "           verbose=0, warm_start=False) \n",
      "\n",
      "AdaBoosting Accuracy Score \n",
      "0.93431911967 \n",
      "\n",
      "AdaBoosting Confusion Matrix \n",
      "[[2698   58]\n",
      " [ 133   19]] \n",
      "\n",
      "AdaBoosting Classification Report \n",
      "             precision    recall  f1-score   support\n",
      "\n",
      "          0       0.95      0.98      0.97      2756\n",
      "          1       0.25      0.12      0.17       152\n",
      "\n",
      "avg / total       0.92      0.93      0.92      2908\n",
      "\n",
      "\n",
      "AdaBoosting ROC-AUC Score \n",
      "0.772855635551 \n",
      "\n"
     ]
    }
   ],
   "source": [
    "# Extra forest:\n",
    "\n",
    "exforest_dict = {\n",
    "    'criterion':('gini', 'entropy'),\n",
    "    'n_estimators':[2, 4, 7, 10, 20],\n",
    "    'max_features':[2, 3, 5, 8, 10, 0.2, 0.4, 0.6, 0.8, \"sqrt\", \"log2\", None],\n",
    "    'max_depth':[4, 10, None],\n",
    "    'min_samples_split':[2, 3, 5, 8, 10, 0.2, 0.4, 0.6, 0.8],\n",
    "    'min_samples_leaf': [2, 3, 5, 8, 10, 0.2, 0.3, 0.4, 0.5]\n",
    "    }\n",
    "\n",
    "rforest_model = evaluate_model(\"No\", \"Yes\", \"Yes\", X, y, ExtraTreesClassifier(), exforest_dict)"
   ]
  },
  {
   "cell_type": "markdown",
   "metadata": {},
   "source": [
    "# SVM"
   ]
  },
  {
   "cell_type": "code",
   "execution_count": 29,
   "metadata": {
    "collapsed": false,
    "scrolled": true
   },
   "outputs": [
    {
     "name": "stdout",
     "output_type": "stream",
     "text": [
      "Cross Val Scores \n",
      "[ 0.94403535  0.94403535  0.94403535  0.94403535  0.94403535  0.94403535\n",
      "  0.94403535  0.9439528   0.94534712  0.94534712] \n",
      "\n",
      "Accuracy Score \n",
      "0.957015130674 \n",
      "\n",
      "Confusion Matrix \n",
      "[[2783    0]\n",
      " [ 125    0]] \n",
      "\n",
      "Classification Report \n",
      "             precision    recall  f1-score   support\n",
      "\n",
      "          0       0.96      1.00      0.98      2783\n",
      "          1       0.00      0.00      0.00       125\n",
      "\n",
      "avg / total       0.92      0.96      0.94      2908\n",
      "\n",
      "\n",
      "ROC-AUC Score \n",
      "0.66732878189 \n",
      "\n",
      "Bagging Classifiers \n",
      "SVC(C=1.0, cache_size=200, class_weight=None, coef0=0.0,\n",
      "  decision_function_shape=None, degree=3, gamma='auto', kernel='rbf',\n",
      "  max_iter=-1, probability=True, random_state=None, shrinking=True,\n",
      "  tol=0.001, verbose=False) \n",
      "\n",
      "Bagging Accuracy Score \n",
      "0.916781292985 \n",
      "\n",
      "Bagging Confusion Matrix \n",
      "[[2664  119]\n",
      " [ 123    2]] \n",
      "\n",
      "Bagging Classification Report \n",
      "             precision    recall  f1-score   support\n",
      "\n",
      "          0       0.96      0.96      0.96      2783\n",
      "          1       0.02      0.02      0.02       125\n",
      "\n",
      "avg / total       0.92      0.92      0.92      2908\n",
      "\n",
      "Bagging ROC-AUC Score \n",
      "0.665983471074 \n",
      "\n",
      "Grid Search Best Params \n",
      "{'kernel': 'linear', 'C': 0.001} \n",
      "\n",
      "Grid Search Best Score \n",
      "SVC(C=0.001, cache_size=200, class_weight=None, coef0=0.0,\n",
      "  decision_function_shape=None, degree=3, gamma='auto', kernel='linear',\n",
      "  max_iter=-1, probability=True, random_state=None, shrinking=True,\n",
      "  tol=0.001, verbose=False) \n",
      "\n",
      "GS Accuracy Score \n",
      "0.957015130674 \n",
      "\n",
      "GS Confusion Matrix \n",
      "[[2783    0]\n",
      " [ 125    0]] \n",
      "\n",
      "GS Classification Report \n",
      "             precision    recall  f1-score   support\n",
      "\n",
      "          0       0.96      1.00      0.98      2783\n",
      "          1       0.00      0.00      0.00       125\n",
      "\n",
      "avg / total       0.92      0.96      0.94      2908\n",
      "\n",
      "\n",
      "GS ROC-AUC Score \n",
      "0.641412863816 \n",
      "\n",
      "AdaBoosting Classifiers \n",
      "SVC(C=1.0, cache_size=200, class_weight=None, coef0=0.0,\n",
      "  decision_function_shape=None, degree=3, gamma='auto', kernel='rbf',\n",
      "  max_iter=-1, probability=True, random_state=None, shrinking=True,\n",
      "  tol=0.001, verbose=False) \n",
      "\n",
      "AdaBoosting Accuracy Score \n",
      "0.957015130674 \n",
      "\n",
      "AdaBoosting Confusion Matrix \n",
      "[[2783    0]\n",
      " [ 125    0]] \n",
      "\n",
      "AdaBoosting Classification Report \n",
      "             precision    recall  f1-score   support\n",
      "\n",
      "          0       0.96      1.00      0.98      2783\n",
      "          1       0.00      0.00      0.00       125\n",
      "\n",
      "avg / total       0.92      0.96      0.94      2908\n",
      "\n",
      "\n",
      "AdaBoosting ROC-AUC Score \n",
      "0.449500538987 \n",
      "\n"
     ]
    }
   ],
   "source": [
    "# SVM - Trying without modifying the function\n",
    "\n",
    "svm_dict = {\n",
    "    'C':[0.001, 0.01, 0.1, 1.0, 2.0, 5.0, 10.0],\n",
    "    'kernel':('linear', 'poly', 'rbf', 'sigmoid'),\n",
    "}\n",
    "\n",
    "evaluate_model(\"Yes\", \"Yes\", \"Yes\", X, y, SVC(probability=True), svm_dict)\n",
    "\n",
    "# Note: probability=True to actually get probabilities, otherwise\n",
    "# function will throw an error (.predict_proba will not work)"
   ]
  },
  {
   "cell_type": "code",
   "execution_count": null,
   "metadata": {
    "collapsed": true
   },
   "outputs": [],
   "source": []
  },
  {
   "cell_type": "markdown",
   "metadata": {},
   "source": [
    "# Get an output of probabilities\n",
    "Re-do the function to take in the test list and output the probability list"
   ]
  },
  {
   "cell_type": "code",
   "execution_count": null,
   "metadata": {
    "collapsed": true
   },
   "outputs": [],
   "source": [
    "# Include the Id column here for the actual output\n",
    "X_to_test = test_data[columns_of_interest]"
   ]
  },
  {
   "cell_type": "code",
   "execution_count": 22,
   "metadata": {
    "collapsed": true
   },
   "outputs": [],
   "source": [
    "##### Mega Function to run all of the models of relevance ###\n",
    "# Mostly derived from 6.08 work and Project 3, with a couple modifications #\n",
    "\n",
    "### NEED TO MODIFY FUNCTION BEFORE RUNNING MODEL \n",
    "### IF WISHING TO USE model_metric (also needs commented back in)\n",
    "\n",
    "### Scale = \"Yes\"; skip otherwise\n",
    "### TTS = \"Yes\" or \"No\" on whether or not to run a train/test split\n",
    "### X = Pre-defined dataframe and its columns of interest\n",
    "### y = Pre-defined dataframe target column\n",
    "### model_to_run = Model() wishing to run this test on\n",
    "### grid_search_dictionary = parameter dictionary to feed \n",
    "            ### into grid_search for the model of interest\n",
    "\n",
    "def make_predictions(Scale, TTS, X, y, model_to_run, grid_search_dictionary, X_to_test):\n",
    "    \n",
    "    if Scale == \"Yes\":\n",
    "        from sklearn.preprocessing import Normalizer\n",
    "        normalizer = Normalizer()\n",
    "        X = normalizer.fit_transform(X)\n",
    "        \n",
    "    if TTS == \"Yes\":\n",
    "        # Perform the train/test split:\n",
    "        from sklearn.model_selection import train_test_split\n",
    "        X_train, X_test, y_train, y_test = train_test_split(X, y, test_size=0.30,\n",
    "                                                           random_state=42)   \n",
    "        \n",
    "    if TTS == \"No\":\n",
    "        # Skip TTS:\n",
    "        X_train = X\n",
    "        X_test = X\n",
    "        y_train = y\n",
    "        y_test = y\n",
    "    \n",
    "    ##### Run the model\n",
    "    model = model_to_run\n",
    "    model.fit(X_train, y_train)\n",
    "    \n",
    "    # Generate predictions\n",
    "    predictions = model.predict(X_test)\n",
    "    probabilities = model.predict_proba(X_test) # Need the second value\n",
    "    \n",
    "    probability_list = [] # Becomes the list of probabilities\n",
    "    for i in probabilities:\n",
    "        probability_list.append(i[1])\n",
    "    probabilities = probability_list\n",
    "        \n",
    "    \n",
    "    # Create cross-val score on train\n",
    "    from sklearn.model_selection import cross_val_score\n",
    "    \n",
    "    # Perform 10-fold cross validation\n",
    "    trn_cv_scores = cross_val_score(model, X_train, y_train, cv=10)\n",
    "    \n",
    "    # Create scores on test group\n",
    "    from sklearn.metrics import accuracy_score\n",
    "    from sklearn.metrics import confusion_matrix\n",
    "    from sklearn.metrics import classification_report\n",
    "    from sklearn.metrics import roc_auc_score\n",
    "    \n",
    "    acc_score = accuracy_score(y_test, predictions)\n",
    "    con_matrix = confusion_matrix(y_test, predictions)\n",
    "    class_rep = classification_report(y_test, predictions)\n",
    "    roc_auc = roc_auc_score(y_test, probabilities)\n",
    "\n",
    "    \n",
    "     ##### Run a GridSearch\n",
    "    from sklearn.model_selection import GridSearchCV\n",
    "    \n",
    "    # Run 10-fold cross validation on the bagged model\n",
    "    grid_search = GridSearchCV(model, grid_search_dictionary, cv=10, \n",
    "                               scoring='roc_auc', n_jobs = -1)\n",
    "    grid_search.fit(X_train, y_train)\n",
    "    grid_search_predictions = grid_search.predict(X_test)\n",
    "    grid_search_probabilities = grid_search.predict_proba(X_test)\n",
    "    \n",
    "    gs_probability_list = [] # Becomes the list of probabilities\n",
    "    for i in grid_search_probabilities:\n",
    "        gs_probability_list.append(i[1])\n",
    "    grid_search_probabilities = gs_probability_list\n",
    "    \n",
    "    gs_acc_score = accuracy_score(y_test, grid_search_predictions)\n",
    "    gs_con_matrix = confusion_matrix(y_test, grid_search_predictions)\n",
    "    gs_class_rep = classification_report(y_test, grid_search_predictions)\n",
    "    gs_roc_auc = roc_auc_score(y_test, grid_search_probabilities)\n",
    "    \n",
    "    \n",
    "    # See the outputs\n",
    "    print \"Cross Val Scores \\n\", trn_cv_scores, \"\\n\"\n",
    "    # print \"Model Attribute \\n\", model_metric, \"\\n\"\n",
    "            # Add back in if used above\n",
    "    print \"Accuracy Score \\n\", acc_score, \"\\n\"\n",
    "    print \"Confusion Matrix \\n\", con_matrix, \"\\n\"\n",
    "    print \"Classification Report \\n\", class_rep, \"\\n\"\n",
    "    print \"ROC-AUC Score \\n\", roc_auc, \"\\n\"\n",
    "    \n",
    "    print \"Grid Search Best Params \\n\", grid_search.best_params_, \"\\n\"\n",
    "    print \"Grid Search Best Score \\n\", grid_search.best_estimator_, \"\\n\"\n",
    "    print \"GS Accuracy Score \\n\", gs_acc_score, \"\\n\"\n",
    "    print \"GS Confusion Matrix \\n\", gs_con_matrix, \"\\n\"\n",
    "    print \"GS Classification Report \\n\", gs_class_rep, \"\\n\"\n",
    "    print \"GS ROC-AUC Score \\n\", gs_roc_auc, \"\\n\"\n",
    "    \n",
    "    # Get final output list\n",
    "    final_predictions = grid_search.predict_proba(X_to_test)\n",
    "    \n",
    "    final_probability_list = [] # Becomes the list of probabilities\n",
    "    for i in final_predictions:\n",
    "        final_probability_list.append(i[1])\n",
    "    final_predictions = final_probability_list\n",
    "    \n",
    "    \n",
    "    # Code mostly unmodified from 4.05:\n",
    "\n",
    "    from sklearn.metrics import roc_curve, auc\n",
    "    import matplotlib.pyplot as plt\n",
    "    %matplotlib inline\n",
    "\n",
    "    FPR = dict()\n",
    "    TPR = dict()\n",
    "    ROC_AUC = dict()\n",
    "\n",
    "    # For class 1, find the area under the curve\n",
    "    FPR[1], TPR[1], _ = roc_curve(y_test, grid_search_probabilities)\n",
    "    ROC_AUC[1] = auc(FPR[1], TPR[1])\n",
    "\n",
    "    # Plot of a ROC curve for class 1 (has_cancer)\n",
    "    plt.figure(figsize=[11,9])\n",
    "    plt.plot(FPR[1], TPR[1], label='ROC curve (area = %0.2f)' % ROC_AUC[1], linewidth=4)\n",
    "    plt.plot([0, 1], [0, 1], 'k--', linewidth=4)\n",
    "    plt.xlim([0.0, 1.0])\n",
    "    plt.ylim([0.0, 1.05])\n",
    "    plt.xlabel('False Positive Rate', fontsize=18)\n",
    "    plt.ylabel('True Positive Rate', fontsize=18)\n",
    "    plt.title('Receiver operating characteristic for WnvPresent Probability', fontsize=18)\n",
    "    plt.legend(loc=\"lower right\")\n",
    "    plt.show()\n",
    "    \n",
    "\n",
    "    print \"Generating output data: \", \"\\n\"\n",
    "    return final_predictions"
   ]
  },
  {
   "cell_type": "code",
   "execution_count": 89,
   "metadata": {
    "collapsed": true
   },
   "outputs": [],
   "source": [
    "# Set up the testing DataFrame\n",
    "X_to_test = test_data[columns_of_interest]"
   ]
  },
  {
   "cell_type": "markdown",
   "metadata": {},
   "source": [
    "# First run\n",
    "Set X as the middle-trmmed dataframe set"
   ]
  },
  {
   "cell_type": "code",
   "execution_count": 72,
   "metadata": {
    "collapsed": false
   },
   "outputs": [
    {
     "name": "stdout",
     "output_type": "stream",
     "text": [
      "Cross Val Scores \n",
      "[ 0.93519882  0.93961708  0.94256259  0.92783505  0.93372607  0.94100295\n",
      "  0.92477876  0.94100295  0.93067847  0.93510324] \n",
      "\n",
      "Accuracy Score \n",
      "0.942228335626 \n",
      "\n",
      "Confusion Matrix \n",
      "[[2714   41]\n",
      " [ 127   26]] \n",
      "\n",
      "Classification Report \n",
      "             precision    recall  f1-score   support\n",
      "\n",
      "          0       0.96      0.99      0.97      2755\n",
      "          1       0.39      0.17      0.24       153\n",
      "\n",
      "avg / total       0.93      0.94      0.93      2908\n",
      "\n",
      "\n",
      "ROC-AUC Score \n",
      "0.766476875082 \n",
      "\n",
      "Grid Search Best Params \n",
      "{'min_samples_leaf': 5, 'n_estimators': 7, 'min_samples_split': 8, 'criterion': 'entropy', 'max_features': 2, 'max_depth': None} \n",
      "\n",
      "Grid Search Best Score \n",
      "RandomForestClassifier(bootstrap=True, class_weight=None, criterion='entropy',\n",
      "            max_depth=None, max_features=2, max_leaf_nodes=None,\n",
      "            min_impurity_split=1e-07, min_samples_leaf=5,\n",
      "            min_samples_split=8, min_weight_fraction_leaf=0.0,\n",
      "            n_estimators=7, n_jobs=1, oob_score=False, random_state=None,\n",
      "            verbose=0, warm_start=False) \n",
      "\n",
      "GS Accuracy Score \n",
      "0.950137551582 \n",
      "\n",
      "GS Confusion Matrix \n",
      "[[2750    5]\n",
      " [ 140   13]] \n",
      "\n",
      "GS Classification Report \n",
      "             precision    recall  f1-score   support\n",
      "\n",
      "          0       0.95      1.00      0.97      2755\n",
      "          1       0.72      0.08      0.15       153\n",
      "\n",
      "avg / total       0.94      0.95      0.93      2908\n",
      "\n",
      "\n",
      "GS ROC-AUC Score \n",
      "0.822865141217 \n",
      "\n",
      "Generating output dataframe:  \n",
      "\n"
     ]
    }
   ],
   "source": [
    "run_final_model = make_predictions(\"No\", \"Yes\", X, y, RandomForestClassifier(), \n",
    "                                   rforest_dict, X_to_test)"
   ]
  },
  {
   "cell_type": "code",
   "execution_count": 75,
   "metadata": {
    "collapsed": false
   },
   "outputs": [],
   "source": [
    "# Generate an output, but need to take back in the original target df\n",
    "original_test = pd.read_csv('../assets/test.csv')\n",
    "id_column = original_test[\"Id\"]"
   ]
  },
  {
   "cell_type": "code",
   "execution_count": 76,
   "metadata": {
    "collapsed": true
   },
   "outputs": [],
   "source": [
    "# Create a dataframe column of results\n",
    "submission_column = pd.DataFrame(run_final_model, columns=[\"WnvPresent\"])"
   ]
  },
  {
   "cell_type": "code",
   "execution_count": 80,
   "metadata": {
    "collapsed": true
   },
   "outputs": [],
   "source": [
    "# Create output dataframe and write to CSV\n",
    "submission_df = pd.concat([id_column, submission_column], axis=1)"
   ]
  },
  {
   "cell_type": "code",
   "execution_count": null,
   "metadata": {
    "collapsed": true
   },
   "outputs": [],
   "source": [
    "# Output a file:\n",
    "\n",
    "final_output = submission_df.to_csv(\"../assets/test_output2.csv\", index = False, encoding = \"utf-8\")"
   ]
  },
  {
   "cell_type": "markdown",
   "metadata": {},
   "source": [
    "# Second run:  Repeated above\n",
    "But used scoring function on Grid-Search as 'roc-auc'"
   ]
  },
  {
   "cell_type": "code",
   "execution_count": 99,
   "metadata": {
    "collapsed": false,
    "scrolled": true
   },
   "outputs": [
    {
     "name": "stdout",
     "output_type": "stream",
     "text": [
      "Cross Val Scores \n",
      "[ 0.93372607  0.93225331  0.92783505  0.93225331  0.94992636  0.93657817\n",
      "  0.92772861  0.93510324  0.93215339  0.94247788] \n",
      "\n",
      "Accuracy Score \n",
      "0.939133425034 \n",
      "\n",
      "Confusion Matrix \n",
      "[[2716   49]\n",
      " [ 128   15]] \n",
      "\n",
      "Classification Report \n",
      "             precision    recall  f1-score   support\n",
      "\n",
      "          0       0.95      0.98      0.97      2765\n",
      "          1       0.23      0.10      0.14       143\n",
      "\n",
      "avg / total       0.92      0.94      0.93      2908\n",
      "\n",
      "\n",
      "ROC-AUC Score \n",
      "0.724438852287 \n",
      "\n",
      "Grid Search Best Params \n",
      "{'min_samples_leaf': 10, 'n_estimators': 20, 'min_samples_split': 3, 'criterion': 'entropy', 'max_features': 'sqrt', 'max_depth': 10} \n",
      "\n",
      "Grid Search Best Score \n",
      "RandomForestClassifier(bootstrap=True, class_weight=None, criterion='entropy',\n",
      "            max_depth=10, max_features='sqrt', max_leaf_nodes=None,\n",
      "            min_impurity_split=1e-07, min_samples_leaf=10,\n",
      "            min_samples_split=3, min_weight_fraction_leaf=0.0,\n",
      "            n_estimators=20, n_jobs=1, oob_score=False, random_state=None,\n",
      "            verbose=0, warm_start=False) \n",
      "\n",
      "GS Accuracy Score \n",
      "0.9515130674 \n",
      "\n",
      "GS Confusion Matrix \n",
      "[[2765    0]\n",
      " [ 141    2]] \n",
      "\n",
      "GS Classification Report \n",
      "             precision    recall  f1-score   support\n",
      "\n",
      "          0       0.95      1.00      0.98      2765\n",
      "          1       1.00      0.01      0.03       143\n",
      "\n",
      "avg / total       0.95      0.95      0.93      2908\n",
      "\n",
      "\n",
      "GS ROC-AUC Score \n",
      "0.838749857737 \n",
      "\n",
      "Generating output data:  \n",
      "\n"
     ]
    }
   ],
   "source": [
    "### Scoring within model was changed to roc-auc\n",
    "\n",
    "# Look at particular columns and run the functions.  \n",
    "\n",
    "# Narrowing columns to a few of high interest.\n",
    "columns_of_interest = [\"PIPIENS\", \"Tavg_int\", \"PrecipTotal\", \"Days_Since_Spray\", \n",
    "                      \"Dist_to_Closest_Spray\", \"Week\", \"DaylightMinutes\"]\n",
    "\n",
    "run_final_model = make_predictions(\"No\", \"Yes\", X, y, RandomForestClassifier(), \n",
    "                                   rforest_dict, X_to_test)\n",
    "\n",
    "X = train_data[columns_of_interest]\n",
    "y = train_data[\"WnvPresent\"]"
   ]
  },
  {
   "cell_type": "code",
   "execution_count": 100,
   "metadata": {
    "collapsed": true
   },
   "outputs": [],
   "source": [
    "# Create a dataframe column of results\n",
    "submission_column_2 = pd.DataFrame(run_final_model, columns=[\"WnvPresent\"])"
   ]
  },
  {
   "cell_type": "code",
   "execution_count": 143,
   "metadata": {
    "collapsed": true
   },
   "outputs": [],
   "source": [
    "# Create output dataframe and write to CSV\n",
    "submission_df_2 = pd.concat([id_column, submission_column_2], axis=1)"
   ]
  },
  {
   "cell_type": "code",
   "execution_count": 144,
   "metadata": {
    "collapsed": true
   },
   "outputs": [],
   "source": [
    "final_output_2 = submission_df_2.to_csv(\"../assets/test_output3.csv\", index = False, encoding = \"utf-8\")"
   ]
  },
  {
   "cell_type": "markdown",
   "metadata": {},
   "source": [
    "# Third run"
   ]
  },
  {
   "cell_type": "code",
   "execution_count": 108,
   "metadata": {
    "collapsed": false,
    "scrolled": true
   },
   "outputs": [
    {
     "name": "stdout",
     "output_type": "stream",
     "text": [
      "Cross Val Scores \n",
      "[ 0.94108984  0.93814433  0.92783505  0.93225331  0.94403535  0.94837758\n",
      "  0.94542773  0.94542773  0.93067847  0.93510324] \n",
      "\n",
      "Accuracy Score \n",
      "0.937070151307 \n",
      "\n",
      "Confusion Matrix \n",
      "[[2704   46]\n",
      " [ 137   21]] \n",
      "\n",
      "Classification Report \n",
      "             precision    recall  f1-score   support\n",
      "\n",
      "          0       0.95      0.98      0.97      2750\n",
      "          1       0.31      0.13      0.19       158\n",
      "\n",
      "avg / total       0.92      0.94      0.92      2908\n",
      "\n",
      "\n",
      "ROC-AUC Score \n",
      "0.738330264672 \n",
      "\n",
      "Grid Search Best Params \n",
      "{'min_samples_leaf': 8, 'n_estimators': 20, 'min_samples_split': 2, 'criterion': 'entropy', 'max_features': 5, 'max_depth': 10} \n",
      "\n",
      "Grid Search Best Score \n",
      "RandomForestClassifier(bootstrap=True, class_weight=None, criterion='entropy',\n",
      "            max_depth=10, max_features=5, max_leaf_nodes=None,\n",
      "            min_impurity_split=1e-07, min_samples_leaf=8,\n",
      "            min_samples_split=2, min_weight_fraction_leaf=0.0,\n",
      "            n_estimators=20, n_jobs=1, oob_score=False, random_state=None,\n",
      "            verbose=0, warm_start=False) \n",
      "\n",
      "GS Accuracy Score \n",
      "0.945323246217 \n",
      "\n",
      "GS Confusion Matrix \n",
      "[[2743    7]\n",
      " [ 152    6]] \n",
      "\n",
      "GS Classification Report \n",
      "             precision    recall  f1-score   support\n",
      "\n",
      "          0       0.95      1.00      0.97      2750\n",
      "          1       0.46      0.04      0.07       158\n",
      "\n",
      "avg / total       0.92      0.95      0.92      2908\n",
      "\n",
      "\n",
      "GS ROC-AUC Score \n",
      "0.845751438435 \n",
      "\n",
      "Generating output data:  \n",
      "\n"
     ]
    }
   ],
   "source": [
    "# increased columns to this:\n",
    "# This list uses almost everything with a value:\n",
    "columns_of_interest = [\"Block\", \"Latitude\", \"Longitude\", \"AddressAccuracy\", \n",
    "                      \"PIPIENS\", \"RESTUANS\", \"SALINARIUS\", \"TERRITANS\", \"Tmax\", \"Tmin\",\n",
    "                      \"Tavg_int\", \"DewPoint\", \"WetBulb\", \"PrecipTotal\", \"StnPressure\", \n",
    "                      \"SeaLevel\", \"ResultSpeed\", \"ResultDir\", \"AvgSpeed\", \"Normal_Temp\", \n",
    "                      \"RA\", \"BR\", \"TS\", \"HZ\", \"SN\", \"FG\", \"FU\", \"DZ\", \"VC\", \"MI\", \"BC\", \n",
    "                      \"Days_Since_Spray\", \"Dist_to_Closest_Spray\", \"Week\", \"DaylightMinutes\"]\n",
    "\n",
    "X = train_data[columns_of_interest]\n",
    "X_to_test = test_data[columns_of_interest]\n",
    "\n",
    "run_final_model_3 = make_predictions(\"No\", \"Yes\", X, y, RandomForestClassifier(), \n",
    "                                   rforest_dict, X_to_test)"
   ]
  },
  {
   "cell_type": "code",
   "execution_count": 145,
   "metadata": {
    "collapsed": true
   },
   "outputs": [],
   "source": [
    "# Create a dataframe column of results\n",
    "submission_column_3 = pd.DataFrame(run_final_model_3, columns=[\"WnvPresent\"])"
   ]
  },
  {
   "cell_type": "code",
   "execution_count": 148,
   "metadata": {
    "collapsed": true
   },
   "outputs": [],
   "source": [
    "# Create output dataframe and write to CSV\n",
    "submission_df_3 = pd.concat([id_column, submission_column_3], axis=1)"
   ]
  },
  {
   "cell_type": "code",
   "execution_count": 149,
   "metadata": {
    "collapsed": true
   },
   "outputs": [],
   "source": [
    "final_output_3 = submission_df_3.to_csv(\"../assets/test_output4.csv\", \n",
    "                                        index = False, encoding = \"utf-8\")"
   ]
  },
  {
   "cell_type": "markdown",
   "metadata": {},
   "source": [
    "# Setting up a Gradient Boost"
   ]
  },
  {
   "cell_type": "code",
   "execution_count": 211,
   "metadata": {
    "collapsed": true
   },
   "outputs": [],
   "source": [
    "## Gradient Boost Version ##\n",
    "\n",
    "def make_predictions_gboost(Scale, TTS, X, y, model_to_run, grid_search_dictionary, X_to_test):\n",
    "    \n",
    "    if Scale == \"Yes\":\n",
    "        from sklearn.preprocessing import Normalizer\n",
    "        normalizer = Normalizer()\n",
    "        X = normalizer.fit_transform(X)\n",
    "        \n",
    "    if TTS == \"Yes\":\n",
    "        # Perform the train/test split:\n",
    "        from sklearn.model_selection import train_test_split\n",
    "        X_train, X_test, y_train, y_test = train_test_split(X, y, test_size=0.30,\n",
    "                                                           random_state=42)   \n",
    "        \n",
    "    if TTS == \"No\":\n",
    "        # Skip TTS:\n",
    "        X_train = X\n",
    "        X_test = X\n",
    "        y_train = y\n",
    "        y_test = y\n",
    "    \n",
    "    ##### Run the model\n",
    "    model = model_to_run\n",
    "    model.fit(X_train, y_train)\n",
    "    \n",
    "    # Generate predictions\n",
    "    predictions = model.predict(X_test)\n",
    "    probabilities = model.predict_proba(X_test) # Need the second value\n",
    "    \n",
    "    probability_list = [] # Becomes the list of probabilities\n",
    "    for i in probabilities:\n",
    "        probability_list.append(i[1])\n",
    "    probabilities = probability_list\n",
    "        \n",
    "    \n",
    "    # Create cross-val score on train\n",
    "    from sklearn.model_selection import cross_val_score\n",
    "    \n",
    "    # Perform 10-fold cross validation\n",
    "    trn_cv_scores = cross_val_score(model, X_train, y_train, cv=10)\n",
    "    \n",
    "    # Create scores on test group\n",
    "    from sklearn.metrics import accuracy_score\n",
    "    from sklearn.metrics import confusion_matrix\n",
    "    from sklearn.metrics import classification_report\n",
    "    from sklearn.metrics import roc_auc_score\n",
    "    \n",
    "    \n",
    "    acc_score = accuracy_score(y_test, predictions)\n",
    "    con_matrix = confusion_matrix(y_test, predictions)\n",
    "    class_rep = classification_report(y_test, predictions)\n",
    "    roc_auc = roc_auc_score(y_test, probabilities)\n",
    "\n",
    "    \n",
    "     ##### Run a GridSearch\n",
    "    from sklearn.model_selection import GridSearchCV\n",
    "    \n",
    "    # Run 10-fold cross validation on the bagged model\n",
    "    grid_search = GridSearchCV(model, grid_search_dictionary, cv=10, \n",
    "                               scoring='roc_auc', n_jobs = -1)\n",
    "    grid_search.fit(X_train, y_train)\n",
    "    grid_search_predictions = grid_search.predict(X_test)\n",
    "    grid_search_probabilities = grid_search.predict_proba(X_test)\n",
    "    \n",
    "    gs_probability_list = [] # Becomes the list of probabilities\n",
    "    for i in grid_search_probabilities:\n",
    "        gs_probability_list.append(i[1])\n",
    "    grid_search_probabilities = gs_probability_list\n",
    "    \n",
    "    gs_acc_score = accuracy_score(y_test, grid_search_predictions)\n",
    "    gs_con_matrix = confusion_matrix(y_test, grid_search_predictions)\n",
    "    gs_class_rep = classification_report(y_test, grid_search_predictions)\n",
    "    gs_roc_auc = roc_auc_score(y_test, grid_search_probabilities)\n",
    "    \n",
    "    \n",
    "    # See the outputs\n",
    "    print \"Cross Val Scores \\n\", trn_cv_scores, \"\\n\"\n",
    "    # print \"Model Attribute \\n\", model_metric, \"\\n\"\n",
    "            # Add back in if used above\n",
    "    print \"Accuracy Score \\n\", acc_score, \"\\n\"\n",
    "    print \"Confusion Matrix \\n\", con_matrix, \"\\n\"\n",
    "    print \"Classification Report \\n\", class_rep, \"\\n\"\n",
    "    print \"ROC-AUC Score \\n\", roc_auc, \"\\n\"\n",
    "    \n",
    "    print \"Grid Search Best Params \\n\", grid_search.best_params_, \"\\n\"\n",
    "    print \"Grid Search Best Score \\n\", grid_search.best_estimator_, \"\\n\"\n",
    "    print \"GS Accuracy Score \\n\", gs_acc_score, \"\\n\"\n",
    "    print \"GS Confusion Matrix \\n\", gs_con_matrix, \"\\n\"\n",
    "    print \"GS Classification Report \\n\", gs_class_rep, \"\\n\"\n",
    "    print \"GS ROC-AUC Score \\n\", gs_roc_auc, \"\\n\"\n",
    "    \n",
    "    \n",
    "    # Get final output list\n",
    "    final_predictions = model.predict_proba(X_to_test)\n",
    "    \n",
    "    final_probability_list = [] # Becomes the list of probabilities\n",
    "    for i in final_predictions:\n",
    "        final_probability_list.append(i[1])\n",
    "    final_predictions = final_probability_list\n",
    "    \n",
    "    \n",
    "    \n",
    "    # Code mostly unmodified from 4.05:\n",
    "\n",
    "    from sklearn.metrics import roc_curve, auc\n",
    "    import matplotlib.pyplot as plt\n",
    "    %matplotlib inline\n",
    "\n",
    "    roc_score = model.decision_function(X_test)\n",
    "\n",
    "    FPR = dict()\n",
    "    TPR = dict()\n",
    "    ROC_AUC = dict()\n",
    "\n",
    "    # For class 1, find the area under the curve\n",
    "    FPR[1], TPR[1], _ = roc_curve(y_test, roc_score)\n",
    "    ROC_AUC[1] = auc(FPR[1], TPR[1])\n",
    "\n",
    "    # Plot of a ROC curve for class 1 (has_cancer)\n",
    "    plt.figure(figsize=[11,9])\n",
    "    plt.plot(FPR[1], TPR[1], label='ROC curve (area = %0.2f)' % ROC_AUC[1], linewidth=4)\n",
    "    plt.plot([0, 1], [0, 1], 'k--', linewidth=4)\n",
    "    plt.xlim([0.0, 1.0])\n",
    "    plt.ylim([0.0, 1.05])\n",
    "    plt.xlabel('False Positive Rate', fontsize=18)\n",
    "    plt.ylabel('True Positive Rate', fontsize=18)\n",
    "    plt.title('Receiver operating characteristic for WnvPresent Probability', fontsize=18)\n",
    "    plt.legend(loc=\"lower right\")\n",
    "    plt.show()\n",
    "\n",
    "    print \"Generating output data: \", \"\\n\"\n",
    "    return final_predictions\n"
   ]
  },
  {
   "cell_type": "code",
   "execution_count": 5,
   "metadata": {
    "collapsed": true
   },
   "outputs": [],
   "source": [
    "# Encode the Traps\n",
    "\n",
    "from sklearn.preprocessing import LabelEncoder\n",
    "le = LabelEncoder()\n",
    "train_data[\"TrapCoded\"] = le.fit_transform(train_data[\"Trap\"])\n",
    "test_data[\"TrapCoded\"] = le.fit_transform(test_data[\"Trap\"])"
   ]
  },
  {
   "cell_type": "code",
   "execution_count": 213,
   "metadata": {
    "collapsed": false
   },
   "outputs": [],
   "source": [
    "gboost_dict = {\n",
    "    'learning_rate': [0.01, 0.1, 1.0],\n",
    "    'n_estimators':[20, 100, 200, 500],\n",
    "    'max_features':[0.3, 0.6, 0.8, \"sqrt\", None],\n",
    "    'max_depth':[2, 3, 5],\n",
    "    #'min_samples_split':[2, 5, 10, 0.2, 0.5],\n",
    "    }"
   ]
  },
  {
   "cell_type": "code",
   "execution_count": 214,
   "metadata": {
    "collapsed": false
   },
   "outputs": [
    {
     "name": "stdout",
     "output_type": "stream",
     "text": [
      "Cross Val Scores \n",
      "[ 0.94742268  0.52886598  0.52164948  0.94840041  0.87616099  0.71723426\n",
      "  0.78431373  0.59339525  0.35706914  0.3622291 ] \n",
      "\n",
      "Accuracy Score \n",
      "0.951098731043 \n",
      "\n",
      "Confusion Matrix \n",
      "[[9183    7]\n",
      " [ 467   36]] \n",
      "\n",
      "Classification Report \n",
      "             precision    recall  f1-score   support\n",
      "\n",
      "          0       0.95      1.00      0.97      9190\n",
      "          1       0.84      0.07      0.13       503\n",
      "\n",
      "avg / total       0.95      0.95      0.93      9693\n",
      "\n",
      "\n",
      "ROC-AUC Score \n",
      "0.894545025819 \n",
      "\n",
      "Grid Search Best Params \n",
      "{'max_features': 0.3, 'n_estimators': 20, 'learning_rate': 0.01, 'max_depth': 2} \n",
      "\n",
      "Grid Search Best Score \n",
      "GradientBoostingClassifier(criterion='friedman_mse', init=None,\n",
      "              learning_rate=0.01, loss='deviance', max_depth=2,\n",
      "              max_features=0.3, max_leaf_nodes=None,\n",
      "              min_impurity_split=1e-07, min_samples_leaf=1,\n",
      "              min_samples_split=2, min_weight_fraction_leaf=0.0,\n",
      "              n_estimators=20, presort='auto', random_state=None,\n",
      "              subsample=1.0, verbose=0, warm_start=False) \n",
      "\n",
      "GS Accuracy Score \n",
      "0.948106881255 \n",
      "\n",
      "GS Confusion Matrix \n",
      "[[9190    0]\n",
      " [ 503    0]] \n",
      "\n",
      "GS Classification Report \n",
      "             precision    recall  f1-score   support\n",
      "\n",
      "          0       0.95      1.00      0.97      9190\n",
      "          1       0.00      0.00      0.00       503\n",
      "\n",
      "avg / total       0.90      0.95      0.92      9693\n",
      "\n",
      "\n",
      "GS ROC-AUC Score \n",
      "0.816410027322 \n",
      "\n"
     ]
    },
    {
     "data": {
      "image/png": "[encoded data removed]",
      "text/plain": [
       "<matplotlib.figure.Figure at 0x129b29710>"
      ]
     },
     "metadata": {},
     "output_type": "display_data"
    },
    {
     "name": "stdout",
     "output_type": "stream",
     "text": [
      "Generating output data:  \n",
      "\n"
     ]
    }
   ],
   "source": [
    "from sklearn.ensemble import GradientBoostingClassifier\n",
    "\n",
    "# Running nearly entire run:\n",
    "# This list uses almost everything with a value:\n",
    "\n",
    "\n",
    "columns_of_interest = [\"PIPIENS\", \"RESTUANS\", \"Tmax\", \"DewPoint\", \"WetBulb\", \"PrecipTotal\",\n",
    "                       \"StnPressure\", \"ResultSpeed\", \"Days_Since_Spray\", \"Dist_to_Closest_Spray\",\n",
    "                       \"Week\", \"DaylightMinutes\", \"TrapCoded\"]\n",
    "\n",
    "X = train_data[columns_of_interest]\n",
    "y = train_data[\"WnvPresent\"]\n",
    "X_to_test = test_data[columns_of_interest]\n",
    "\n",
    "run_final_model_gb = make_predictions_gboost(\"No\", \"No\", X, y, GradientBoostingClassifier(), \n",
    "                                   gboost_dict, X_to_test)"
   ]
  },
  {
   "cell_type": "code",
   "execution_count": 215,
   "metadata": {
    "collapsed": false
   },
   "outputs": [],
   "source": [
    "# Create a dataframe column of results\n",
    "submission_column_gb = pd.DataFrame(run_final_model_gb, columns=[\"WnvPresent\"])\n",
    "\n",
    "# Create output dataframe and write to CSV\n",
    "submission_df_gb = pd.concat([id_column, submission_column_gb], axis=1)"
   ]
  },
  {
   "cell_type": "code",
   "execution_count": 216,
   "metadata": {
    "collapsed": false
   },
   "outputs": [],
   "source": [
    "# Output the file\n",
    "\n",
    "final_output_gb = submission_df_gb.to_csv(\"../assets/test_output_gb2.csv\", \n",
    "                                        index = False, encoding = \"utf-8\")"
   ]
  },
  {
   "cell_type": "code",
   "execution_count": null,
   "metadata": {
    "collapsed": true
   },
   "outputs": [],
   "source": []
  },
  {
   "cell_type": "markdown",
   "metadata": {
    "collapsed": true
   },
   "source": [
    "# Returned to GridSearch\n",
    "Included coded traps, running everything"
   ]
  },
  {
   "cell_type": "code",
   "execution_count": null,
   "metadata": {
    "collapsed": true
   },
   "outputs": [],
   "source": []
  },
  {
   "cell_type": "code",
   "execution_count": 24,
   "metadata": {
    "collapsed": false
   },
   "outputs": [
    {
     "name": "stdout",
     "output_type": "stream",
     "text": [
      "Cross Val Scores \n",
      "[ 0.94256259  0.93961708  0.93372607  0.93372607  0.93814433  0.93657817\n",
      "  0.9439528   0.93952802  0.94247788  0.94247788] \n",
      "\n",
      "Accuracy Score \n",
      "0.93878954608 \n",
      "\n",
      "Confusion Matrix \n",
      "[[2714   36]\n",
      " [ 142   16]] \n",
      "\n",
      "Classification Report \n",
      "             precision    recall  f1-score   support\n",
      "\n",
      "          0       0.95      0.99      0.97      2750\n",
      "          1       0.31      0.10      0.15       158\n",
      "\n",
      "avg / total       0.92      0.94      0.92      2908\n",
      "\n",
      "\n",
      "ROC-AUC Score \n",
      "0.7229712313 \n",
      "\n",
      "Grid Search Best Params \n",
      "{'min_samples_leaf': 10, 'n_estimators': 20, 'min_samples_split': 5, 'criterion': 'entropy', 'max_features': 10, 'max_depth': 10} \n",
      "\n",
      "Grid Search Best Score \n",
      "RandomForestClassifier(bootstrap=True, class_weight=None, criterion='entropy',\n",
      "            max_depth=10, max_features=10, max_leaf_nodes=None,\n",
      "            min_impurity_split=1e-07, min_samples_leaf=10,\n",
      "            min_samples_split=5, min_weight_fraction_leaf=0.0,\n",
      "            n_estimators=20, n_jobs=1, oob_score=False, random_state=None,\n",
      "            verbose=0, warm_start=False) \n",
      "\n",
      "GS Accuracy Score \n",
      "0.945667125172 \n",
      "\n",
      "GS Confusion Matrix \n",
      "[[2746    4]\n",
      " [ 154    4]] \n",
      "\n",
      "GS Classification Report \n",
      "             precision    recall  f1-score   support\n",
      "\n",
      "          0       0.95      1.00      0.97      2750\n",
      "          1       0.50      0.03      0.05       158\n",
      "\n",
      "avg / total       0.92      0.95      0.92      2908\n",
      "\n",
      "\n",
      "GS ROC-AUC Score \n",
      "0.850483314154 \n",
      "\n"
     ]
    },
    {
     "data": {
      "image/png": "[encoded data removed]",
      "text/plain": [
       "<matplotlib.figure.Figure at 0x11da72950>"
      ]
     },
     "metadata": {},
     "output_type": "display_data"
    },
    {
     "name": "stdout",
     "output_type": "stream",
     "text": [
      "Generating output data:  \n",
      "\n"
     ]
    }
   ],
   "source": [
    "rforest_dict = {\n",
    "    'criterion':('gini', 'entropy'),\n",
    "    'n_estimators':[2, 4, 7, 10, 20],\n",
    "    'max_features':[2, 3, 5, 8, 10, 0.2, 0.4, 0.6, 0.8, \"sqrt\", \"log2\", None],\n",
    "    'max_depth':[4, 10, None],\n",
    "    'min_samples_split':[2, 3, 5, 8, 10, 0.2, 0.4, 0.6, 0.8],\n",
    "    'min_samples_leaf': [2, 3, 5, 8, 10, 0.2, 0.3, 0.4, 0.5]\n",
    "    }\n",
    "\n",
    "# increased columns to this:\n",
    "# This list uses almost everything with a value:\n",
    "columns_of_interest = [\"Block\", \"Latitude\", \"Longitude\", \"AddressAccuracy\", \n",
    "                      \"PIPIENS\", \"RESTUANS\", \"SALINARIUS\", \"TERRITANS\", \"Tmax\", \"Tmin\",\n",
    "                      \"Tavg_int\", \"DewPoint\", \"WetBulb\", \"PrecipTotal\", \"StnPressure\", \n",
    "                      \"SeaLevel\", \"ResultSpeed\", \"ResultDir\", \"AvgSpeed\", \"Normal_Temp\", \n",
    "                      \"RA\", \"BR\", \"TS\", \"HZ\", \"SN\", \"FG\", \"FU\", \"DZ\", \"VC\", \"MI\", \"BC\", \n",
    "                      \"Days_Since_Spray\", \"Dist_to_Closest_Spray\", \"Week\", \"DaylightMinutes\", \n",
    "                      \"TrapCoded\"]\n",
    "\n",
    "X = train_data[columns_of_interest]\n",
    "X_to_test = test_data[columns_of_interest]\n",
    "y = train_data[\"WnvPresent\"]\n",
    "\n",
    "run_final_model_gs_all = make_predictions(\"No\", \"Yes\", X, y, RandomForestClassifier(), \n",
    "                                   rforest_dict, X_to_test)"
   ]
  },
  {
   "cell_type": "code",
   "execution_count": 25,
   "metadata": {
    "collapsed": true
   },
   "outputs": [],
   "source": [
    "# Create a dataframe column of results\n",
    "submission_column_search = pd.DataFrame(run_final_model_gs_all, columns=[\"WnvPresent\"])\n",
    "\n",
    "# Generated an output, but need to take back in the original target df\n",
    "original_test = pd.read_csv('../assets/test.csv')\n",
    "id_column = original_test[\"Id\"]\n",
    "\n",
    "# Create output dataframe and write to CSV\n",
    "submission_df_search = pd.concat([id_column, submission_column_search], axis=1)"
   ]
  },
  {
   "cell_type": "code",
   "execution_count": 26,
   "metadata": {
    "collapsed": true
   },
   "outputs": [],
   "source": [
    "# Output the file\n",
    "\n",
    "final_output_search = submission_df_search.to_csv(\"../assets/test_output_final_gs.csv\", \n",
    "                                        index = False, encoding = \"utf-8\")"
   ]
  },
  {
   "cell_type": "code",
   "execution_count": null,
   "metadata": {
    "collapsed": true
   },
   "outputs": [],
   "source": []
  },
  {
   "cell_type": "code",
   "execution_count": 35,
   "metadata": {
    "collapsed": false
   },
   "outputs": [
    {
     "data": {
      "text/plain": [
       "Index([u'Species', u'Block', u'Trap', u'Latitude', u'Longitude',\n",
       "       u'AddressAccuracy', u'NumMosquitos', u'WnvPresent', u'YMD', u'PIPIENS',\n",
       "       u'RESTUANS', u'SALINARIUS', u'TERRITANS', u'Station', u'Tmax', u'Tmin',\n",
       "       u'DewPoint', u'WetBulb', u'Sunrise', u'Sunset', u'PrecipTotal',\n",
       "       u'StnPressure', u'SeaLevel', u'ResultSpeed', u'ResultDir', u'AvgSpeed',\n",
       "       u'Tavg_int', u'Normal_Temp', u'Depart_calc', u'RA', u'BR', u'TS', u'HZ',\n",
       "       u'SN', u'FG', u'FG+', u'FU', u'DZ', u'VC', u'MI', u'BC',\n",
       "       u'Days_Since_Spray', u'Dist_to_Closest_Spray', u'Week',\n",
       "       u'DaylightMinutes', u'TrapCoded'],\n",
       "      dtype='object')"
      ]
     },
     "execution_count": 35,
     "metadata": {},
     "output_type": "execute_result"
    }
   ],
   "source": [
    "train_data.columns"
   ]
  },
  {
   "cell_type": "code",
   "execution_count": 27,
   "metadata": {
    "collapsed": false
   },
   "outputs": [
    {
     "name": "stderr",
     "output_type": "stream",
     "text": [
      "//anaconda/lib/python2.7/site-packages/sklearn/metrics/classification.py:1113: UndefinedMetricWarning: Precision and F-score are ill-defined and being set to 0.0 in labels with no predicted samples.\n",
      "  'precision', 'predicted', average, warn_for)\n"
     ]
    },
    {
     "name": "stdout",
     "output_type": "stream",
     "text": [
      "Cross Val Scores \n",
      "[ 0.94742268  0.38865979  0.45670103  0.94840041  0.85242518  0.8121775\n",
      "  0.41898865  0.43962848  0.29721362  0.32404541] \n",
      "\n",
      "Accuracy Score \n",
      "0.97802537914 \n",
      "\n",
      "Confusion Matrix \n",
      "[[9148   42]\n",
      " [ 171  332]] \n",
      "\n",
      "Classification Report \n",
      "             precision    recall  f1-score   support\n",
      "\n",
      "          0       0.98      1.00      0.99      9190\n",
      "          1       0.89      0.66      0.76       503\n",
      "\n",
      "avg / total       0.98      0.98      0.98      9693\n",
      "\n",
      "\n",
      "ROC-AUC Score \n",
      "0.993105999476 \n",
      "\n",
      "Grid Search Best Params \n",
      "{'min_samples_leaf': 10, 'n_estimators': 7, 'min_samples_split': 0.4, 'criterion': 'entropy', 'max_features': 0.4, 'max_depth': 10} \n",
      "\n",
      "Grid Search Best Score \n",
      "RandomForestClassifier(bootstrap=True, class_weight=None, criterion='entropy',\n",
      "            max_depth=10, max_features=0.4, max_leaf_nodes=None,\n",
      "            min_impurity_split=1e-07, min_samples_leaf=10,\n",
      "            min_samples_split=0.4, min_weight_fraction_leaf=0.0,\n",
      "            n_estimators=7, n_jobs=1, oob_score=False, random_state=None,\n",
      "            verbose=0, warm_start=False) \n",
      "\n",
      "GS Accuracy Score \n",
      "0.948106881255 \n",
      "\n",
      "GS Confusion Matrix \n",
      "[[9190    0]\n",
      " [ 503    0]] \n",
      "\n",
      "GS Classification Report \n",
      "             precision    recall  f1-score   support\n",
      "\n",
      "          0       0.95      1.00      0.97      9190\n",
      "          1       0.00      0.00      0.00       503\n",
      "\n",
      "avg / total       0.90      0.95      0.92      9693\n",
      "\n",
      "\n",
      "GS ROC-AUC Score \n",
      "0.771663273893 \n",
      "\n"
     ]
    },
    {
     "data": {
      "image/png": "[encoded data removed]",
      "text/plain": [
       "<matplotlib.figure.Figure at 0x116dffd50>"
      ]
     },
     "metadata": {},
     "output_type": "display_data"
    },
    {
     "name": "stdout",
     "output_type": "stream",
     "text": [
      "Generating output data:  \n",
      "\n"
     ]
    }
   ],
   "source": [
    "# Repeat with No TTS:\n",
    "\n",
    "# increased columns to this:\n",
    "# This list uses almost everything with a value:\n",
    "columns_of_interest = [\"Block\", \"Latitude\", \"Longitude\", \"AddressAccuracy\", \n",
    "                      \"PIPIENS\", \"RESTUANS\", \"SALINARIUS\", \"TERRITANS\", \"Tmax\", \"Tmin\",\n",
    "                      \"Tavg_int\", \"DewPoint\", \"WetBulb\", \"PrecipTotal\", \"StnPressure\", \n",
    "                      \"SeaLevel\", \"ResultSpeed\", \"ResultDir\", \"AvgSpeed\", \"Normal_Temp\", \n",
    "                      \"RA\", \"BR\", \"TS\", \"HZ\", \"SN\", \"FG\", \"FU\", \"DZ\", \"VC\", \"MI\", \"BC\", \n",
    "                      \"Days_Since_Spray\", \"Dist_to_Closest_Spray\", \"Week\", \"DaylightMinutes\", \n",
    "                      \"TrapCoded\"]\n",
    "\n",
    "X = train_data[columns_of_interest]\n",
    "X_to_test = test_data[columns_of_interest]\n",
    "y = train_data[\"WnvPresent\"]\n",
    "\n",
    "run_final_model_gs_all_2 = make_predictions(\"No\", \"No\", X, y, RandomForestClassifier(), \n",
    "                                   rforest_dict, X_to_test)"
   ]
  },
  {
   "cell_type": "code",
   "execution_count": 28,
   "metadata": {
    "collapsed": true
   },
   "outputs": [],
   "source": [
    "# Create a dataframe column of results\n",
    "submission_column_search_2 = pd.DataFrame(run_final_model_gs_all_2, columns=[\"WnvPresent\"])\n",
    "\n",
    "# Generated an output, but need to take back in the original target df\n",
    "original_test = pd.read_csv('../assets/test.csv')\n",
    "id_column = original_test[\"Id\"]\n",
    "\n",
    "# Create output dataframe and write to CSV\n",
    "submission_df_search_2 = pd.concat([id_column, submission_column_search_2], axis=1)"
   ]
  },
  {
   "cell_type": "code",
   "execution_count": 29,
   "metadata": {
    "collapsed": true
   },
   "outputs": [],
   "source": [
    "# Output the file\n",
    "\n",
    "final_output_search_2 = submission_df_search_2.to_csv(\"../assets/test_output_final_gs2.csv\", \n",
    "                                        index = False, encoding = \"utf-8\")"
   ]
  },
  {
   "cell_type": "code",
   "execution_count": null,
   "metadata": {
    "collapsed": true
   },
   "outputs": [],
   "source": []
  },
  {
   "cell_type": "code",
   "execution_count": 32,
   "metadata": {
    "collapsed": false
   },
   "outputs": [
    {
     "name": "stdout",
     "output_type": "stream",
     "text": [
      "Cross Val Scores \n",
      "[ 0.93961708  0.93667158  0.93519882  0.93519882  0.93372607  0.94247788\n",
      "  0.9380531   0.94100295  0.93215339  0.93952802] \n",
      "\n",
      "Accuracy Score \n",
      "0.936382393398 \n",
      "\n",
      "Confusion Matrix \n",
      "[[2706   44]\n",
      " [ 141   17]] \n",
      "\n",
      "Classification Report \n",
      "             precision    recall  f1-score   support\n",
      "\n",
      "          0       0.95      0.98      0.97      2750\n",
      "          1       0.28      0.11      0.16       158\n",
      "\n",
      "avg / total       0.91      0.94      0.92      2908\n",
      "\n",
      "\n",
      "ROC-AUC Score \n",
      "0.695463751438 \n",
      "\n",
      "Grid Search Best Params \n",
      "{'min_samples_leaf': 10, 'n_estimators': 20, 'min_samples_split': 3, 'criterion': 'gini', 'max_features': 2, 'max_depth': 10} \n",
      "\n",
      "Grid Search Best Score \n",
      "RandomForestClassifier(bootstrap=True, class_weight=None, criterion='gini',\n",
      "            max_depth=10, max_features=2, max_leaf_nodes=None,\n",
      "            min_impurity_split=1e-07, min_samples_leaf=10,\n",
      "            min_samples_split=3, min_weight_fraction_leaf=0.0,\n",
      "            n_estimators=20, n_jobs=1, oob_score=False, random_state=None,\n",
      "            verbose=0, warm_start=False) \n",
      "\n",
      "GS Accuracy Score \n",
      "0.944979367263 \n",
      "\n",
      "GS Confusion Matrix \n",
      "[[2745    5]\n",
      " [ 155    3]] \n",
      "\n",
      "GS Classification Report \n",
      "             precision    recall  f1-score   support\n",
      "\n",
      "          0       0.95      1.00      0.97      2750\n",
      "          1       0.38      0.02      0.04       158\n",
      "\n",
      "avg / total       0.92      0.94      0.92      2908\n",
      "\n",
      "\n",
      "GS ROC-AUC Score \n",
      "0.847185270426 \n",
      "\n"
     ]
    },
    {
     "data": {
      "image/png": "[encoded data removed]",
      "text/plain": [
       "<matplotlib.figure.Figure at 0x119fdd2d0>"
      ]
     },
     "metadata": {},
     "output_type": "display_data"
    },
    {
     "name": "stdout",
     "output_type": "stream",
     "text": [
      "Generating output data:  \n",
      "\n"
     ]
    }
   ],
   "source": [
    "# Repeat with Miranda's best predictors, TTS:\n",
    "\n",
    "\n",
    "# increased columns to this:\n",
    "# This list uses almost everything with a value:\n",
    "columns_of_interest = [\"PIPIENS\", \"RESTUANS\", \"Tmax\", \"DewPoint\", \"Days_Since_Spray\", \n",
    "                       \"Dist_to_Closest_Spray\", \"Week\", \"DaylightMinutes\", \"TrapCoded\"]\n",
    "\n",
    "X = train_data[columns_of_interest]\n",
    "X_to_test = test_data[columns_of_interest]\n",
    "y = train_data[\"WnvPresent\"]\n",
    "\n",
    "run_final_model_gs_all_3 = make_predictions(\"No\", \"Yes\", X, y, RandomForestClassifier(), \n",
    "                                   rforest_dict, X_to_test)"
   ]
  },
  {
   "cell_type": "code",
   "execution_count": 33,
   "metadata": {
    "collapsed": true
   },
   "outputs": [],
   "source": [
    "# Create a dataframe column of results\n",
    "submission_column_search_3 = pd.DataFrame(run_final_model_gs_all_3, columns=[\"WnvPresent\"])\n",
    "\n",
    "# Generated an output, but need to take back in the original target df\n",
    "original_test = pd.read_csv('../assets/test.csv')\n",
    "id_column = original_test[\"Id\"]\n",
    "\n",
    "# Create output dataframe and write to CSV\n",
    "submission_df_search_3 = pd.concat([id_column, submission_column_search_3], axis=1)"
   ]
  },
  {
   "cell_type": "code",
   "execution_count": 34,
   "metadata": {
    "collapsed": true
   },
   "outputs": [],
   "source": [
    "# Output the file\n",
    "\n",
    "final_output_search_3 = submission_df_search_3.to_csv(\"../assets/test_output_final_gs3.csv\", \n",
    "                                        index = False, encoding = \"utf-8\")"
   ]
  },
  {
   "cell_type": "markdown",
   "metadata": {},
   "source": [
    "# One last try - bagging the optimal tree"
   ]
  },
  {
   "cell_type": "code",
   "execution_count": 42,
   "metadata": {
    "collapsed": false
   },
   "outputs": [
    {
     "name": "stdout",
     "output_type": "stream",
     "text": [
      "Accuracy Score \n",
      "0.948622717425 \n",
      "\n",
      "Confusion Matrix \n",
      "[[9189    1]\n",
      " [ 497    6]] \n",
      "\n",
      "Classification Report \n",
      "             precision    recall  f1-score   support\n",
      "\n",
      "          0       0.95      1.00      0.97      9190\n",
      "          1       0.86      0.01      0.02       503\n",
      "\n",
      "avg / total       0.94      0.95      0.92      9693\n",
      "\n",
      "\n",
      "ROC-AUC Score \n",
      "0.91589570304 \n",
      "\n"
     ]
    },
    {
     "data": {
      "image/png": "[encoded data removed]",
      "text/plain": [
       "<matplotlib.figure.Figure at 0x11da540d0>"
      ]
     },
     "metadata": {},
     "output_type": "display_data"
    }
   ],
   "source": [
    "# Bagged Random Forest with optimal parameters, testing everything\n",
    "\n",
    "best_run_params = {\n",
    "    'min_samples_leaf': 8, 'n_estimators': 20,  'min_samples_split': 2, \n",
    "    'criterion': 'entropy', 'max_features': 5, 'max_depth': 10} \n",
    "\n",
    "best_rf_setup = RandomForestClassifier(**best_run_params)\n",
    "\n",
    "from sklearn.ensemble import BaggingClassifier\n",
    "bagged_rf = BaggingClassifier(base_estimator = best_rf_setup)\n",
    "\n",
    "# Repeat with No TTS:\n",
    "\n",
    "# increased columns to this:\n",
    "# This list uses almost everything with a value:\n",
    "columns_of_interest = [\"Block\", \"Latitude\", \"Longitude\", \"AddressAccuracy\", \n",
    "                      \"PIPIENS\", \"RESTUANS\", \"SALINARIUS\", \"TERRITANS\", \"Tmax\", \"Tmin\",\n",
    "                      \"Tavg_int\", \"DewPoint\", \"WetBulb\", \"PrecipTotal\", \"StnPressure\", \n",
    "                      \"SeaLevel\", \"ResultSpeed\", \"ResultDir\", \"AvgSpeed\", \"Normal_Temp\", \n",
    "                      \"RA\", \"BR\", \"TS\", \"HZ\", \"SN\", \"FG\", \"FU\", \"DZ\", \"VC\", \"MI\", \"BC\", \n",
    "                      \"Days_Since_Spray\", \"Dist_to_Closest_Spray\", \"Week\", \"DaylightMinutes\", \n",
    "                      \"TrapCoded\"]\n",
    "\n",
    "X = train_data[columns_of_interest]\n",
    "X_to_test = test_data[columns_of_interest]\n",
    "y = train_data[\"WnvPresent\"]\n",
    "\n",
    "bagged_rf.fit(X, y)\n",
    "\n",
    "# Generate predictions\n",
    "bg_predictions = bagged_rf.predict(X)\n",
    "bg_probabilities = bagged_rf.predict_proba(X) # Need the second value\n",
    "\n",
    "bg_probability_list = [] # Becomes the list of probabilities\n",
    "for i in bg_probabilities:\n",
    "    bg_probability_list.append(i[1])\n",
    "bg_probabilities = bg_probability_list\n",
    "\n",
    "# Create scores on test group\n",
    "from sklearn.metrics import accuracy_score\n",
    "from sklearn.metrics import confusion_matrix\n",
    "from sklearn.metrics import classification_report\n",
    "from sklearn.metrics import roc_auc_score\n",
    "\n",
    "acc_score = accuracy_score(y, bg_predictions)\n",
    "con_matrix = confusion_matrix(y, bg_predictions)\n",
    "class_rep = classification_report(y, bg_predictions)\n",
    "roc_auc = roc_auc_score(y, bg_probabilities)\n",
    "\n",
    "# See the outputs\n",
    "\n",
    "print \"Accuracy Score \\n\", acc_score, \"\\n\"\n",
    "print \"Confusion Matrix \\n\", con_matrix, \"\\n\"\n",
    "print \"Classification Report \\n\", class_rep, \"\\n\"\n",
    "print \"ROC-AUC Score \\n\", roc_auc, \"\\n\"\n",
    "\n",
    "\n",
    "# Get final output list\n",
    "final_predictions_bg = bagged_rf.predict_proba(X_to_test)\n",
    "\n",
    "bg_final_probability_list = [] # Becomes the list of probabilities\n",
    "for i in final_predictions_bg:\n",
    "    bg_final_probability_list.append(i[1])\n",
    "final_predictions_bg = bg_final_probability_list\n",
    "\n",
    "\n",
    "# Code mostly unmodified from 4.05:\n",
    "\n",
    "from sklearn.metrics import roc_curve, auc\n",
    "import matplotlib.pyplot as plt\n",
    "%matplotlib inline\n",
    "\n",
    "FPR = dict()\n",
    "TPR = dict()\n",
    "ROC_AUC = dict()\n",
    "\n",
    "# For class 1, find the area under the curve\n",
    "FPR[1], TPR[1], _ = roc_curve(y, bg_probability_list)\n",
    "ROC_AUC[1] = auc(FPR[1], TPR[1])\n",
    "\n",
    "# Plot of a ROC curve for class 1 (has_cancer)\n",
    "plt.figure(figsize=[11,9])\n",
    "plt.plot(FPR[1], TPR[1], label='ROC curve (area = %0.2f)' % ROC_AUC[1], linewidth=4)\n",
    "plt.plot([0, 1], [0, 1], 'k--', linewidth=4)\n",
    "plt.xlim([0.0, 1.0])\n",
    "plt.ylim([0.0, 1.05])\n",
    "plt.xlabel('False Positive Rate', fontsize=18)\n",
    "plt.ylabel('True Positive Rate', fontsize=18)\n",
    "plt.title('Receiver operating characteristic for WnvPresent Probability', fontsize=18)\n",
    "plt.legend(loc=\"lower right\")\n",
    "plt.show()"
   ]
  },
  {
   "cell_type": "code",
   "execution_count": 43,
   "metadata": {
    "collapsed": true
   },
   "outputs": [],
   "source": [
    "# Create a dataframe column of results\n",
    "submission_column_bagged_rf = pd.DataFrame(final_predictions_bg, columns=[\"WnvPresent\"])\n",
    "\n",
    "# Generated an output, but need to take back in the original target df\n",
    "original_test = pd.read_csv('../assets/test.csv')\n",
    "id_column = original_test[\"Id\"]\n",
    "\n",
    "# Create output dataframe and write to CSV\n",
    "submission_df_bagged_rf = pd.concat([id_column, submission_column_bagged_rf], axis=1)"
   ]
  },
  {
   "cell_type": "code",
   "execution_count": 44,
   "metadata": {
    "collapsed": true
   },
   "outputs": [],
   "source": [
    "# Output the file\n",
    "\n",
    "final_output_bagged_rf = submission_df_bagged_rf.to_csv(\"../assets/test_output_final_bg_rf.csv\", \n",
    "                                        index = False, encoding = \"utf-8\")"
   ]
  },
  {
   "cell_type": "code",
   "execution_count": null,
   "metadata": {
    "collapsed": true
   },
   "outputs": [],
   "source": []
  }
 ],
 "metadata": {
  "kernelspec": {
   "display_name": "Python 2",
   "language": "python",
   "name": "python2"
  },
  "language_info": {
   "codemirror_mode": {
    "name": "ipython",
    "version": 2
   },
   "file_extension": ".py",
   "mimetype": "text/x-python",
   "name": "python",
   "nbconvert_exporter": "python",
   "pygments_lexer": "ipython2",
   "version": "2.7.13"
  }
 },
 "nbformat": 4,
 "nbformat_minor": 2
}
