{
 "cells": [
  {
   "cell_type": "code",
   "execution_count": 1,
   "metadata": {
    "collapsed": true
   },
   "outputs": [],
   "source": [
    "import numpy as np\n",
    "import pandas as pd"
   ]
  },
  {
   "cell_type": "code",
   "execution_count": null,
   "metadata": {
    "collapsed": true
   },
   "outputs": [],
   "source": [
    "pd.set_option('display.max_columns', 50)\n",
    "pd.set_option('display.max_rows', 100)"
   ]
  },
  {
   "cell_type": "code",
   "execution_count": 2,
   "metadata": {
    "collapsed": false
   },
   "outputs": [],
   "source": [
    "trainc = pd.read_csv(\"../assets/train_complete.csv\")"
   ]
  },
  {
   "cell_type": "code",
   "execution_count": 3,
   "metadata": {
    "collapsed": true
   },
   "outputs": [],
   "source": [
    "trainc[\"YMD\"] = pd.to_datetime(trainc[\"YMD\"], format = \"%Y/%m/%d\")"
   ]
  },
  {
   "cell_type": "code",
   "execution_count": 11,
   "metadata": {
    "collapsed": false
   },
   "outputs": [
    {
     "data": {
      "text/plain": [
       "pandas.tslib.Timestamp"
      ]
     },
     "execution_count": 11,
     "metadata": {},
     "output_type": "execute_result"
    }
   ],
   "source": [
    "type(trainc.YMD[0])"
   ]
  },
  {
   "cell_type": "code",
   "execution_count": 4,
   "metadata": {
    "collapsed": false
   },
   "outputs": [
    {
     "data": {
      "text/html": [
       "<div>\n",
       "<table border=\"1\" class=\"dataframe\">\n",
       "  <thead>\n",
       "    <tr style=\"text-align: right;\">\n",
       "      <th></th>\n",
       "      <th>Species</th>\n",
       "      <th>Block</th>\n",
       "      <th>Trap</th>\n",
       "      <th>Latitude</th>\n",
       "      <th>Longitude</th>\n",
       "      <th>AddressAccuracy</th>\n",
       "      <th>NumMosquitos</th>\n",
       "      <th>WnvPresent</th>\n",
       "      <th>YMD</th>\n",
       "      <th>PIPIENS</th>\n",
       "      <th>...</th>\n",
       "      <th>FG+</th>\n",
       "      <th>FU</th>\n",
       "      <th>DZ</th>\n",
       "      <th>VC</th>\n",
       "      <th>MI</th>\n",
       "      <th>BC</th>\n",
       "      <th>Days_Since_Spray</th>\n",
       "      <th>Dist_to_Closest_Spray</th>\n",
       "      <th>Week</th>\n",
       "      <th>Daylight</th>\n",
       "    </tr>\n",
       "  </thead>\n",
       "  <tbody>\n",
       "    <tr>\n",
       "      <th>0</th>\n",
       "      <td>CULEX PIPIENS/RESTUANS</td>\n",
       "      <td>41</td>\n",
       "      <td>T002</td>\n",
       "      <td>41.954690</td>\n",
       "      <td>-87.800991</td>\n",
       "      <td>9</td>\n",
       "      <td>1</td>\n",
       "      <td>0</td>\n",
       "      <td>2007-05-29</td>\n",
       "      <td>1</td>\n",
       "      <td>...</td>\n",
       "      <td>0</td>\n",
       "      <td>0</td>\n",
       "      <td>0</td>\n",
       "      <td>0</td>\n",
       "      <td>0</td>\n",
       "      <td>0</td>\n",
       "      <td>720</td>\n",
       "      <td>1.500000</td>\n",
       "      <td>22</td>\n",
       "      <td>0 days 14:56:00.000000000</td>\n",
       "    </tr>\n",
       "    <tr>\n",
       "      <th>1</th>\n",
       "      <td>CULEX RESTUANS</td>\n",
       "      <td>41</td>\n",
       "      <td>T002</td>\n",
       "      <td>41.954690</td>\n",
       "      <td>-87.800991</td>\n",
       "      <td>9</td>\n",
       "      <td>1</td>\n",
       "      <td>0</td>\n",
       "      <td>2007-05-29</td>\n",
       "      <td>0</td>\n",
       "      <td>...</td>\n",
       "      <td>0</td>\n",
       "      <td>0</td>\n",
       "      <td>0</td>\n",
       "      <td>0</td>\n",
       "      <td>0</td>\n",
       "      <td>0</td>\n",
       "      <td>720</td>\n",
       "      <td>1.500000</td>\n",
       "      <td>22</td>\n",
       "      <td>0 days 14:56:00.000000000</td>\n",
       "    </tr>\n",
       "    <tr>\n",
       "      <th>2</th>\n",
       "      <td>CULEX RESTUANS</td>\n",
       "      <td>62</td>\n",
       "      <td>T007</td>\n",
       "      <td>41.994991</td>\n",
       "      <td>-87.769279</td>\n",
       "      <td>9</td>\n",
       "      <td>1</td>\n",
       "      <td>0</td>\n",
       "      <td>2007-05-29</td>\n",
       "      <td>0</td>\n",
       "      <td>...</td>\n",
       "      <td>0</td>\n",
       "      <td>0</td>\n",
       "      <td>0</td>\n",
       "      <td>0</td>\n",
       "      <td>0</td>\n",
       "      <td>0</td>\n",
       "      <td>720</td>\n",
       "      <td>1.500000</td>\n",
       "      <td>22</td>\n",
       "      <td>0 days 14:56:00.000000000</td>\n",
       "    </tr>\n",
       "    <tr>\n",
       "      <th>3</th>\n",
       "      <td>CULEX PIPIENS/RESTUANS</td>\n",
       "      <td>79</td>\n",
       "      <td>T015</td>\n",
       "      <td>41.974089</td>\n",
       "      <td>-87.824812</td>\n",
       "      <td>8</td>\n",
       "      <td>1</td>\n",
       "      <td>0</td>\n",
       "      <td>2007-05-29</td>\n",
       "      <td>1</td>\n",
       "      <td>...</td>\n",
       "      <td>0</td>\n",
       "      <td>0</td>\n",
       "      <td>0</td>\n",
       "      <td>0</td>\n",
       "      <td>0</td>\n",
       "      <td>0</td>\n",
       "      <td>720</td>\n",
       "      <td>1.500000</td>\n",
       "      <td>22</td>\n",
       "      <td>0 days 14:56:00.000000000</td>\n",
       "    </tr>\n",
       "    <tr>\n",
       "      <th>4</th>\n",
       "      <td>CULEX RESTUANS</td>\n",
       "      <td>79</td>\n",
       "      <td>T015</td>\n",
       "      <td>41.974089</td>\n",
       "      <td>-87.824812</td>\n",
       "      <td>8</td>\n",
       "      <td>4</td>\n",
       "      <td>0</td>\n",
       "      <td>2007-05-29</td>\n",
       "      <td>0</td>\n",
       "      <td>...</td>\n",
       "      <td>0</td>\n",
       "      <td>0</td>\n",
       "      <td>0</td>\n",
       "      <td>0</td>\n",
       "      <td>0</td>\n",
       "      <td>0</td>\n",
       "      <td>720</td>\n",
       "      <td>1.500000</td>\n",
       "      <td>22</td>\n",
       "      <td>0 days 14:56:00.000000000</td>\n",
       "    </tr>\n",
       "    <tr>\n",
       "      <th>5</th>\n",
       "      <td>CULEX RESTUANS</td>\n",
       "      <td>15</td>\n",
       "      <td>T045</td>\n",
       "      <td>41.921600</td>\n",
       "      <td>-87.666455</td>\n",
       "      <td>8</td>\n",
       "      <td>2</td>\n",
       "      <td>0</td>\n",
       "      <td>2007-05-29</td>\n",
       "      <td>0</td>\n",
       "      <td>...</td>\n",
       "      <td>0</td>\n",
       "      <td>0</td>\n",
       "      <td>0</td>\n",
       "      <td>0</td>\n",
       "      <td>0</td>\n",
       "      <td>0</td>\n",
       "      <td>720</td>\n",
       "      <td>1.500000</td>\n",
       "      <td>22</td>\n",
       "      <td>0 days 14:56:00.000000000</td>\n",
       "    </tr>\n",
       "    <tr>\n",
       "      <th>6</th>\n",
       "      <td>CULEX RESTUANS</td>\n",
       "      <td>25</td>\n",
       "      <td>T046</td>\n",
       "      <td>41.891118</td>\n",
       "      <td>-87.654491</td>\n",
       "      <td>8</td>\n",
       "      <td>1</td>\n",
       "      <td>0</td>\n",
       "      <td>2007-05-29</td>\n",
       "      <td>0</td>\n",
       "      <td>...</td>\n",
       "      <td>0</td>\n",
       "      <td>0</td>\n",
       "      <td>0</td>\n",
       "      <td>0</td>\n",
       "      <td>0</td>\n",
       "      <td>0</td>\n",
       "      <td>720</td>\n",
       "      <td>1.500000</td>\n",
       "      <td>22</td>\n",
       "      <td>0 days 14:56:00.000000000</td>\n",
       "    </tr>\n",
       "    <tr>\n",
       "      <th>7</th>\n",
       "      <td>CULEX PIPIENS/RESTUANS</td>\n",
       "      <td>11</td>\n",
       "      <td>T048</td>\n",
       "      <td>41.867108</td>\n",
       "      <td>-87.654224</td>\n",
       "      <td>8</td>\n",
       "      <td>1</td>\n",
       "      <td>0</td>\n",
       "      <td>2007-05-29</td>\n",
       "      <td>1</td>\n",
       "      <td>...</td>\n",
       "      <td>0</td>\n",
       "      <td>0</td>\n",
       "      <td>0</td>\n",
       "      <td>0</td>\n",
       "      <td>0</td>\n",
       "      <td>0</td>\n",
       "      <td>720</td>\n",
       "      <td>1.500000</td>\n",
       "      <td>22</td>\n",
       "      <td>0 days 14:56:00.000000000</td>\n",
       "    </tr>\n",
       "    <tr>\n",
       "      <th>8</th>\n",
       "      <td>CULEX RESTUANS</td>\n",
       "      <td>11</td>\n",
       "      <td>T048</td>\n",
       "      <td>41.867108</td>\n",
       "      <td>-87.654224</td>\n",
       "      <td>8</td>\n",
       "      <td>2</td>\n",
       "      <td>0</td>\n",
       "      <td>2007-05-29</td>\n",
       "      <td>0</td>\n",
       "      <td>...</td>\n",
       "      <td>0</td>\n",
       "      <td>0</td>\n",
       "      <td>0</td>\n",
       "      <td>0</td>\n",
       "      <td>0</td>\n",
       "      <td>0</td>\n",
       "      <td>720</td>\n",
       "      <td>1.500000</td>\n",
       "      <td>22</td>\n",
       "      <td>0 days 14:56:00.000000000</td>\n",
       "    </tr>\n",
       "    <tr>\n",
       "      <th>9</th>\n",
       "      <td>CULEX RESTUANS</td>\n",
       "      <td>11</td>\n",
       "      <td>T049</td>\n",
       "      <td>41.896282</td>\n",
       "      <td>-87.655232</td>\n",
       "      <td>8</td>\n",
       "      <td>1</td>\n",
       "      <td>0</td>\n",
       "      <td>2007-05-29</td>\n",
       "      <td>0</td>\n",
       "      <td>...</td>\n",
       "      <td>0</td>\n",
       "      <td>0</td>\n",
       "      <td>0</td>\n",
       "      <td>0</td>\n",
       "      <td>0</td>\n",
       "      <td>0</td>\n",
       "      <td>720</td>\n",
       "      <td>1.500000</td>\n",
       "      <td>22</td>\n",
       "      <td>0 days 14:56:00.000000000</td>\n",
       "    </tr>\n",
       "    <tr>\n",
       "      <th>10</th>\n",
       "      <td>CULEX PIPIENS/RESTUANS</td>\n",
       "      <td>21</td>\n",
       "      <td>T050</td>\n",
       "      <td>41.919343</td>\n",
       "      <td>-87.694259</td>\n",
       "      <td>8</td>\n",
       "      <td>1</td>\n",
       "      <td>0</td>\n",
       "      <td>2007-05-29</td>\n",
       "      <td>1</td>\n",
       "      <td>...</td>\n",
       "      <td>0</td>\n",
       "      <td>0</td>\n",
       "      <td>0</td>\n",
       "      <td>0</td>\n",
       "      <td>0</td>\n",
       "      <td>0</td>\n",
       "      <td>720</td>\n",
       "      <td>1.500000</td>\n",
       "      <td>22</td>\n",
       "      <td>0 days 14:56:00.000000000</td>\n",
       "    </tr>\n",
       "    <tr>\n",
       "      <th>11</th>\n",
       "      <td>CULEX PIPIENS/RESTUANS</td>\n",
       "      <td>22</td>\n",
       "      <td>T054</td>\n",
       "      <td>41.921965</td>\n",
       "      <td>-87.632085</td>\n",
       "      <td>8</td>\n",
       "      <td>2</td>\n",
       "      <td>0</td>\n",
       "      <td>2007-05-29</td>\n",
       "      <td>1</td>\n",
       "      <td>...</td>\n",
       "      <td>0</td>\n",
       "      <td>0</td>\n",
       "      <td>0</td>\n",
       "      <td>0</td>\n",
       "      <td>0</td>\n",
       "      <td>0</td>\n",
       "      <td>720</td>\n",
       "      <td>1.500000</td>\n",
       "      <td>22</td>\n",
       "      <td>0 days 14:56:00.000000000</td>\n",
       "    </tr>\n",
       "    <tr>\n",
       "      <th>12</th>\n",
       "      <td>CULEX RESTUANS</td>\n",
       "      <td>22</td>\n",
       "      <td>T054</td>\n",
       "      <td>41.921965</td>\n",
       "      <td>-87.632085</td>\n",
       "      <td>8</td>\n",
       "      <td>3</td>\n",
       "      <td>0</td>\n",
       "      <td>2007-05-29</td>\n",
       "      <td>0</td>\n",
       "      <td>...</td>\n",
       "      <td>0</td>\n",
       "      <td>0</td>\n",
       "      <td>0</td>\n",
       "      <td>0</td>\n",
       "      <td>0</td>\n",
       "      <td>0</td>\n",
       "      <td>720</td>\n",
       "      <td>1.500000</td>\n",
       "      <td>22</td>\n",
       "      <td>0 days 14:56:00.000000000</td>\n",
       "    </tr>\n",
       "    <tr>\n",
       "      <th>13</th>\n",
       "      <td>CULEX PIPIENS/RESTUANS</td>\n",
       "      <td>22</td>\n",
       "      <td>T086</td>\n",
       "      <td>41.688324</td>\n",
       "      <td>-87.676709</td>\n",
       "      <td>8</td>\n",
       "      <td>1</td>\n",
       "      <td>0</td>\n",
       "      <td>2007-05-29</td>\n",
       "      <td>1</td>\n",
       "      <td>...</td>\n",
       "      <td>0</td>\n",
       "      <td>0</td>\n",
       "      <td>0</td>\n",
       "      <td>0</td>\n",
       "      <td>0</td>\n",
       "      <td>0</td>\n",
       "      <td>720</td>\n",
       "      <td>1.500000</td>\n",
       "      <td>22</td>\n",
       "      <td>0 days 14:56:00.000000000</td>\n",
       "    </tr>\n",
       "    <tr>\n",
       "      <th>14</th>\n",
       "      <td>CULEX RESTUANS</td>\n",
       "      <td>22</td>\n",
       "      <td>T086</td>\n",
       "      <td>41.688324</td>\n",
       "      <td>-87.676709</td>\n",
       "      <td>8</td>\n",
       "      <td>1</td>\n",
       "      <td>0</td>\n",
       "      <td>2007-05-29</td>\n",
       "      <td>0</td>\n",
       "      <td>...</td>\n",
       "      <td>0</td>\n",
       "      <td>0</td>\n",
       "      <td>0</td>\n",
       "      <td>0</td>\n",
       "      <td>0</td>\n",
       "      <td>0</td>\n",
       "      <td>720</td>\n",
       "      <td>1.500000</td>\n",
       "      <td>22</td>\n",
       "      <td>0 days 14:56:00.000000000</td>\n",
       "    </tr>\n",
       "    <tr>\n",
       "      <th>15</th>\n",
       "      <td>CULEX RESTUANS</td>\n",
       "      <td>11</td>\n",
       "      <td>T091</td>\n",
       "      <td>41.862292</td>\n",
       "      <td>-87.648860</td>\n",
       "      <td>8</td>\n",
       "      <td>1</td>\n",
       "      <td>0</td>\n",
       "      <td>2007-05-29</td>\n",
       "      <td>0</td>\n",
       "      <td>...</td>\n",
       "      <td>0</td>\n",
       "      <td>0</td>\n",
       "      <td>0</td>\n",
       "      <td>0</td>\n",
       "      <td>0</td>\n",
       "      <td>0</td>\n",
       "      <td>720</td>\n",
       "      <td>1.500000</td>\n",
       "      <td>22</td>\n",
       "      <td>0 days 14:56:00.000000000</td>\n",
       "    </tr>\n",
       "    <tr>\n",
       "      <th>16</th>\n",
       "      <td>CULEX RESTUANS</td>\n",
       "      <td>17</td>\n",
       "      <td>T094</td>\n",
       "      <td>41.720848</td>\n",
       "      <td>-87.666014</td>\n",
       "      <td>9</td>\n",
       "      <td>3</td>\n",
       "      <td>0</td>\n",
       "      <td>2007-05-29</td>\n",
       "      <td>0</td>\n",
       "      <td>...</td>\n",
       "      <td>0</td>\n",
       "      <td>0</td>\n",
       "      <td>0</td>\n",
       "      <td>0</td>\n",
       "      <td>0</td>\n",
       "      <td>0</td>\n",
       "      <td>720</td>\n",
       "      <td>1.500000</td>\n",
       "      <td>22</td>\n",
       "      <td>0 days 14:56:00.000000000</td>\n",
       "    </tr>\n",
       "    <tr>\n",
       "      <th>17</th>\n",
       "      <td>CULEX RESTUANS</td>\n",
       "      <td>22</td>\n",
       "      <td>T096</td>\n",
       "      <td>41.731922</td>\n",
       "      <td>-87.677512</td>\n",
       "      <td>8</td>\n",
       "      <td>5</td>\n",
       "      <td>0</td>\n",
       "      <td>2007-05-29</td>\n",
       "      <td>0</td>\n",
       "      <td>...</td>\n",
       "      <td>0</td>\n",
       "      <td>0</td>\n",
       "      <td>0</td>\n",
       "      <td>0</td>\n",
       "      <td>0</td>\n",
       "      <td>0</td>\n",
       "      <td>720</td>\n",
       "      <td>1.500000</td>\n",
       "      <td>22</td>\n",
       "      <td>0 days 14:56:00.000000000</td>\n",
       "    </tr>\n",
       "    <tr>\n",
       "      <th>18</th>\n",
       "      <td>CULEX PIPIENS</td>\n",
       "      <td>22</td>\n",
       "      <td>T096</td>\n",
       "      <td>41.731922</td>\n",
       "      <td>-87.677512</td>\n",
       "      <td>8</td>\n",
       "      <td>1</td>\n",
       "      <td>0</td>\n",
       "      <td>2007-05-29</td>\n",
       "      <td>1</td>\n",
       "      <td>...</td>\n",
       "      <td>0</td>\n",
       "      <td>0</td>\n",
       "      <td>0</td>\n",
       "      <td>0</td>\n",
       "      <td>0</td>\n",
       "      <td>0</td>\n",
       "      <td>720</td>\n",
       "      <td>1.500000</td>\n",
       "      <td>22</td>\n",
       "      <td>0 days 14:56:00.000000000</td>\n",
       "    </tr>\n",
       "    <tr>\n",
       "      <th>19</th>\n",
       "      <td>CULEX PIPIENS/RESTUANS</td>\n",
       "      <td>53</td>\n",
       "      <td>T129</td>\n",
       "      <td>41.891126</td>\n",
       "      <td>-87.611560</td>\n",
       "      <td>5</td>\n",
       "      <td>1</td>\n",
       "      <td>0</td>\n",
       "      <td>2007-05-29</td>\n",
       "      <td>1</td>\n",
       "      <td>...</td>\n",
       "      <td>0</td>\n",
       "      <td>0</td>\n",
       "      <td>0</td>\n",
       "      <td>0</td>\n",
       "      <td>0</td>\n",
       "      <td>0</td>\n",
       "      <td>720</td>\n",
       "      <td>1.500000</td>\n",
       "      <td>22</td>\n",
       "      <td>0 days 14:56:00.000000000</td>\n",
       "    </tr>\n",
       "    <tr>\n",
       "      <th>20</th>\n",
       "      <td>CULEX RESTUANS</td>\n",
       "      <td>53</td>\n",
       "      <td>T129</td>\n",
       "      <td>41.891126</td>\n",
       "      <td>-87.611560</td>\n",
       "      <td>5</td>\n",
       "      <td>2</td>\n",
       "      <td>0</td>\n",
       "      <td>2007-05-29</td>\n",
       "      <td>0</td>\n",
       "      <td>...</td>\n",
       "      <td>0</td>\n",
       "      <td>0</td>\n",
       "      <td>0</td>\n",
       "      <td>0</td>\n",
       "      <td>0</td>\n",
       "      <td>0</td>\n",
       "      <td>720</td>\n",
       "      <td>1.500000</td>\n",
       "      <td>22</td>\n",
       "      <td>0 days 14:56:00.000000000</td>\n",
       "    </tr>\n",
       "    <tr>\n",
       "      <th>21</th>\n",
       "      <td>CULEX PIPIENS/RESTUANS</td>\n",
       "      <td>65</td>\n",
       "      <td>T143</td>\n",
       "      <td>41.999129</td>\n",
       "      <td>-87.795585</td>\n",
       "      <td>8</td>\n",
       "      <td>1</td>\n",
       "      <td>0</td>\n",
       "      <td>2007-05-29</td>\n",
       "      <td>1</td>\n",
       "      <td>...</td>\n",
       "      <td>0</td>\n",
       "      <td>0</td>\n",
       "      <td>0</td>\n",
       "      <td>0</td>\n",
       "      <td>0</td>\n",
       "      <td>0</td>\n",
       "      <td>720</td>\n",
       "      <td>1.500000</td>\n",
       "      <td>22</td>\n",
       "      <td>0 days 14:56:00.000000000</td>\n",
       "    </tr>\n",
       "    <tr>\n",
       "      <th>22</th>\n",
       "      <td>CULEX PIPIENS/RESTUANS</td>\n",
       "      <td>75</td>\n",
       "      <td>T148</td>\n",
       "      <td>42.017430</td>\n",
       "      <td>-87.687769</td>\n",
       "      <td>8</td>\n",
       "      <td>1</td>\n",
       "      <td>0</td>\n",
       "      <td>2007-05-29</td>\n",
       "      <td>1</td>\n",
       "      <td>...</td>\n",
       "      <td>0</td>\n",
       "      <td>0</td>\n",
       "      <td>0</td>\n",
       "      <td>0</td>\n",
       "      <td>0</td>\n",
       "      <td>0</td>\n",
       "      <td>720</td>\n",
       "      <td>1.500000</td>\n",
       "      <td>22</td>\n",
       "      <td>0 days 14:56:00.000000000</td>\n",
       "    </tr>\n",
       "    <tr>\n",
       "      <th>23</th>\n",
       "      <td>CULEX RESTUANS</td>\n",
       "      <td>15</td>\n",
       "      <td>T153</td>\n",
       "      <td>41.907645</td>\n",
       "      <td>-87.760886</td>\n",
       "      <td>8</td>\n",
       "      <td>1</td>\n",
       "      <td>0</td>\n",
       "      <td>2007-05-29</td>\n",
       "      <td>0</td>\n",
       "      <td>...</td>\n",
       "      <td>0</td>\n",
       "      <td>0</td>\n",
       "      <td>0</td>\n",
       "      <td>0</td>\n",
       "      <td>0</td>\n",
       "      <td>0</td>\n",
       "      <td>720</td>\n",
       "      <td>1.500000</td>\n",
       "      <td>22</td>\n",
       "      <td>0 days 14:56:00.000000000</td>\n",
       "    </tr>\n",
       "    <tr>\n",
       "      <th>24</th>\n",
       "      <td>CULEX RESTUANS</td>\n",
       "      <td>89</td>\n",
       "      <td>T159</td>\n",
       "      <td>41.732984</td>\n",
       "      <td>-87.649642</td>\n",
       "      <td>8</td>\n",
       "      <td>1</td>\n",
       "      <td>0</td>\n",
       "      <td>2007-05-29</td>\n",
       "      <td>0</td>\n",
       "      <td>...</td>\n",
       "      <td>0</td>\n",
       "      <td>0</td>\n",
       "      <td>0</td>\n",
       "      <td>0</td>\n",
       "      <td>0</td>\n",
       "      <td>0</td>\n",
       "      <td>720</td>\n",
       "      <td>1.500000</td>\n",
       "      <td>22</td>\n",
       "      <td>0 days 14:56:00.000000000</td>\n",
       "    </tr>\n",
       "    <tr>\n",
       "      <th>25</th>\n",
       "      <td>CULEX PIPIENS/RESTUANS</td>\n",
       "      <td>41</td>\n",
       "      <td>T002</td>\n",
       "      <td>41.954690</td>\n",
       "      <td>-87.800991</td>\n",
       "      <td>9</td>\n",
       "      <td>3</td>\n",
       "      <td>0</td>\n",
       "      <td>2007-06-05</td>\n",
       "      <td>1</td>\n",
       "      <td>...</td>\n",
       "      <td>0</td>\n",
       "      <td>0</td>\n",
       "      <td>0</td>\n",
       "      <td>0</td>\n",
       "      <td>0</td>\n",
       "      <td>0</td>\n",
       "      <td>720</td>\n",
       "      <td>1.500000</td>\n",
       "      <td>23</td>\n",
       "      <td>0 days 15:06:00.000000000</td>\n",
       "    </tr>\n",
       "    <tr>\n",
       "      <th>26</th>\n",
       "      <td>CULEX RESTUANS</td>\n",
       "      <td>41</td>\n",
       "      <td>T002</td>\n",
       "      <td>41.954690</td>\n",
       "      <td>-87.800991</td>\n",
       "      <td>9</td>\n",
       "      <td>5</td>\n",
       "      <td>0</td>\n",
       "      <td>2007-06-05</td>\n",
       "      <td>0</td>\n",
       "      <td>...</td>\n",
       "      <td>0</td>\n",
       "      <td>0</td>\n",
       "      <td>0</td>\n",
       "      <td>0</td>\n",
       "      <td>0</td>\n",
       "      <td>0</td>\n",
       "      <td>720</td>\n",
       "      <td>1.500000</td>\n",
       "      <td>23</td>\n",
       "      <td>0 days 15:06:00.000000000</td>\n",
       "    </tr>\n",
       "    <tr>\n",
       "      <th>27</th>\n",
       "      <td>CULEX PIPIENS</td>\n",
       "      <td>41</td>\n",
       "      <td>T002</td>\n",
       "      <td>41.954690</td>\n",
       "      <td>-87.800991</td>\n",
       "      <td>9</td>\n",
       "      <td>1</td>\n",
       "      <td>0</td>\n",
       "      <td>2007-06-05</td>\n",
       "      <td>1</td>\n",
       "      <td>...</td>\n",
       "      <td>0</td>\n",
       "      <td>0</td>\n",
       "      <td>0</td>\n",
       "      <td>0</td>\n",
       "      <td>0</td>\n",
       "      <td>0</td>\n",
       "      <td>720</td>\n",
       "      <td>1.500000</td>\n",
       "      <td>23</td>\n",
       "      <td>0 days 15:06:00.000000000</td>\n",
       "    </tr>\n",
       "    <tr>\n",
       "      <th>28</th>\n",
       "      <td>CULEX PIPIENS/RESTUANS</td>\n",
       "      <td>79</td>\n",
       "      <td>T015</td>\n",
       "      <td>41.974089</td>\n",
       "      <td>-87.824812</td>\n",
       "      <td>8</td>\n",
       "      <td>1</td>\n",
       "      <td>0</td>\n",
       "      <td>2007-06-05</td>\n",
       "      <td>1</td>\n",
       "      <td>...</td>\n",
       "      <td>0</td>\n",
       "      <td>0</td>\n",
       "      <td>0</td>\n",
       "      <td>0</td>\n",
       "      <td>0</td>\n",
       "      <td>0</td>\n",
       "      <td>720</td>\n",
       "      <td>1.500000</td>\n",
       "      <td>23</td>\n",
       "      <td>0 days 15:06:00.000000000</td>\n",
       "    </tr>\n",
       "    <tr>\n",
       "      <th>29</th>\n",
       "      <td>CULEX RESTUANS</td>\n",
       "      <td>79</td>\n",
       "      <td>T015</td>\n",
       "      <td>41.974089</td>\n",
       "      <td>-87.824812</td>\n",
       "      <td>8</td>\n",
       "      <td>2</td>\n",
       "      <td>0</td>\n",
       "      <td>2007-06-05</td>\n",
       "      <td>0</td>\n",
       "      <td>...</td>\n",
       "      <td>0</td>\n",
       "      <td>0</td>\n",
       "      <td>0</td>\n",
       "      <td>0</td>\n",
       "      <td>0</td>\n",
       "      <td>0</td>\n",
       "      <td>720</td>\n",
       "      <td>1.500000</td>\n",
       "      <td>23</td>\n",
       "      <td>0 days 15:06:00.000000000</td>\n",
       "    </tr>\n",
       "    <tr>\n",
       "      <th>...</th>\n",
       "      <td>...</td>\n",
       "      <td>...</td>\n",
       "      <td>...</td>\n",
       "      <td>...</td>\n",
       "      <td>...</td>\n",
       "      <td>...</td>\n",
       "      <td>...</td>\n",
       "      <td>...</td>\n",
       "      <td>...</td>\n",
       "      <td>...</td>\n",
       "      <td>...</td>\n",
       "      <td>...</td>\n",
       "      <td>...</td>\n",
       "      <td>...</td>\n",
       "      <td>...</td>\n",
       "      <td>...</td>\n",
       "      <td>...</td>\n",
       "      <td>...</td>\n",
       "      <td>...</td>\n",
       "      <td>...</td>\n",
       "      <td>...</td>\n",
       "    </tr>\n",
       "    <tr>\n",
       "      <th>9663</th>\n",
       "      <td>CULEX PIPIENS/RESTUANS</td>\n",
       "      <td>10</td>\n",
       "      <td>T102</td>\n",
       "      <td>41.750498</td>\n",
       "      <td>-87.605294</td>\n",
       "      <td>5</td>\n",
       "      <td>2</td>\n",
       "      <td>0</td>\n",
       "      <td>2013-09-26</td>\n",
       "      <td>1</td>\n",
       "      <td>...</td>\n",
       "      <td>0</td>\n",
       "      <td>0</td>\n",
       "      <td>0</td>\n",
       "      <td>0</td>\n",
       "      <td>0</td>\n",
       "      <td>0</td>\n",
       "      <td>21</td>\n",
       "      <td>0.433095</td>\n",
       "      <td>39</td>\n",
       "      <td>0 days 11:59:00.000000000</td>\n",
       "    </tr>\n",
       "    <tr>\n",
       "      <th>9664</th>\n",
       "      <td>CULEX RESTUANS</td>\n",
       "      <td>10</td>\n",
       "      <td>T102</td>\n",
       "      <td>41.750498</td>\n",
       "      <td>-87.605294</td>\n",
       "      <td>5</td>\n",
       "      <td>1</td>\n",
       "      <td>0</td>\n",
       "      <td>2013-09-26</td>\n",
       "      <td>0</td>\n",
       "      <td>...</td>\n",
       "      <td>0</td>\n",
       "      <td>0</td>\n",
       "      <td>0</td>\n",
       "      <td>0</td>\n",
       "      <td>0</td>\n",
       "      <td>0</td>\n",
       "      <td>21</td>\n",
       "      <td>0.433095</td>\n",
       "      <td>39</td>\n",
       "      <td>0 days 11:59:00.000000000</td>\n",
       "    </tr>\n",
       "    <tr>\n",
       "      <th>9665</th>\n",
       "      <td>CULEX PIPIENS</td>\n",
       "      <td>10</td>\n",
       "      <td>T102</td>\n",
       "      <td>41.750498</td>\n",
       "      <td>-87.605294</td>\n",
       "      <td>5</td>\n",
       "      <td>1</td>\n",
       "      <td>0</td>\n",
       "      <td>2013-09-26</td>\n",
       "      <td>1</td>\n",
       "      <td>...</td>\n",
       "      <td>0</td>\n",
       "      <td>0</td>\n",
       "      <td>0</td>\n",
       "      <td>0</td>\n",
       "      <td>0</td>\n",
       "      <td>0</td>\n",
       "      <td>21</td>\n",
       "      <td>0.433095</td>\n",
       "      <td>39</td>\n",
       "      <td>0 days 11:59:00.000000000</td>\n",
       "    </tr>\n",
       "    <tr>\n",
       "      <th>9666</th>\n",
       "      <td>CULEX PIPIENS</td>\n",
       "      <td>58</td>\n",
       "      <td>T027</td>\n",
       "      <td>41.984809</td>\n",
       "      <td>-87.728492</td>\n",
       "      <td>8</td>\n",
       "      <td>5</td>\n",
       "      <td>0</td>\n",
       "      <td>2013-09-26</td>\n",
       "      <td>1</td>\n",
       "      <td>...</td>\n",
       "      <td>0</td>\n",
       "      <td>0</td>\n",
       "      <td>0</td>\n",
       "      <td>0</td>\n",
       "      <td>0</td>\n",
       "      <td>0</td>\n",
       "      <td>21</td>\n",
       "      <td>0.075586</td>\n",
       "      <td>39</td>\n",
       "      <td>0 days 11:59:00.000000000</td>\n",
       "    </tr>\n",
       "    <tr>\n",
       "      <th>9667</th>\n",
       "      <td>CULEX PIPIENS/RESTUANS</td>\n",
       "      <td>40</td>\n",
       "      <td>T221</td>\n",
       "      <td>41.659112</td>\n",
       "      <td>-87.538693</td>\n",
       "      <td>8</td>\n",
       "      <td>5</td>\n",
       "      <td>0</td>\n",
       "      <td>2013-09-26</td>\n",
       "      <td>1</td>\n",
       "      <td>...</td>\n",
       "      <td>0</td>\n",
       "      <td>0</td>\n",
       "      <td>0</td>\n",
       "      <td>0</td>\n",
       "      <td>0</td>\n",
       "      <td>0</td>\n",
       "      <td>21</td>\n",
       "      <td>0.591082</td>\n",
       "      <td>39</td>\n",
       "      <td>0 days 11:59:00.000000000</td>\n",
       "    </tr>\n",
       "    <tr>\n",
       "      <th>9668</th>\n",
       "      <td>CULEX RESTUANS</td>\n",
       "      <td>40</td>\n",
       "      <td>T221</td>\n",
       "      <td>41.659112</td>\n",
       "      <td>-87.538693</td>\n",
       "      <td>8</td>\n",
       "      <td>5</td>\n",
       "      <td>0</td>\n",
       "      <td>2013-09-26</td>\n",
       "      <td>0</td>\n",
       "      <td>...</td>\n",
       "      <td>0</td>\n",
       "      <td>0</td>\n",
       "      <td>0</td>\n",
       "      <td>0</td>\n",
       "      <td>0</td>\n",
       "      <td>0</td>\n",
       "      <td>21</td>\n",
       "      <td>0.591082</td>\n",
       "      <td>39</td>\n",
       "      <td>0 days 11:59:00.000000000</td>\n",
       "    </tr>\n",
       "    <tr>\n",
       "      <th>9669</th>\n",
       "      <td>CULEX PIPIENS</td>\n",
       "      <td>40</td>\n",
       "      <td>T221</td>\n",
       "      <td>41.659112</td>\n",
       "      <td>-87.538693</td>\n",
       "      <td>8</td>\n",
       "      <td>4</td>\n",
       "      <td>0</td>\n",
       "      <td>2013-09-26</td>\n",
       "      <td>1</td>\n",
       "      <td>...</td>\n",
       "      <td>0</td>\n",
       "      <td>0</td>\n",
       "      <td>0</td>\n",
       "      <td>0</td>\n",
       "      <td>0</td>\n",
       "      <td>0</td>\n",
       "      <td>21</td>\n",
       "      <td>0.591082</td>\n",
       "      <td>39</td>\n",
       "      <td>0 days 11:59:00.000000000</td>\n",
       "    </tr>\n",
       "    <tr>\n",
       "      <th>9670</th>\n",
       "      <td>CULEX RESTUANS</td>\n",
       "      <td>91</td>\n",
       "      <td>T009</td>\n",
       "      <td>41.992478</td>\n",
       "      <td>-87.862995</td>\n",
       "      <td>8</td>\n",
       "      <td>1</td>\n",
       "      <td>0</td>\n",
       "      <td>2013-09-26</td>\n",
       "      <td>0</td>\n",
       "      <td>...</td>\n",
       "      <td>0</td>\n",
       "      <td>0</td>\n",
       "      <td>0</td>\n",
       "      <td>0</td>\n",
       "      <td>0</td>\n",
       "      <td>0</td>\n",
       "      <td>21</td>\n",
       "      <td>0.028991</td>\n",
       "      <td>39</td>\n",
       "      <td>0 days 11:59:00.000000000</td>\n",
       "    </tr>\n",
       "    <tr>\n",
       "      <th>9671</th>\n",
       "      <td>CULEX PIPIENS/RESTUANS</td>\n",
       "      <td>10</td>\n",
       "      <td>T900</td>\n",
       "      <td>41.974689</td>\n",
       "      <td>-87.890615</td>\n",
       "      <td>9</td>\n",
       "      <td>39</td>\n",
       "      <td>1</td>\n",
       "      <td>2013-09-26</td>\n",
       "      <td>1</td>\n",
       "      <td>...</td>\n",
       "      <td>0</td>\n",
       "      <td>0</td>\n",
       "      <td>0</td>\n",
       "      <td>0</td>\n",
       "      <td>0</td>\n",
       "      <td>0</td>\n",
       "      <td>21</td>\n",
       "      <td>0.046971</td>\n",
       "      <td>39</td>\n",
       "      <td>0 days 11:59:00.000000000</td>\n",
       "    </tr>\n",
       "    <tr>\n",
       "      <th>9672</th>\n",
       "      <td>CULEX PIPIENS/RESTUANS</td>\n",
       "      <td>10</td>\n",
       "      <td>T900</td>\n",
       "      <td>41.974689</td>\n",
       "      <td>-87.890615</td>\n",
       "      <td>9</td>\n",
       "      <td>4</td>\n",
       "      <td>0</td>\n",
       "      <td>2013-09-26</td>\n",
       "      <td>1</td>\n",
       "      <td>...</td>\n",
       "      <td>0</td>\n",
       "      <td>0</td>\n",
       "      <td>0</td>\n",
       "      <td>0</td>\n",
       "      <td>0</td>\n",
       "      <td>0</td>\n",
       "      <td>21</td>\n",
       "      <td>0.046971</td>\n",
       "      <td>39</td>\n",
       "      <td>0 days 11:59:00.000000000</td>\n",
       "    </tr>\n",
       "    <tr>\n",
       "      <th>9673</th>\n",
       "      <td>CULEX PIPIENS</td>\n",
       "      <td>10</td>\n",
       "      <td>T900</td>\n",
       "      <td>41.974689</td>\n",
       "      <td>-87.890615</td>\n",
       "      <td>9</td>\n",
       "      <td>16</td>\n",
       "      <td>0</td>\n",
       "      <td>2013-09-26</td>\n",
       "      <td>1</td>\n",
       "      <td>...</td>\n",
       "      <td>0</td>\n",
       "      <td>0</td>\n",
       "      <td>0</td>\n",
       "      <td>0</td>\n",
       "      <td>0</td>\n",
       "      <td>0</td>\n",
       "      <td>21</td>\n",
       "      <td>0.046971</td>\n",
       "      <td>39</td>\n",
       "      <td>0 days 11:59:00.000000000</td>\n",
       "    </tr>\n",
       "    <tr>\n",
       "      <th>9674</th>\n",
       "      <td>CULEX PIPIENS</td>\n",
       "      <td>10</td>\n",
       "      <td>T900</td>\n",
       "      <td>41.974689</td>\n",
       "      <td>-87.890615</td>\n",
       "      <td>9</td>\n",
       "      <td>9</td>\n",
       "      <td>0</td>\n",
       "      <td>2013-09-26</td>\n",
       "      <td>1</td>\n",
       "      <td>...</td>\n",
       "      <td>0</td>\n",
       "      <td>0</td>\n",
       "      <td>0</td>\n",
       "      <td>0</td>\n",
       "      <td>0</td>\n",
       "      <td>0</td>\n",
       "      <td>21</td>\n",
       "      <td>0.046971</td>\n",
       "      <td>39</td>\n",
       "      <td>0 days 11:59:00.000000000</td>\n",
       "    </tr>\n",
       "    <tr>\n",
       "      <th>9675</th>\n",
       "      <td>CULEX PIPIENS</td>\n",
       "      <td>10</td>\n",
       "      <td>T900</td>\n",
       "      <td>41.974689</td>\n",
       "      <td>-87.890615</td>\n",
       "      <td>9</td>\n",
       "      <td>11</td>\n",
       "      <td>0</td>\n",
       "      <td>2013-09-26</td>\n",
       "      <td>1</td>\n",
       "      <td>...</td>\n",
       "      <td>0</td>\n",
       "      <td>0</td>\n",
       "      <td>0</td>\n",
       "      <td>0</td>\n",
       "      <td>0</td>\n",
       "      <td>0</td>\n",
       "      <td>21</td>\n",
       "      <td>0.046971</td>\n",
       "      <td>39</td>\n",
       "      <td>0 days 11:59:00.000000000</td>\n",
       "    </tr>\n",
       "    <tr>\n",
       "      <th>9676</th>\n",
       "      <td>CULEX PIPIENS</td>\n",
       "      <td>10</td>\n",
       "      <td>T900</td>\n",
       "      <td>41.974689</td>\n",
       "      <td>-87.890615</td>\n",
       "      <td>9</td>\n",
       "      <td>1</td>\n",
       "      <td>0</td>\n",
       "      <td>2013-09-26</td>\n",
       "      <td>1</td>\n",
       "      <td>...</td>\n",
       "      <td>0</td>\n",
       "      <td>0</td>\n",
       "      <td>0</td>\n",
       "      <td>0</td>\n",
       "      <td>0</td>\n",
       "      <td>0</td>\n",
       "      <td>21</td>\n",
       "      <td>0.046971</td>\n",
       "      <td>39</td>\n",
       "      <td>0 days 11:59:00.000000000</td>\n",
       "    </tr>\n",
       "    <tr>\n",
       "      <th>9677</th>\n",
       "      <td>CULEX PIPIENS/RESTUANS</td>\n",
       "      <td>48</td>\n",
       "      <td>T222</td>\n",
       "      <td>41.925198</td>\n",
       "      <td>-87.746381</td>\n",
       "      <td>8</td>\n",
       "      <td>1</td>\n",
       "      <td>0</td>\n",
       "      <td>2013-09-26</td>\n",
       "      <td>1</td>\n",
       "      <td>...</td>\n",
       "      <td>0</td>\n",
       "      <td>0</td>\n",
       "      <td>0</td>\n",
       "      <td>0</td>\n",
       "      <td>0</td>\n",
       "      <td>0</td>\n",
       "      <td>21</td>\n",
       "      <td>0.117308</td>\n",
       "      <td>39</td>\n",
       "      <td>0 days 11:59:00.000000000</td>\n",
       "    </tr>\n",
       "    <tr>\n",
       "      <th>9678</th>\n",
       "      <td>CULEX PIPIENS/RESTUANS</td>\n",
       "      <td>51</td>\n",
       "      <td>T223</td>\n",
       "      <td>41.973845</td>\n",
       "      <td>-87.805059</td>\n",
       "      <td>9</td>\n",
       "      <td>11</td>\n",
       "      <td>0</td>\n",
       "      <td>2013-09-26</td>\n",
       "      <td>1</td>\n",
       "      <td>...</td>\n",
       "      <td>0</td>\n",
       "      <td>0</td>\n",
       "      <td>0</td>\n",
       "      <td>0</td>\n",
       "      <td>0</td>\n",
       "      <td>0</td>\n",
       "      <td>21</td>\n",
       "      <td>0.024501</td>\n",
       "      <td>39</td>\n",
       "      <td>0 days 11:59:00.000000000</td>\n",
       "    </tr>\n",
       "    <tr>\n",
       "      <th>9679</th>\n",
       "      <td>CULEX PIPIENS</td>\n",
       "      <td>51</td>\n",
       "      <td>T223</td>\n",
       "      <td>41.973845</td>\n",
       "      <td>-87.805059</td>\n",
       "      <td>9</td>\n",
       "      <td>1</td>\n",
       "      <td>0</td>\n",
       "      <td>2013-09-26</td>\n",
       "      <td>1</td>\n",
       "      <td>...</td>\n",
       "      <td>0</td>\n",
       "      <td>0</td>\n",
       "      <td>0</td>\n",
       "      <td>0</td>\n",
       "      <td>0</td>\n",
       "      <td>0</td>\n",
       "      <td>21</td>\n",
       "      <td>0.024501</td>\n",
       "      <td>39</td>\n",
       "      <td>0 days 11:59:00.000000000</td>\n",
       "    </tr>\n",
       "    <tr>\n",
       "      <th>9680</th>\n",
       "      <td>CULEX PIPIENS/RESTUANS</td>\n",
       "      <td>82</td>\n",
       "      <td>T225</td>\n",
       "      <td>41.743402</td>\n",
       "      <td>-87.731435</td>\n",
       "      <td>8</td>\n",
       "      <td>3</td>\n",
       "      <td>0</td>\n",
       "      <td>2013-09-26</td>\n",
       "      <td>1</td>\n",
       "      <td>...</td>\n",
       "      <td>0</td>\n",
       "      <td>0</td>\n",
       "      <td>0</td>\n",
       "      <td>0</td>\n",
       "      <td>0</td>\n",
       "      <td>0</td>\n",
       "      <td>21</td>\n",
       "      <td>0.314050</td>\n",
       "      <td>39</td>\n",
       "      <td>0 days 11:59:00.000000000</td>\n",
       "    </tr>\n",
       "    <tr>\n",
       "      <th>9681</th>\n",
       "      <td>CULEX PIPIENS/RESTUANS</td>\n",
       "      <td>65</td>\n",
       "      <td>T227</td>\n",
       "      <td>41.728495</td>\n",
       "      <td>-87.600963</td>\n",
       "      <td>5</td>\n",
       "      <td>7</td>\n",
       "      <td>0</td>\n",
       "      <td>2013-09-26</td>\n",
       "      <td>1</td>\n",
       "      <td>...</td>\n",
       "      <td>0</td>\n",
       "      <td>0</td>\n",
       "      <td>0</td>\n",
       "      <td>0</td>\n",
       "      <td>0</td>\n",
       "      <td>0</td>\n",
       "      <td>21</td>\n",
       "      <td>0.459429</td>\n",
       "      <td>39</td>\n",
       "      <td>0 days 11:59:00.000000000</td>\n",
       "    </tr>\n",
       "    <tr>\n",
       "      <th>9682</th>\n",
       "      <td>CULEX PIPIENS</td>\n",
       "      <td>65</td>\n",
       "      <td>T227</td>\n",
       "      <td>41.728495</td>\n",
       "      <td>-87.600963</td>\n",
       "      <td>5</td>\n",
       "      <td>1</td>\n",
       "      <td>0</td>\n",
       "      <td>2013-09-26</td>\n",
       "      <td>1</td>\n",
       "      <td>...</td>\n",
       "      <td>0</td>\n",
       "      <td>0</td>\n",
       "      <td>0</td>\n",
       "      <td>0</td>\n",
       "      <td>0</td>\n",
       "      <td>0</td>\n",
       "      <td>21</td>\n",
       "      <td>0.459429</td>\n",
       "      <td>39</td>\n",
       "      <td>0 days 11:59:00.000000000</td>\n",
       "    </tr>\n",
       "    <tr>\n",
       "      <th>9683</th>\n",
       "      <td>CULEX PIPIENS/RESTUANS</td>\n",
       "      <td>17</td>\n",
       "      <td>T224</td>\n",
       "      <td>41.947227</td>\n",
       "      <td>-87.671457</td>\n",
       "      <td>9</td>\n",
       "      <td>3</td>\n",
       "      <td>0</td>\n",
       "      <td>2013-09-26</td>\n",
       "      <td>1</td>\n",
       "      <td>...</td>\n",
       "      <td>0</td>\n",
       "      <td>0</td>\n",
       "      <td>0</td>\n",
       "      <td>0</td>\n",
       "      <td>0</td>\n",
       "      <td>0</td>\n",
       "      <td>21</td>\n",
       "      <td>0.170203</td>\n",
       "      <td>39</td>\n",
       "      <td>0 days 11:59:00.000000000</td>\n",
       "    </tr>\n",
       "    <tr>\n",
       "      <th>9684</th>\n",
       "      <td>CULEX PIPIENS/RESTUANS</td>\n",
       "      <td>90</td>\n",
       "      <td>T226</td>\n",
       "      <td>41.793818</td>\n",
       "      <td>-87.654234</td>\n",
       "      <td>5</td>\n",
       "      <td>8</td>\n",
       "      <td>0</td>\n",
       "      <td>2013-09-26</td>\n",
       "      <td>1</td>\n",
       "      <td>...</td>\n",
       "      <td>0</td>\n",
       "      <td>0</td>\n",
       "      <td>0</td>\n",
       "      <td>0</td>\n",
       "      <td>0</td>\n",
       "      <td>0</td>\n",
       "      <td>21</td>\n",
       "      <td>0.340835</td>\n",
       "      <td>39</td>\n",
       "      <td>0 days 11:59:00.000000000</td>\n",
       "    </tr>\n",
       "    <tr>\n",
       "      <th>9685</th>\n",
       "      <td>CULEX PIPIENS/RESTUANS</td>\n",
       "      <td>13</td>\n",
       "      <td>T230</td>\n",
       "      <td>41.904194</td>\n",
       "      <td>-87.756155</td>\n",
       "      <td>9</td>\n",
       "      <td>13</td>\n",
       "      <td>0</td>\n",
       "      <td>2013-09-26</td>\n",
       "      <td>1</td>\n",
       "      <td>...</td>\n",
       "      <td>0</td>\n",
       "      <td>0</td>\n",
       "      <td>0</td>\n",
       "      <td>0</td>\n",
       "      <td>0</td>\n",
       "      <td>0</td>\n",
       "      <td>21</td>\n",
       "      <td>0.128538</td>\n",
       "      <td>39</td>\n",
       "      <td>0 days 11:59:00.000000000</td>\n",
       "    </tr>\n",
       "    <tr>\n",
       "      <th>9686</th>\n",
       "      <td>CULEX PIPIENS</td>\n",
       "      <td>13</td>\n",
       "      <td>T230</td>\n",
       "      <td>41.904194</td>\n",
       "      <td>-87.756155</td>\n",
       "      <td>9</td>\n",
       "      <td>5</td>\n",
       "      <td>0</td>\n",
       "      <td>2013-09-26</td>\n",
       "      <td>1</td>\n",
       "      <td>...</td>\n",
       "      <td>0</td>\n",
       "      <td>0</td>\n",
       "      <td>0</td>\n",
       "      <td>0</td>\n",
       "      <td>0</td>\n",
       "      <td>0</td>\n",
       "      <td>21</td>\n",
       "      <td>0.128538</td>\n",
       "      <td>39</td>\n",
       "      <td>0 days 11:59:00.000000000</td>\n",
       "    </tr>\n",
       "    <tr>\n",
       "      <th>9687</th>\n",
       "      <td>CULEX PIPIENS/RESTUANS</td>\n",
       "      <td>39</td>\n",
       "      <td>T228</td>\n",
       "      <td>41.951866</td>\n",
       "      <td>-87.725057</td>\n",
       "      <td>8</td>\n",
       "      <td>3</td>\n",
       "      <td>0</td>\n",
       "      <td>2013-09-26</td>\n",
       "      <td>1</td>\n",
       "      <td>...</td>\n",
       "      <td>0</td>\n",
       "      <td>0</td>\n",
       "      <td>0</td>\n",
       "      <td>0</td>\n",
       "      <td>0</td>\n",
       "      <td>0</td>\n",
       "      <td>21</td>\n",
       "      <td>0.111964</td>\n",
       "      <td>39</td>\n",
       "      <td>0 days 11:59:00.000000000</td>\n",
       "    </tr>\n",
       "    <tr>\n",
       "      <th>9688</th>\n",
       "      <td>CULEX PIPIENS/RESTUANS</td>\n",
       "      <td>51</td>\n",
       "      <td>T035</td>\n",
       "      <td>41.763733</td>\n",
       "      <td>-87.742302</td>\n",
       "      <td>8</td>\n",
       "      <td>6</td>\n",
       "      <td>1</td>\n",
       "      <td>2013-09-26</td>\n",
       "      <td>1</td>\n",
       "      <td>...</td>\n",
       "      <td>0</td>\n",
       "      <td>0</td>\n",
       "      <td>0</td>\n",
       "      <td>0</td>\n",
       "      <td>0</td>\n",
       "      <td>0</td>\n",
       "      <td>21</td>\n",
       "      <td>0.282852</td>\n",
       "      <td>39</td>\n",
       "      <td>0 days 11:59:00.000000000</td>\n",
       "    </tr>\n",
       "    <tr>\n",
       "      <th>9689</th>\n",
       "      <td>CULEX PIPIENS/RESTUANS</td>\n",
       "      <td>58</td>\n",
       "      <td>T231</td>\n",
       "      <td>41.987280</td>\n",
       "      <td>-87.666066</td>\n",
       "      <td>8</td>\n",
       "      <td>5</td>\n",
       "      <td>0</td>\n",
       "      <td>2013-09-26</td>\n",
       "      <td>1</td>\n",
       "      <td>...</td>\n",
       "      <td>0</td>\n",
       "      <td>0</td>\n",
       "      <td>0</td>\n",
       "      <td>0</td>\n",
       "      <td>0</td>\n",
       "      <td>0</td>\n",
       "      <td>21</td>\n",
       "      <td>0.135541</td>\n",
       "      <td>39</td>\n",
       "      <td>0 days 11:59:00.000000000</td>\n",
       "    </tr>\n",
       "    <tr>\n",
       "      <th>9690</th>\n",
       "      <td>CULEX PIPIENS/RESTUANS</td>\n",
       "      <td>17</td>\n",
       "      <td>T232</td>\n",
       "      <td>41.912563</td>\n",
       "      <td>-87.668055</td>\n",
       "      <td>9</td>\n",
       "      <td>1</td>\n",
       "      <td>0</td>\n",
       "      <td>2013-09-26</td>\n",
       "      <td>1</td>\n",
       "      <td>...</td>\n",
       "      <td>0</td>\n",
       "      <td>0</td>\n",
       "      <td>0</td>\n",
       "      <td>0</td>\n",
       "      <td>0</td>\n",
       "      <td>0</td>\n",
       "      <td>21</td>\n",
       "      <td>0.208269</td>\n",
       "      <td>39</td>\n",
       "      <td>0 days 11:59:00.000000000</td>\n",
       "    </tr>\n",
       "    <tr>\n",
       "      <th>9691</th>\n",
       "      <td>CULEX PIPIENS/RESTUANS</td>\n",
       "      <td>71</td>\n",
       "      <td>T233</td>\n",
       "      <td>42.009876</td>\n",
       "      <td>-87.807277</td>\n",
       "      <td>9</td>\n",
       "      <td>5</td>\n",
       "      <td>0</td>\n",
       "      <td>2013-09-26</td>\n",
       "      <td>1</td>\n",
       "      <td>...</td>\n",
       "      <td>0</td>\n",
       "      <td>0</td>\n",
       "      <td>0</td>\n",
       "      <td>0</td>\n",
       "      <td>0</td>\n",
       "      <td>0</td>\n",
       "      <td>21</td>\n",
       "      <td>0.000671</td>\n",
       "      <td>39</td>\n",
       "      <td>0 days 11:59:00.000000000</td>\n",
       "    </tr>\n",
       "    <tr>\n",
       "      <th>9692</th>\n",
       "      <td>CULEX PIPIENS/RESTUANS</td>\n",
       "      <td>42</td>\n",
       "      <td>T235</td>\n",
       "      <td>41.776428</td>\n",
       "      <td>-87.627096</td>\n",
       "      <td>8</td>\n",
       "      <td>1</td>\n",
       "      <td>0</td>\n",
       "      <td>2013-09-26</td>\n",
       "      <td>1</td>\n",
       "      <td>...</td>\n",
       "      <td>0</td>\n",
       "      <td>0</td>\n",
       "      <td>0</td>\n",
       "      <td>0</td>\n",
       "      <td>0</td>\n",
       "      <td>0</td>\n",
       "      <td>21</td>\n",
       "      <td>0.385363</td>\n",
       "      <td>39</td>\n",
       "      <td>0 days 11:59:00.000000000</td>\n",
       "    </tr>\n",
       "  </tbody>\n",
       "</table>\n",
       "<p>9693 rows × 45 columns</p>\n",
       "</div>"
      ],
      "text/plain": [
       "                     Species  Block  Trap   Latitude  Longitude  \\\n",
       "0     CULEX PIPIENS/RESTUANS     41  T002  41.954690 -87.800991   \n",
       "1             CULEX RESTUANS     41  T002  41.954690 -87.800991   \n",
       "2             CULEX RESTUANS     62  T007  41.994991 -87.769279   \n",
       "3     CULEX PIPIENS/RESTUANS     79  T015  41.974089 -87.824812   \n",
       "4             CULEX RESTUANS     79  T015  41.974089 -87.824812   \n",
       "5             CULEX RESTUANS     15  T045  41.921600 -87.666455   \n",
       "6             CULEX RESTUANS     25  T046  41.891118 -87.654491   \n",
       "7     CULEX PIPIENS/RESTUANS     11  T048  41.867108 -87.654224   \n",
       "8             CULEX RESTUANS     11  T048  41.867108 -87.654224   \n",
       "9             CULEX RESTUANS     11  T049  41.896282 -87.655232   \n",
       "10    CULEX PIPIENS/RESTUANS     21  T050  41.919343 -87.694259   \n",
       "11    CULEX PIPIENS/RESTUANS     22  T054  41.921965 -87.632085   \n",
       "12            CULEX RESTUANS     22  T054  41.921965 -87.632085   \n",
       "13    CULEX PIPIENS/RESTUANS     22  T086  41.688324 -87.676709   \n",
       "14            CULEX RESTUANS     22  T086  41.688324 -87.676709   \n",
       "15            CULEX RESTUANS     11  T091  41.862292 -87.648860   \n",
       "16            CULEX RESTUANS     17  T094  41.720848 -87.666014   \n",
       "17            CULEX RESTUANS     22  T096  41.731922 -87.677512   \n",
       "18             CULEX PIPIENS     22  T096  41.731922 -87.677512   \n",
       "19    CULEX PIPIENS/RESTUANS     53  T129  41.891126 -87.611560   \n",
       "20            CULEX RESTUANS     53  T129  41.891126 -87.611560   \n",
       "21    CULEX PIPIENS/RESTUANS     65  T143  41.999129 -87.795585   \n",
       "22    CULEX PIPIENS/RESTUANS     75  T148  42.017430 -87.687769   \n",
       "23            CULEX RESTUANS     15  T153  41.907645 -87.760886   \n",
       "24            CULEX RESTUANS     89  T159  41.732984 -87.649642   \n",
       "25    CULEX PIPIENS/RESTUANS     41  T002  41.954690 -87.800991   \n",
       "26            CULEX RESTUANS     41  T002  41.954690 -87.800991   \n",
       "27             CULEX PIPIENS     41  T002  41.954690 -87.800991   \n",
       "28    CULEX PIPIENS/RESTUANS     79  T015  41.974089 -87.824812   \n",
       "29            CULEX RESTUANS     79  T015  41.974089 -87.824812   \n",
       "...                      ...    ...   ...        ...        ...   \n",
       "9663  CULEX PIPIENS/RESTUANS     10  T102  41.750498 -87.605294   \n",
       "9664          CULEX RESTUANS     10  T102  41.750498 -87.605294   \n",
       "9665           CULEX PIPIENS     10  T102  41.750498 -87.605294   \n",
       "9666           CULEX PIPIENS     58  T027  41.984809 -87.728492   \n",
       "9667  CULEX PIPIENS/RESTUANS     40  T221  41.659112 -87.538693   \n",
       "9668          CULEX RESTUANS     40  T221  41.659112 -87.538693   \n",
       "9669           CULEX PIPIENS     40  T221  41.659112 -87.538693   \n",
       "9670          CULEX RESTUANS     91  T009  41.992478 -87.862995   \n",
       "9671  CULEX PIPIENS/RESTUANS     10  T900  41.974689 -87.890615   \n",
       "9672  CULEX PIPIENS/RESTUANS     10  T900  41.974689 -87.890615   \n",
       "9673           CULEX PIPIENS     10  T900  41.974689 -87.890615   \n",
       "9674           CULEX PIPIENS     10  T900  41.974689 -87.890615   \n",
       "9675           CULEX PIPIENS     10  T900  41.974689 -87.890615   \n",
       "9676           CULEX PIPIENS     10  T900  41.974689 -87.890615   \n",
       "9677  CULEX PIPIENS/RESTUANS     48  T222  41.925198 -87.746381   \n",
       "9678  CULEX PIPIENS/RESTUANS     51  T223  41.973845 -87.805059   \n",
       "9679           CULEX PIPIENS     51  T223  41.973845 -87.805059   \n",
       "9680  CULEX PIPIENS/RESTUANS     82  T225  41.743402 -87.731435   \n",
       "9681  CULEX PIPIENS/RESTUANS     65  T227  41.728495 -87.600963   \n",
       "9682           CULEX PIPIENS     65  T227  41.728495 -87.600963   \n",
       "9683  CULEX PIPIENS/RESTUANS     17  T224  41.947227 -87.671457   \n",
       "9684  CULEX PIPIENS/RESTUANS     90  T226  41.793818 -87.654234   \n",
       "9685  CULEX PIPIENS/RESTUANS     13  T230  41.904194 -87.756155   \n",
       "9686           CULEX PIPIENS     13  T230  41.904194 -87.756155   \n",
       "9687  CULEX PIPIENS/RESTUANS     39  T228  41.951866 -87.725057   \n",
       "9688  CULEX PIPIENS/RESTUANS     51  T035  41.763733 -87.742302   \n",
       "9689  CULEX PIPIENS/RESTUANS     58  T231  41.987280 -87.666066   \n",
       "9690  CULEX PIPIENS/RESTUANS     17  T232  41.912563 -87.668055   \n",
       "9691  CULEX PIPIENS/RESTUANS     71  T233  42.009876 -87.807277   \n",
       "9692  CULEX PIPIENS/RESTUANS     42  T235  41.776428 -87.627096   \n",
       "\n",
       "      AddressAccuracy  NumMosquitos  WnvPresent        YMD  PIPIENS  \\\n",
       "0                   9             1           0 2007-05-29        1   \n",
       "1                   9             1           0 2007-05-29        0   \n",
       "2                   9             1           0 2007-05-29        0   \n",
       "3                   8             1           0 2007-05-29        1   \n",
       "4                   8             4           0 2007-05-29        0   \n",
       "5                   8             2           0 2007-05-29        0   \n",
       "6                   8             1           0 2007-05-29        0   \n",
       "7                   8             1           0 2007-05-29        1   \n",
       "8                   8             2           0 2007-05-29        0   \n",
       "9                   8             1           0 2007-05-29        0   \n",
       "10                  8             1           0 2007-05-29        1   \n",
       "11                  8             2           0 2007-05-29        1   \n",
       "12                  8             3           0 2007-05-29        0   \n",
       "13                  8             1           0 2007-05-29        1   \n",
       "14                  8             1           0 2007-05-29        0   \n",
       "15                  8             1           0 2007-05-29        0   \n",
       "16                  9             3           0 2007-05-29        0   \n",
       "17                  8             5           0 2007-05-29        0   \n",
       "18                  8             1           0 2007-05-29        1   \n",
       "19                  5             1           0 2007-05-29        1   \n",
       "20                  5             2           0 2007-05-29        0   \n",
       "21                  8             1           0 2007-05-29        1   \n",
       "22                  8             1           0 2007-05-29        1   \n",
       "23                  8             1           0 2007-05-29        0   \n",
       "24                  8             1           0 2007-05-29        0   \n",
       "25                  9             3           0 2007-06-05        1   \n",
       "26                  9             5           0 2007-06-05        0   \n",
       "27                  9             1           0 2007-06-05        1   \n",
       "28                  8             1           0 2007-06-05        1   \n",
       "29                  8             2           0 2007-06-05        0   \n",
       "...               ...           ...         ...        ...      ...   \n",
       "9663                5             2           0 2013-09-26        1   \n",
       "9664                5             1           0 2013-09-26        0   \n",
       "9665                5             1           0 2013-09-26        1   \n",
       "9666                8             5           0 2013-09-26        1   \n",
       "9667                8             5           0 2013-09-26        1   \n",
       "9668                8             5           0 2013-09-26        0   \n",
       "9669                8             4           0 2013-09-26        1   \n",
       "9670                8             1           0 2013-09-26        0   \n",
       "9671                9            39           1 2013-09-26        1   \n",
       "9672                9             4           0 2013-09-26        1   \n",
       "9673                9            16           0 2013-09-26        1   \n",
       "9674                9             9           0 2013-09-26        1   \n",
       "9675                9            11           0 2013-09-26        1   \n",
       "9676                9             1           0 2013-09-26        1   \n",
       "9677                8             1           0 2013-09-26        1   \n",
       "9678                9            11           0 2013-09-26        1   \n",
       "9679                9             1           0 2013-09-26        1   \n",
       "9680                8             3           0 2013-09-26        1   \n",
       "9681                5             7           0 2013-09-26        1   \n",
       "9682                5             1           0 2013-09-26        1   \n",
       "9683                9             3           0 2013-09-26        1   \n",
       "9684                5             8           0 2013-09-26        1   \n",
       "9685                9            13           0 2013-09-26        1   \n",
       "9686                9             5           0 2013-09-26        1   \n",
       "9687                8             3           0 2013-09-26        1   \n",
       "9688                8             6           1 2013-09-26        1   \n",
       "9689                8             5           0 2013-09-26        1   \n",
       "9690                9             1           0 2013-09-26        1   \n",
       "9691                9             5           0 2013-09-26        1   \n",
       "9692                8             1           0 2013-09-26        1   \n",
       "\n",
       "                ...              FG+  FU  DZ  VC  MI  BC  Days_Since_Spray  \\\n",
       "0               ...                0   0   0   0   0   0               720   \n",
       "1               ...                0   0   0   0   0   0               720   \n",
       "2               ...                0   0   0   0   0   0               720   \n",
       "3               ...                0   0   0   0   0   0               720   \n",
       "4               ...                0   0   0   0   0   0               720   \n",
       "5               ...                0   0   0   0   0   0               720   \n",
       "6               ...                0   0   0   0   0   0               720   \n",
       "7               ...                0   0   0   0   0   0               720   \n",
       "8               ...                0   0   0   0   0   0               720   \n",
       "9               ...                0   0   0   0   0   0               720   \n",
       "10              ...                0   0   0   0   0   0               720   \n",
       "11              ...                0   0   0   0   0   0               720   \n",
       "12              ...                0   0   0   0   0   0               720   \n",
       "13              ...                0   0   0   0   0   0               720   \n",
       "14              ...                0   0   0   0   0   0               720   \n",
       "15              ...                0   0   0   0   0   0               720   \n",
       "16              ...                0   0   0   0   0   0               720   \n",
       "17              ...                0   0   0   0   0   0               720   \n",
       "18              ...                0   0   0   0   0   0               720   \n",
       "19              ...                0   0   0   0   0   0               720   \n",
       "20              ...                0   0   0   0   0   0               720   \n",
       "21              ...                0   0   0   0   0   0               720   \n",
       "22              ...                0   0   0   0   0   0               720   \n",
       "23              ...                0   0   0   0   0   0               720   \n",
       "24              ...                0   0   0   0   0   0               720   \n",
       "25              ...                0   0   0   0   0   0               720   \n",
       "26              ...                0   0   0   0   0   0               720   \n",
       "27              ...                0   0   0   0   0   0               720   \n",
       "28              ...                0   0   0   0   0   0               720   \n",
       "29              ...                0   0   0   0   0   0               720   \n",
       "...             ...              ...  ..  ..  ..  ..  ..               ...   \n",
       "9663            ...                0   0   0   0   0   0                21   \n",
       "9664            ...                0   0   0   0   0   0                21   \n",
       "9665            ...                0   0   0   0   0   0                21   \n",
       "9666            ...                0   0   0   0   0   0                21   \n",
       "9667            ...                0   0   0   0   0   0                21   \n",
       "9668            ...                0   0   0   0   0   0                21   \n",
       "9669            ...                0   0   0   0   0   0                21   \n",
       "9670            ...                0   0   0   0   0   0                21   \n",
       "9671            ...                0   0   0   0   0   0                21   \n",
       "9672            ...                0   0   0   0   0   0                21   \n",
       "9673            ...                0   0   0   0   0   0                21   \n",
       "9674            ...                0   0   0   0   0   0                21   \n",
       "9675            ...                0   0   0   0   0   0                21   \n",
       "9676            ...                0   0   0   0   0   0                21   \n",
       "9677            ...                0   0   0   0   0   0                21   \n",
       "9678            ...                0   0   0   0   0   0                21   \n",
       "9679            ...                0   0   0   0   0   0                21   \n",
       "9680            ...                0   0   0   0   0   0                21   \n",
       "9681            ...                0   0   0   0   0   0                21   \n",
       "9682            ...                0   0   0   0   0   0                21   \n",
       "9683            ...                0   0   0   0   0   0                21   \n",
       "9684            ...                0   0   0   0   0   0                21   \n",
       "9685            ...                0   0   0   0   0   0                21   \n",
       "9686            ...                0   0   0   0   0   0                21   \n",
       "9687            ...                0   0   0   0   0   0                21   \n",
       "9688            ...                0   0   0   0   0   0                21   \n",
       "9689            ...                0   0   0   0   0   0                21   \n",
       "9690            ...                0   0   0   0   0   0                21   \n",
       "9691            ...                0   0   0   0   0   0                21   \n",
       "9692            ...                0   0   0   0   0   0                21   \n",
       "\n",
       "      Dist_to_Closest_Spray Week                   Daylight  \n",
       "0                  1.500000   22  0 days 14:56:00.000000000  \n",
       "1                  1.500000   22  0 days 14:56:00.000000000  \n",
       "2                  1.500000   22  0 days 14:56:00.000000000  \n",
       "3                  1.500000   22  0 days 14:56:00.000000000  \n",
       "4                  1.500000   22  0 days 14:56:00.000000000  \n",
       "5                  1.500000   22  0 days 14:56:00.000000000  \n",
       "6                  1.500000   22  0 days 14:56:00.000000000  \n",
       "7                  1.500000   22  0 days 14:56:00.000000000  \n",
       "8                  1.500000   22  0 days 14:56:00.000000000  \n",
       "9                  1.500000   22  0 days 14:56:00.000000000  \n",
       "10                 1.500000   22  0 days 14:56:00.000000000  \n",
       "11                 1.500000   22  0 days 14:56:00.000000000  \n",
       "12                 1.500000   22  0 days 14:56:00.000000000  \n",
       "13                 1.500000   22  0 days 14:56:00.000000000  \n",
       "14                 1.500000   22  0 days 14:56:00.000000000  \n",
       "15                 1.500000   22  0 days 14:56:00.000000000  \n",
       "16                 1.500000   22  0 days 14:56:00.000000000  \n",
       "17                 1.500000   22  0 days 14:56:00.000000000  \n",
       "18                 1.500000   22  0 days 14:56:00.000000000  \n",
       "19                 1.500000   22  0 days 14:56:00.000000000  \n",
       "20                 1.500000   22  0 days 14:56:00.000000000  \n",
       "21                 1.500000   22  0 days 14:56:00.000000000  \n",
       "22                 1.500000   22  0 days 14:56:00.000000000  \n",
       "23                 1.500000   22  0 days 14:56:00.000000000  \n",
       "24                 1.500000   22  0 days 14:56:00.000000000  \n",
       "25                 1.500000   23  0 days 15:06:00.000000000  \n",
       "26                 1.500000   23  0 days 15:06:00.000000000  \n",
       "27                 1.500000   23  0 days 15:06:00.000000000  \n",
       "28                 1.500000   23  0 days 15:06:00.000000000  \n",
       "29                 1.500000   23  0 days 15:06:00.000000000  \n",
       "...                     ...  ...                        ...  \n",
       "9663               0.433095   39  0 days 11:59:00.000000000  \n",
       "9664               0.433095   39  0 days 11:59:00.000000000  \n",
       "9665               0.433095   39  0 days 11:59:00.000000000  \n",
       "9666               0.075586   39  0 days 11:59:00.000000000  \n",
       "9667               0.591082   39  0 days 11:59:00.000000000  \n",
       "9668               0.591082   39  0 days 11:59:00.000000000  \n",
       "9669               0.591082   39  0 days 11:59:00.000000000  \n",
       "9670               0.028991   39  0 days 11:59:00.000000000  \n",
       "9671               0.046971   39  0 days 11:59:00.000000000  \n",
       "9672               0.046971   39  0 days 11:59:00.000000000  \n",
       "9673               0.046971   39  0 days 11:59:00.000000000  \n",
       "9674               0.046971   39  0 days 11:59:00.000000000  \n",
       "9675               0.046971   39  0 days 11:59:00.000000000  \n",
       "9676               0.046971   39  0 days 11:59:00.000000000  \n",
       "9677               0.117308   39  0 days 11:59:00.000000000  \n",
       "9678               0.024501   39  0 days 11:59:00.000000000  \n",
       "9679               0.024501   39  0 days 11:59:00.000000000  \n",
       "9680               0.314050   39  0 days 11:59:00.000000000  \n",
       "9681               0.459429   39  0 days 11:59:00.000000000  \n",
       "9682               0.459429   39  0 days 11:59:00.000000000  \n",
       "9683               0.170203   39  0 days 11:59:00.000000000  \n",
       "9684               0.340835   39  0 days 11:59:00.000000000  \n",
       "9685               0.128538   39  0 days 11:59:00.000000000  \n",
       "9686               0.128538   39  0 days 11:59:00.000000000  \n",
       "9687               0.111964   39  0 days 11:59:00.000000000  \n",
       "9688               0.282852   39  0 days 11:59:00.000000000  \n",
       "9689               0.135541   39  0 days 11:59:00.000000000  \n",
       "9690               0.208269   39  0 days 11:59:00.000000000  \n",
       "9691               0.000671   39  0 days 11:59:00.000000000  \n",
       "9692               0.385363   39  0 days 11:59:00.000000000  \n",
       "\n",
       "[9693 rows x 45 columns]"
      ]
     },
     "execution_count": 4,
     "metadata": {},
     "output_type": "execute_result"
    }
   ],
   "source": [
    "trainc"
   ]
  },
  {
   "cell_type": "code",
   "execution_count": 5,
   "metadata": {
    "collapsed": true
   },
   "outputs": [],
   "source": [
    "import matplotlib.pyplot as plt\n",
    "import seaborn as sns\n",
    "\n",
    "%matplotlib inline"
   ]
  },
  {
   "cell_type": "code",
   "execution_count": 6,
   "metadata": {
    "collapsed": true
   },
   "outputs": [],
   "source": [
    "sns.set(style = \"whitegrid\", color_codes = True)\n"
   ]
  },
  {
   "cell_type": "code",
   "execution_count": 7,
   "metadata": {
    "collapsed": false
   },
   "outputs": [
    {
     "data": {
      "text/plain": [
       "<matplotlib.axes._subplots.AxesSubplot at 0x10eb6f7d0>"
      ]
     },
     "execution_count": 7,
     "metadata": {},
     "output_type": "execute_result"
    },
    {
     "data": {
      "image/png": "[encoded data removed]",
      "text/plain": [
       "<matplotlib.figure.Figure at 0x10eb55fd0>"
      ]
     },
     "metadata": {},
     "output_type": "display_data"
    }
   ],
   "source": [
    "sns.heatmap(trainc.corr(), linewidths = 0.4, cmap = \"YlGnBu\")"
   ]
  },
  {
   "cell_type": "code",
   "execution_count": null,
   "metadata": {
    "collapsed": false
   },
   "outputs": [],
   "source": [
    "sns.pairplot(trainc, vars = [\"Block\", \"Latitude\", \"Longitude\", \"PIPIENS\", \"Tavg_int\", \"PrecipTotal\", \"DewPoint\", \"Days_Since_Spray\", \"Dist_to_Closest_Spray\"], hue = \"WnvPresent\")"
   ]
  },
  {
   "cell_type": "code",
   "execution_count": null,
   "metadata": {
    "collapsed": false
   },
   "outputs": [],
   "source": [
    "trainc.columns"
   ]
  },
  {
   "cell_type": "markdown",
   "metadata": {},
   "source": [
    "### Investigating distributions of possible explanatory variables, and how they differ according to \n",
    "### whether or not the virus was present"
   ]
  },
  {
   "cell_type": "code",
   "execution_count": null,
   "metadata": {
    "collapsed": false,
    "scrolled": false
   },
   "outputs": [],
   "source": [
    "sns.countplot(x = \"Block\", hue = \"WnvPresent\", data = trainc, palette = \"cool\")\n",
    "#plt.xlabel(\"Relationship to Descriptor\", fontsize = 24)\n",
    "#plt.title(\"Wage Disparity within Households\", fontsize = 32)\n",
    "plt.xticks(rotation = 90)"
   ]
  },
  {
   "cell_type": "code",
   "execution_count": null,
   "metadata": {
    "collapsed": false,
    "scrolled": true
   },
   "outputs": [],
   "source": [
    "trainc.groupby(\"WnvPresent\").Block.agg([\"median\", \"mean\", \"std\"]).sort_values(\"mean\")"
   ]
  },
  {
   "cell_type": "code",
   "execution_count": null,
   "metadata": {
    "collapsed": true
   },
   "outputs": [],
   "source": [
    "##the distribution of traps with west nile virus present by block is slightly shifted to the right, as compared to\n",
    "##traps without the virus present"
   ]
  },
  {
   "cell_type": "code",
   "execution_count": null,
   "metadata": {
    "collapsed": false
   },
   "outputs": [],
   "source": [
    "sns.countplot(x = \"Latitude\", hue = \"WnvPresent\", data = trainc, palette = \"cool\")\n",
    "#plt.xlabel(\"Relationship to Descriptor\", fontsize = 24)\n",
    "#plt.title(\"Wage Disparity within Households\", fontsize = 32)\n",
    "plt.xticks(rotation = 90)"
   ]
  },
  {
   "cell_type": "code",
   "execution_count": null,
   "metadata": {
    "collapsed": false,
    "scrolled": true
   },
   "outputs": [],
   "source": [
    "trainc.groupby(\"WnvPresent\").Latitude.agg([\"median\" ,\"mean\", \"std\"]).sort_values(\"mean\")"
   ]
  },
  {
   "cell_type": "code",
   "execution_count": null,
   "metadata": {
    "collapsed": true
   },
   "outputs": [],
   "source": [
    "##the distribution of traps with west nile virus present by latitude is slightly shifted to the right, as compared to\n",
    "##traps without the virus present (WNV more common at higher latitudes)"
   ]
  },
  {
   "cell_type": "code",
   "execution_count": null,
   "metadata": {
    "collapsed": false
   },
   "outputs": [],
   "source": [
    "sns.countplot(x = \"Longitude\", hue = \"WnvPresent\", data = trainc, palette = \"cool\")\n",
    "#plt.xlabel(\"Relationship to Descriptor\", fontsize = 24)\n",
    "#plt.title(\"Wage Disparity within Households\", fontsize = 32)\n",
    "plt.xticks(rotation = 90)"
   ]
  },
  {
   "cell_type": "code",
   "execution_count": null,
   "metadata": {
    "collapsed": false,
    "scrolled": true
   },
   "outputs": [],
   "source": [
    "trainc.groupby(\"WnvPresent\").Longitude.agg([\"median\", \"mean\", \"std\"]).sort_values(\"mean\")"
   ]
  },
  {
   "cell_type": "code",
   "execution_count": null,
   "metadata": {
    "collapsed": true
   },
   "outputs": [],
   "source": [
    "##the distribution of traps with west nile virus present by longitude is slightly shifted to the right, as compared to\n",
    "##traps without the virus present (WNV more common at more easterly latitudes)"
   ]
  },
  {
   "cell_type": "code",
   "execution_count": null,
   "metadata": {
    "collapsed": false
   },
   "outputs": [],
   "source": [
    "sns.countplot(x = \"Days_Since_Spray\", hue = \"WnvPresent\", data = trainc, palette = \"cool\")\n",
    "# plt.xlabel(\"Relationship to Descriptor\", fontsize = 24)\n",
    "# plt.title(\"Wage Disparity within Households\", fontsize = 32)\n",
    "plt.xticks(rotation = 60)"
   ]
  },
  {
   "cell_type": "code",
   "execution_count": null,
   "metadata": {
    "collapsed": false
   },
   "outputs": [],
   "source": [
    "trainc.groupby(\"WnvPresent\").Days_Since_Spray.agg([\"median\", \"mean\", \"std\"]).sort_values(\"mean\")"
   ]
  },
  {
   "cell_type": "code",
   "execution_count": null,
   "metadata": {
    "collapsed": true
   },
   "outputs": [],
   "source": [
    "##Hard to interpret this information\n",
    "##maybe a good predictor?"
   ]
  },
  {
   "cell_type": "code",
   "execution_count": null,
   "metadata": {
    "collapsed": false
   },
   "outputs": [],
   "source": [
    "sns.countplot(x=\"PIPIENS\", hue = \"WnvPresent\", data = trainc)"
   ]
  },
  {
   "cell_type": "code",
   "execution_count": null,
   "metadata": {
    "collapsed": false
   },
   "outputs": [],
   "source": [
    "sns.countplot(x=\"WnvPresent\", hue=\"PIPIENS\", data=trainc)"
   ]
  },
  {
   "cell_type": "code",
   "execution_count": null,
   "metadata": {
    "collapsed": false,
    "scrolled": true
   },
   "outputs": [],
   "source": [
    "sns.countplot(x = \"Species\", hue = \"WnvPresent\", data = trainc)\n",
    "plt.xticks(rotation = 60)"
   ]
  },
  {
   "cell_type": "code",
   "execution_count": null,
   "metadata": {
    "collapsed": false,
    "scrolled": true
   },
   "outputs": [],
   "source": [
    "trainc.groupby(\"WnvPresent\").PIPIENS.agg([\"median\", \"mean\", \"std\"]).sort_values(\"mean\")"
   ]
  },
  {
   "cell_type": "code",
   "execution_count": null,
   "metadata": {
    "collapsed": true
   },
   "outputs": [],
   "source": [
    "##whether or not Culex pipiens is found in a trap may be a good predictor of whether or not WNV is present"
   ]
  },
  {
   "cell_type": "code",
   "execution_count": null,
   "metadata": {
    "collapsed": false,
    "scrolled": true
   },
   "outputs": [],
   "source": [
    "trainc.groupby(\"PIPIENS\").WnvPresent.agg([\"median\", \"mean\", \"std\"]).sort_values(\"mean\")"
   ]
  },
  {
   "cell_type": "code",
   "execution_count": null,
   "metadata": {
    "collapsed": false
   },
   "outputs": [],
   "source": [
    "trainc.groupby(\"WnvPresent\").RESTUANS.agg([\"median\", \"mean\", \"std\"]).sort_values(\"mean\")"
   ]
  },
  {
   "cell_type": "code",
   "execution_count": null,
   "metadata": {
    "collapsed": false,
    "scrolled": true
   },
   "outputs": [],
   "source": [
    "trainc.groupby(\"RESTUANS\").WnvPresent.agg([\"median\", \"mean\", \"std\"]).sort_values(\"mean\")"
   ]
  },
  {
   "cell_type": "code",
   "execution_count": null,
   "metadata": {
    "collapsed": true
   },
   "outputs": [],
   "source": [
    "##So restuans NOT a good predictor of WNV Present"
   ]
  },
  {
   "cell_type": "code",
   "execution_count": null,
   "metadata": {
    "collapsed": false
   },
   "outputs": [],
   "source": [
    "trainc.groupby(\"Species\").WnvPresent.agg([\"median\", \"mean\", \"std\"]).sort_values(\"mean\")"
   ]
  },
  {
   "cell_type": "code",
   "execution_count": null,
   "metadata": {
    "collapsed": true
   },
   "outputs": [],
   "source": [
    "#Do we maybe want a variable for C. pipiens, C. restuans, and C. pipiens / C. restuans ??\n",
    "\n",
    "##NVM"
   ]
  },
  {
   "cell_type": "code",
   "execution_count": null,
   "metadata": {
    "collapsed": false
   },
   "outputs": [],
   "source": [
    "sns.countplot(x = \"Tavg_int\", hue = \"WnvPresent\", data = trainc)\n",
    "plt.xticks(rotation = 60)"
   ]
  },
  {
   "cell_type": "code",
   "execution_count": null,
   "metadata": {
    "collapsed": false
   },
   "outputs": [],
   "source": [
    "trainc.groupby(\"WnvPresent\").Tavg_int.agg([\"median\", \"mean\", \"std\"]).sort_values(\"mean\")"
   ]
  },
  {
   "cell_type": "code",
   "execution_count": null,
   "metadata": {
    "collapsed": true
   },
   "outputs": [],
   "source": [
    "##looks like average temp on a given day will be a good predictor of whether or not west nile is present in a trap"
   ]
  },
  {
   "cell_type": "code",
   "execution_count": null,
   "metadata": {
    "collapsed": false
   },
   "outputs": [],
   "source": [
    "sns.countplot(x = \"PrecipTotal\", hue = \"WnvPresent\", data = trainc)\n",
    "plt.xticks(rotation = 60)"
   ]
  },
  {
   "cell_type": "code",
   "execution_count": null,
   "metadata": {
    "collapsed": false
   },
   "outputs": [],
   "source": [
    "trainc.groupby(\"WnvPresent\").PrecipTotal.agg([\"median\", \"mean\", \"std\"]).sort_values(\"mean\")"
   ]
  },
  {
   "cell_type": "code",
   "execution_count": null,
   "metadata": {
    "collapsed": true
   },
   "outputs": [],
   "source": [
    "##PrecipTotal should be included, too"
   ]
  },
  {
   "cell_type": "code",
   "execution_count": null,
   "metadata": {
    "collapsed": false
   },
   "outputs": [],
   "source": [
    "sns.countplot(x = \"DewPoint\", hue = \"WnvPresent\", data = trainc)\n",
    "plt.xticks(rotation = 60)"
   ]
  },
  {
   "cell_type": "code",
   "execution_count": null,
   "metadata": {
    "collapsed": false
   },
   "outputs": [],
   "source": [
    "trainc.groupby(\"WnvPresent\").DewPoint.agg([\"median\", \"mean\", \"std\"]).sort_values(\"mean\")"
   ]
  },
  {
   "cell_type": "code",
   "execution_count": null,
   "metadata": {
    "collapsed": true
   },
   "outputs": [],
   "source": [
    "##Dew Point looks like a good predictor as well!"
   ]
  },
  {
   "cell_type": "code",
   "execution_count": null,
   "metadata": {
    "collapsed": false
   },
   "outputs": [],
   "source": [
    "# sns.countplot(x = \"Dist_to_Closest_Spray\", hue = \"WnvPresent\", data = trainc)\n",
    "# plt.xticks(rotation = 60)"
   ]
  },
  {
   "cell_type": "code",
   "execution_count": null,
   "metadata": {
    "collapsed": false
   },
   "outputs": [],
   "source": [
    "trainc.groupby(\"WnvPresent\").Dist_to_Closest_Spray.agg([\"median\", \"mean\", \"std\"]).sort_values(\"mean\")"
   ]
  },
  {
   "cell_type": "code",
   "execution_count": null,
   "metadata": {
    "collapsed": true
   },
   "outputs": [],
   "source": [
    "#probably a good predictor, graph is not fun to look at"
   ]
  },
  {
   "cell_type": "code",
   "execution_count": null,
   "metadata": {
    "collapsed": false
   },
   "outputs": [],
   "source": [
    "sns.countplot(x = \"WetBulb\", hue = \"WnvPresent\", data = trainc)\n",
    "plt.xticks(rotation = 60)"
   ]
  },
  {
   "cell_type": "code",
   "execution_count": null,
   "metadata": {
    "collapsed": false
   },
   "outputs": [],
   "source": [
    "trainc.groupby(\"WnvPresent\").WetBulb.agg([\"median\", \"mean\", \"std\"]).sort_values(\"mean\")"
   ]
  },
  {
   "cell_type": "code",
   "execution_count": null,
   "metadata": {
    "collapsed": true
   },
   "outputs": [],
   "source": [
    "##decent predictor"
   ]
  },
  {
   "cell_type": "code",
   "execution_count": null,
   "metadata": {
    "collapsed": false
   },
   "outputs": [],
   "source": [
    "sns.countplot(x = \"Sunrise\", hue = \"WnvPresent\", data = trainc)\n",
    "plt.xticks(rotation = 60)"
   ]
  },
  {
   "cell_type": "code",
   "execution_count": null,
   "metadata": {
    "collapsed": false,
    "scrolled": true
   },
   "outputs": [],
   "source": [
    "#trainc.groupby(\"WnvPresent\").Sunrise.agg([\"median\", \"mean\", \"std\"]).sort_values(\"mean\")"
   ]
  },
  {
   "cell_type": "code",
   "execution_count": null,
   "metadata": {
    "collapsed": true
   },
   "outputs": [],
   "source": [
    "##earlier Sunrise ~ increased likelihood of WnvPresent"
   ]
  },
  {
   "cell_type": "code",
   "execution_count": null,
   "metadata": {
    "collapsed": false,
    "scrolled": true
   },
   "outputs": [],
   "source": [
    "trainc.groupby(\"WnvPresent\").DZ.agg([\"median\", \"mean\", \"std\"]).sort_values(\"mean\") #nope (Drizzle)"
   ]
  },
  {
   "cell_type": "code",
   "execution_count": null,
   "metadata": {
    "collapsed": false
   },
   "outputs": [],
   "source": [
    "trainc.groupby(\"WnvPresent\").FG.agg([\"median\", \"mean\", \"std\"]).sort_values(\"mean\") #yep (Fog)"
   ]
  },
  {
   "cell_type": "code",
   "execution_count": null,
   "metadata": {
    "collapsed": false
   },
   "outputs": [],
   "source": [
    "trainc.groupby(\"WnvPresent\").BR.agg([\"median\", \"mean\", \"std\"]).sort_values(\"mean\") #yep (Mist)"
   ]
  },
  {
   "cell_type": "code",
   "execution_count": null,
   "metadata": {
    "collapsed": false
   },
   "outputs": [],
   "source": [
    "trainc.groupby(\"WnvPresent\").RA.agg([\"median\", \"mean\", \"std\"]).sort_values(\"mean\") #ehhhhhhhhh (Rain)"
   ]
  },
  {
   "cell_type": "code",
   "execution_count": null,
   "metadata": {
    "collapsed": false
   },
   "outputs": [],
   "source": [
    "trainc.groupby(\"WnvPresent\").TS.agg([\"median\", \"mean\", \"std\"]).sort_values(\"mean\") #eh? (Thunderstorm)"
   ]
  },
  {
   "cell_type": "code",
   "execution_count": null,
   "metadata": {
    "collapsed": false
   },
   "outputs": [],
   "source": [
    "trainc.groupby(\"WnvPresent\").HZ.agg([\"median\", \"mean\", \"std\"]).sort_values(\"mean\") #yeah .... (Haze)"
   ]
  },
  {
   "cell_type": "code",
   "execution_count": null,
   "metadata": {
    "collapsed": false
   },
   "outputs": [],
   "source": [
    "trainc.groupby(\"WnvPresent\").VC.agg([\"median\", \"mean\", \"std\"]).sort_values(\"mean\") #good predictor of not WNV ... (vicinity)"
   ]
  },
  {
   "cell_type": "code",
   "execution_count": null,
   "metadata": {
    "collapsed": false
   },
   "outputs": [],
   "source": [
    "sns.countplot(x = \"StnPressure\", hue = \"WnvPresent\", data = trainc)\n",
    "plt.xticks(rotation = 60)"
   ]
  },
  {
   "cell_type": "code",
   "execution_count": null,
   "metadata": {
    "collapsed": false
   },
   "outputs": [],
   "source": [
    "trainc.groupby(\"WnvPresent\").StnPressure.agg([\"median\", \"mean\", \"std\"]).sort_values(\"mean\") #maybe"
   ]
  },
  {
   "cell_type": "code",
   "execution_count": null,
   "metadata": {
    "collapsed": false
   },
   "outputs": [],
   "source": [
    "sns.countplot(x = \"SeaLevel\", hue = \"WnvPresent\", data = trainc)\n",
    "plt.xticks(rotation = 60)"
   ]
  },
  {
   "cell_type": "code",
   "execution_count": null,
   "metadata": {
    "collapsed": false
   },
   "outputs": [],
   "source": [
    "trainc.groupby(\"WnvPresent\").SeaLevel.agg([\"median\", \"mean\", \"std\"]).sort_values(\"mean\") #no"
   ]
  },
  {
   "cell_type": "code",
   "execution_count": null,
   "metadata": {
    "collapsed": false
   },
   "outputs": [],
   "source": [
    "sns.countplot(x = \"ResultSpeed\", hue = \"WnvPresent\", data = trainc)\n",
    "plt.xticks(rotation = 90)"
   ]
  },
  {
   "cell_type": "code",
   "execution_count": null,
   "metadata": {
    "collapsed": false
   },
   "outputs": [],
   "source": [
    "trainc.groupby(\"WnvPresent\").ResultSpeed.agg([\"median\", \"mean\", \"std\"]).sort_values(\"mean\") #maybe"
   ]
  },
  {
   "cell_type": "code",
   "execution_count": null,
   "metadata": {
    "collapsed": false
   },
   "outputs": [],
   "source": [
    "sns.countplot(x = \"ResultDir\", hue = \"WnvPresent\", data = trainc)\n",
    "plt.xticks(rotation = 60)"
   ]
  },
  {
   "cell_type": "code",
   "execution_count": null,
   "metadata": {
    "collapsed": false
   },
   "outputs": [],
   "source": [
    "trainc.groupby(\"WnvPresent\").ResultDir.agg([\"median\", \"mean\", \"std\"]).sort_values(\"mean\") #maybe"
   ]
  },
  {
   "cell_type": "code",
   "execution_count": null,
   "metadata": {
    "collapsed": false
   },
   "outputs": [],
   "source": [
    "sns.countplot(x = \"AvgSpeed\", hue = \"WnvPresent\", data = trainc)\n",
    "plt.xticks(rotation = 60)"
   ]
  },
  {
   "cell_type": "code",
   "execution_count": null,
   "metadata": {
    "collapsed": false
   },
   "outputs": [],
   "source": [
    "trainc.groupby(\"WnvPresent\").AvgSpeed.agg([\"median\", \"mean\", \"std\"]).sort_values(\"mean\") #maybe"
   ]
  },
  {
   "cell_type": "code",
   "execution_count": null,
   "metadata": {
    "collapsed": true
   },
   "outputs": [],
   "source": []
  },
  {
   "cell_type": "code",
   "execution_count": null,
   "metadata": {
    "collapsed": false
   },
   "outputs": [],
   "source": [
    "trainc.columns"
   ]
  },
  {
   "cell_type": "code",
   "execution_count": null,
   "metadata": {
    "collapsed": true
   },
   "outputs": [],
   "source": []
  },
  {
   "cell_type": "code",
   "execution_count": null,
   "metadata": {
    "collapsed": true
   },
   "outputs": [],
   "source": [
    "# df['year'] = df['ArrivalDate'].dt.year\n",
    "# df['month'] = df['ArrivalDate'].dt.month"
   ]
  },
  {
   "cell_type": "code",
   "execution_count": null,
   "metadata": {
    "collapsed": true
   },
   "outputs": [],
   "source": [
    "#trainc[\"Month\"] = trainc[\"YMD\"].dt.month"
   ]
  },
  {
   "cell_type": "code",
   "execution_count": null,
   "metadata": {
    "collapsed": false
   },
   "outputs": [],
   "source": [
    "#trainc[\"Day\"] = trainc[\"YMD\"].dt.day"
   ]
  },
  {
   "cell_type": "code",
   "execution_count": null,
   "metadata": {
    "collapsed": true
   },
   "outputs": [],
   "source": [
    "trainc[\"Week\"] = trainc[\"YMD\"].dt.week"
   ]
  },
  {
   "cell_type": "code",
   "execution_count": null,
   "metadata": {
    "collapsed": false
   },
   "outputs": [],
   "source": [
    "trainc.Week.dtype"
   ]
  },
  {
   "cell_type": "code",
   "execution_count": null,
   "metadata": {
    "collapsed": true
   },
   "outputs": [],
   "source": [
    "#trainc[\"MD\"] = trainc[\"YMD\"].apply(lambda x: x.strftime(\"%B-%d\")[2:])   "
   ]
  },
  {
   "cell_type": "code",
   "execution_count": null,
   "metadata": {
    "collapsed": false
   },
   "outputs": [],
   "source": [
    "#trainc.MD #super cool, outputs \"May\" instead of \"05\", but it's a string"
   ]
  },
  {
   "cell_type": "code",
   "execution_count": null,
   "metadata": {
    "collapsed": false
   },
   "outputs": [],
   "source": [
    "#trainc.MD = pd.to_datetime(trainc.MD, format = \"%B-%d\")"
   ]
  },
  {
   "cell_type": "code",
   "execution_count": null,
   "metadata": {
    "collapsed": false
   },
   "outputs": [],
   "source": [
    "#trainc.MD.dtype"
   ]
  },
  {
   "cell_type": "code",
   "execution_count": null,
   "metadata": {
    "collapsed": false,
    "scrolled": true
   },
   "outputs": [],
   "source": [
    "#trainc.MD.head() #gross makes the year 1900. No thanks"
   ]
  },
  {
   "cell_type": "code",
   "execution_count": null,
   "metadata": {
    "collapsed": true
   },
   "outputs": [],
   "source": [
    "#trainc.MD = trainc.MD.apply(lambda x: x)"
   ]
  },
  {
   "cell_type": "code",
   "execution_count": null,
   "metadata": {
    "collapsed": false
   },
   "outputs": [],
   "source": [
    "sns.countplot(x = \"Week\", hue = \"WnvPresent\", data = trainc)\n",
    "plt.xticks(rotation = 60)"
   ]
  },
  {
   "cell_type": "code",
   "execution_count": null,
   "metadata": {
    "collapsed": false
   },
   "outputs": [],
   "source": [
    "trainc.groupby(\"WnvPresent\").Week.agg([\"median\", \"mean\", \"std\"]).sort_values(\"mean\") #maybe"
   ]
  },
  {
   "cell_type": "code",
   "execution_count": null,
   "metadata": {
    "collapsed": true
   },
   "outputs": [],
   "source": [
    "##Week looks like a strong predictor"
   ]
  },
  {
   "cell_type": "code",
   "execution_count": null,
   "metadata": {
    "collapsed": false,
    "scrolled": true
   },
   "outputs": [],
   "source": [
    "trainc.Sunrise.head()"
   ]
  },
  {
   "cell_type": "code",
   "execution_count": null,
   "metadata": {
    "collapsed": false
   },
   "outputs": [],
   "source": [
    "trainc[\"Sunset\"] = pd.to_datetime(trainc[\"Sunset\"], format = \"%H%M\")"
   ]
  },
  {
   "cell_type": "code",
   "execution_count": null,
   "metadata": {
    "collapsed": false
   },
   "outputs": [],
   "source": [
    "trainc[\"Sunrise\"] = pd.to_datetime(trainc[\"Sunrise\"], format = \"%H%M\")"
   ]
  },
  {
   "cell_type": "code",
   "execution_count": null,
   "metadata": {
    "collapsed": false
   },
   "outputs": [],
   "source": [
    "trainc[\"Daylight\"] = trainc.Sunset - trainc.Sunrise"
   ]
  },
  {
   "cell_type": "code",
   "execution_count": null,
   "metadata": {
    "collapsed": false,
    "scrolled": true
   },
   "outputs": [],
   "source": [
    "trainc.Daylight"
   ]
  },
  {
   "cell_type": "code",
   "execution_count": null,
   "metadata": {
    "collapsed": false
   },
   "outputs": [],
   "source": [
    "trainc.columns"
   ]
  },
  {
   "cell_type": "code",
   "execution_count": null,
   "metadata": {
    "collapsed": false
   },
   "outputs": [],
   "source": [
    "sns.countplot(x = \"Daylight\", hue = \"WnvPresent\", data = trainc)\n",
    "plt.xticks(rotation = 60)"
   ]
  },
  {
   "cell_type": "code",
   "execution_count": null,
   "metadata": {
    "collapsed": false
   },
   "outputs": [],
   "source": [
    "trainc.groupby(\"WnvPresent\").Daylight.agg([\"median\", \"mean\", \"std\"]).sort_values(\"mean\") #maybe"
   ]
  },
  {
   "cell_type": "code",
   "execution_count": null,
   "metadata": {
    "collapsed": false
   },
   "outputs": [],
   "source": [
    "trainc = trainc.to_csv(\"../assets/train_complete.csv\", index = False, encoding = \"utf-8\")"
   ]
  },
  {
   "cell_type": "code",
   "execution_count": null,
   "metadata": {
    "collapsed": true
   },
   "outputs": [],
   "source": []
  }
 ],
 "metadata": {
  "kernelspec": {
   "display_name": "Python 2",
   "language": "python",
   "name": "python2"
  },
  "language_info": {
   "codemirror_mode": {
    "name": "ipython",
    "version": 2
   },
   "file_extension": ".py",
   "mimetype": "text/x-python",
   "name": "python",
   "nbconvert_exporter": "python",
   "pygments_lexer": "ipython2",
   "version": "2.7.13"
  }
 },
 "nbformat": 4,
 "nbformat_minor": 2
}
